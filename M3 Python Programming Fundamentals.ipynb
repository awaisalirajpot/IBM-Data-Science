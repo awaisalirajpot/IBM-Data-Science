{
 "cells": [
  {
   "cell_type": "markdown",
   "id": "dce69b13-524f-4958-b5c3-e7e5d274376a",
   "metadata": {},
   "source": [
    "#### Python Programming Fundamentals\n",
    "1. Conditions and branchings\n",
    "2. loops\n",
    "3. Functions\n",
    "4. Exception handling\n",
    "5. Objects and classes (Foundation of oops)\n",
    "6. Understand attributes and methods\n",
    "7. How real world problems can be modeled using OOP principles"
   ]
  },
  {
   "cell_type": "markdown",
   "id": "82358963-98c8-4e15-88bc-986503c1e7fb",
   "metadata": {},
   "source": [
    "#### Conditions and Branching"
   ]
  },
  {
   "cell_type": "code",
   "execution_count": 1,
   "id": "c22e56c6-4464-459b-ae9b-0f75b7d14699",
   "metadata": {},
   "outputs": [
    {
     "data": {
      "text/plain": [
       "False"
      ]
     },
     "execution_count": 1,
     "metadata": {},
     "output_type": "execute_result"
    }
   ],
   "source": [
    "a = 6\n",
    "a == 7"
   ]
  },
  {
   "cell_type": "code",
   "execution_count": 2,
   "id": "4a2686d2-44cf-4629-937f-a7e85bd7e3c8",
   "metadata": {},
   "outputs": [
    {
     "data": {
      "text/plain": [
       "True"
      ]
     },
     "execution_count": 2,
     "metadata": {},
     "output_type": "execute_result"
    }
   ],
   "source": [
    "a == 6"
   ]
  },
  {
   "cell_type": "code",
   "execution_count": 3,
   "id": "f73ccfaf-dfec-430f-8f85-d44ae346f5ad",
   "metadata": {},
   "outputs": [
    {
     "data": {
      "text/plain": [
       "True"
      ]
     },
     "execution_count": 3,
     "metadata": {},
     "output_type": "execute_result"
    }
   ],
   "source": [
    "6>3"
   ]
  },
  {
   "cell_type": "code",
   "execution_count": 4,
   "id": "590b0856-5894-4535-a82d-1cdb570f7782",
   "metadata": {},
   "outputs": [
    {
     "data": {
      "text/plain": [
       "True"
      ]
     },
     "execution_count": 4,
     "metadata": {},
     "output_type": "execute_result"
    }
   ],
   "source": [
    "6 != 4"
   ]
  },
  {
   "cell_type": "code",
   "execution_count": 5,
   "id": "602ad635-a9de-45a4-ab04-63ae6f4726e1",
   "metadata": {},
   "outputs": [
    {
     "data": {
      "text/plain": [
       "True"
      ]
     },
     "execution_count": 5,
     "metadata": {},
     "output_type": "execute_result"
    }
   ],
   "source": [
    "\"Awais\" == \"Awais\""
   ]
  },
  {
   "cell_type": "code",
   "execution_count": 6,
   "id": "0795592b-c297-4fb6-86a0-f1731303922f",
   "metadata": {},
   "outputs": [
    {
     "name": "stdin",
     "output_type": "stream",
     "text": [
      "Enter your age 2\n"
     ]
    },
    {
     "name": "stdout",
     "output_type": "stream",
     "text": [
      "Cannot ente\n"
     ]
    }
   ],
   "source": [
    "age = int(input(\"Enter your age\"))\n",
    "if age < 18:\n",
    "    print(\"Cannot ente\")"
   ]
  },
  {
   "cell_type": "code",
   "execution_count": 7,
   "id": "c4ed237e-b045-4209-831a-4e0e6ae4802e",
   "metadata": {},
   "outputs": [
    {
     "data": {
      "text/plain": [
       "True"
      ]
     },
     "execution_count": 7,
     "metadata": {},
     "output_type": "execute_result"
    }
   ],
   "source": [
    "'B' > 'A'"
   ]
  },
  {
   "cell_type": "code",
   "execution_count": 8,
   "id": "948c6c4f-4108-43de-bd44-d88f48631625",
   "metadata": {},
   "outputs": [
    {
     "data": {
      "text/plain": [
       "True"
      ]
     },
     "execution_count": 8,
     "metadata": {},
     "output_type": "execute_result"
    }
   ],
   "source": [
    "'BA' > 'AB'"
   ]
  },
  {
   "cell_type": "code",
   "execution_count": 9,
   "id": "965a7974-26dd-4301-9b15-ef5e34479a3b",
   "metadata": {},
   "outputs": [
    {
     "data": {
      "text/plain": [
       "True"
      ]
     },
     "execution_count": 9,
     "metadata": {},
     "output_type": "execute_result"
    }
   ],
   "source": [
    "'a' > 'A'"
   ]
  },
  {
   "cell_type": "code",
   "execution_count": 10,
   "id": "46f5ba7a-0879-42e6-8e9a-b6baf3629c56",
   "metadata": {},
   "outputs": [
    {
     "ename": "SyntaxError",
     "evalue": "cannot assign to literal here. Maybe you meant '==' instead of '='? (690182220.py, line 1)",
     "output_type": "error",
     "traceback": [
      "\u001b[1;36m  Cell \u001b[1;32mIn[10], line 1\u001b[1;36m\u001b[0m\n\u001b[1;33m    1 = 2\u001b[0m\n\u001b[1;37m    ^\u001b[0m\n\u001b[1;31mSyntaxError\u001b[0m\u001b[1;31m:\u001b[0m cannot assign to literal here. Maybe you meant '==' instead of '='?\n"
     ]
    }
   ],
   "source": [
    "1 = 2"
   ]
  },
  {
   "cell_type": "code",
   "execution_count": 11,
   "id": "a908ff06-0a71-4374-922f-14527b3c0ffc",
   "metadata": {},
   "outputs": [
    {
     "data": {
      "text/plain": [
       "False"
      ]
     },
     "execution_count": 11,
     "metadata": {},
     "output_type": "execute_result"
    }
   ],
   "source": [
    "'a' == 'A'"
   ]
  },
  {
   "cell_type": "markdown",
   "id": "68e0fab9-e46b-4ff5-88ac-6c1b8c45e068",
   "metadata": {},
   "source": [
    "#### Loops"
   ]
  },
  {
   "cell_type": "code",
   "execution_count": 12,
   "id": "e770c872-2860-4855-bfc4-fdecb2c8ed21",
   "metadata": {},
   "outputs": [
    {
     "data": {
      "text/plain": [
       "range(0, 3)"
      ]
     },
     "execution_count": 12,
     "metadata": {},
     "output_type": "execute_result"
    }
   ],
   "source": [
    "range(3)"
   ]
  },
  {
   "cell_type": "code",
   "execution_count": 13,
   "id": "71e621d2-6d05-4dbb-a016-9613fb0edc21",
   "metadata": {},
   "outputs": [
    {
     "data": {
      "text/plain": [
       "range(10, 14)"
      ]
     },
     "execution_count": 13,
     "metadata": {},
     "output_type": "execute_result"
    }
   ],
   "source": [
    "range(10,14)"
   ]
  },
  {
   "cell_type": "code",
   "execution_count": 14,
   "id": "72f7149e-dd27-4fa8-a632-6e81b26d44de",
   "metadata": {},
   "outputs": [
    {
     "name": "stdout",
     "output_type": "stream",
     "text": [
      "10\n",
      "11\n",
      "12\n",
      "13\n"
     ]
    }
   ],
   "source": [
    "for i in range(10,14):\n",
    "    print(i)"
   ]
  },
  {
   "cell_type": "code",
   "execution_count": 18,
   "id": "5ebe7581-4d99-4eb8-8c9b-e1172d78da7d",
   "metadata": {},
   "outputs": [
    {
     "name": "stdout",
     "output_type": "stream",
     "text": [
      "['White', 'yellow', 'green', 'purple', 'blue']\n",
      "['White', 'White', 'green', 'purple', 'blue']\n",
      "['White', 'White', 'White', 'purple', 'blue']\n",
      "['White', 'White', 'White', 'White', 'blue']\n",
      "['White', 'White', 'White', 'White', 'White']\n"
     ]
    }
   ],
   "source": [
    "Squares = ['red', 'yellow', 'green', 'purple', 'blue']\n",
    "for i in range(0,5):\n",
    "    Squares[i] = \"White\"\n",
    "    print(Squares)"
   ]
  },
  {
   "cell_type": "code",
   "execution_count": 1,
   "id": "ad35e380-ec71-4196-9c35-0d0729a1aa8b",
   "metadata": {},
   "outputs": [
    {
     "data": {
      "text/plain": [
       "12"
      ]
     },
     "execution_count": 1,
     "metadata": {},
     "output_type": "execute_result"
    }
   ],
   "source": [
    "4*3"
   ]
  },
  {
   "cell_type": "code",
   "execution_count": 3,
   "id": "ae0e3282-72ba-498f-bb3c-92f44d8971f9",
   "metadata": {},
   "outputs": [
    {
     "ename": "NameError",
     "evalue": "name 'Squares' is not defined",
     "output_type": "error",
     "traceback": [
      "\u001b[1;31m---------------------------------------------------------------------------\u001b[0m",
      "\u001b[1;31mNameError\u001b[0m                                 Traceback (most recent call last)",
      "Cell \u001b[1;32mIn[3], line 1\u001b[0m\n\u001b[1;32m----> 1\u001b[0m \u001b[38;5;28;01mfor\u001b[39;00m i, supuare \u001b[38;5;129;01min\u001b[39;00m \u001b[38;5;28menumerate\u001b[39m(Squares):\n\u001b[0;32m      2\u001b[0m     square\n\u001b[0;32m      3\u001b[0m     i\n",
      "\u001b[1;31mNameError\u001b[0m: name 'Squares' is not defined"
     ]
    }
   ],
   "source": [
    "for i, supuare in enumerate(Squares):\n",
    "    square\n",
    "    i"
   ]
  },
  {
   "cell_type": "code",
   "execution_count": 5,
   "id": "0d65efc8-977c-4120-a224-00a2407a31c6",
   "metadata": {},
   "outputs": [
    {
     "name": "stdout",
     "output_type": "stream",
     "text": [
      "Red\n",
      "0\n",
      "Yellow\n",
      "1\n",
      "Green\n",
      "2\n"
     ]
    }
   ],
   "source": [
    "Squares = [\"Red\", \"Yellow\", \"Green\"]\n",
    "for i, square in enumerate(Squares):\n",
    "    print(square)\n",
    "    print(i)"
   ]
  },
  {
   "cell_type": "code",
   "execution_count": 6,
   "id": "b967b098-9b2b-48f3-8b86-40a1660acd8b",
   "metadata": {},
   "outputs": [],
   "source": [
    "## While loops"
   ]
  },
  {
   "cell_type": "code",
   "execution_count": 7,
   "id": "927fe7ca-989b-4037-8436-3ec56b7a89ee",
   "metadata": {},
   "outputs": [
    {
     "name": "stdout",
     "output_type": "stream",
     "text": [
      "['orange']\n",
      "['orange', 'orange']\n"
     ]
    }
   ],
   "source": [
    "squares = ['orange', 'orange', 'purple', 'blue']\n",
    "New_squares = []\n",
    "i = 0\n",
    "while (squares[i] == 'orange'):\n",
    "    New_squares.append(squares[i])\n",
    "    i += 1\n",
    "    print(New_squares)"
   ]
  },
  {
   "cell_type": "code",
   "execution_count": 8,
   "id": "f6377356-822a-44e1-ae99-af529205754f",
   "metadata": {},
   "outputs": [
    {
     "name": "stdout",
     "output_type": "stream",
     "text": [
      "At position 0, I found a apple\n",
      "At position 1, I found a orange\n",
      "At position 2, I found a cucamber\n",
      "At position 3, I found a guava\n"
     ]
    }
   ],
   "source": [
    "### The Enumerated for Loop\n",
    "fruits = ['apple', 'orange', 'cucamber', 'guava']\n",
    "for index, fruit in enumerate(fruits):\n",
    "    print(f\"At position {index}, I found a {fruit}\")"
   ]
  },
  {
   "cell_type": "code",
   "execution_count": 9,
   "id": "777e4b08-534e-4ba8-a980-3571625090c5",
   "metadata": {},
   "outputs": [
    {
     "name": "stdout",
     "output_type": "stream",
     "text": [
      "At index 0. I found blue\n",
      "At index 1. I found green\n",
      "At index 2. I found white\n",
      "At index 3. I found black\n"
     ]
    }
   ],
   "source": [
    "## Giving it a practice \n",
    "colors = ['blue', 'green', 'white', 'black']\n",
    "for i, color in enumerate(colors):\n",
    "    print(f'At index {i}. I found {color}')"
   ]
  },
  {
   "cell_type": "code",
   "execution_count": 15,
   "id": "0dad8bd0-daee-41b4-9af8-ad0f9576dd2a",
   "metadata": {},
   "outputs": [
    {
     "name": "stdout",
     "output_type": "stream",
     "text": [
      "1\n",
      "2\n",
      "3\n",
      "4\n",
      "5\n",
      "6\n",
      "7\n",
      "8\n",
      "9\n",
      "10\n"
     ]
    }
   ],
   "source": [
    "count = 1\n",
    "while count <= 10:\n",
    "    print(count)\n",
    "    count += 1"
   ]
  },
  {
   "cell_type": "code",
   "execution_count": 16,
   "id": "27351aee-8b67-4713-b5c0-1c1b9b3bb00f",
   "metadata": {},
   "outputs": [
    {
     "name": "stdout",
     "output_type": "stream",
     "text": [
      "0\n",
      "1\n",
      "2\n"
     ]
    }
   ],
   "source": [
    "for x in range(0,3):\n",
    "    print(x)"
   ]
  },
  {
   "cell_type": "code",
   "execution_count": 17,
   "id": "96f1ea3d-d6f1-4b80-a1e3-050a89812293",
   "metadata": {},
   "outputs": [
    {
     "name": "stdout",
     "output_type": "stream",
     "text": [
      "AA\n",
      "BA\n",
      "CA\n"
     ]
    }
   ],
   "source": [
    "for x in ['A', 'B', 'C']:\n",
    "    print(x + 'A')"
   ]
  },
  {
   "cell_type": "code",
   "execution_count": 18,
   "id": "1a227c79-3711-45b7-9ee0-a02ce7ea62c2",
   "metadata": {},
   "outputs": [
    {
     "name": "stdout",
     "output_type": "stream",
     "text": [
      "1823\n",
      "4213\n",
      "2311\n"
     ]
    }
   ],
   "source": [
    "dates = [1823, 4213, 2311]\n",
    "N = len(dates)\n",
    "for i in range(N):\n",
    "    print(dates[i])"
   ]
  },
  {
   "cell_type": "code",
   "execution_count": 19,
   "id": "9ba3d4d4-93d6-4d5b-bfcf-6a78c63663d3",
   "metadata": {},
   "outputs": [
    {
     "name": "stdout",
     "output_type": "stream",
     "text": [
      "1823\n",
      "4213\n",
      "2311\n"
     ]
    }
   ],
   "source": [
    "for i in dates:\n",
    "    print(i)"
   ]
  },
  {
   "cell_type": "code",
   "execution_count": 20,
   "id": "789da583-1d47-4cef-a0eb-64da02ee2000",
   "metadata": {},
   "outputs": [
    {
     "name": "stdout",
     "output_type": "stream",
     "text": [
      "Before square 0 is red\n",
      "After square 0 is white\n",
      "Before square 1 is blue\n",
      "After square 1 is white\n",
      "Before square 2 is white\n",
      "After square 2 is white\n",
      "Before square 3 is green\n",
      "After square 3 is white\n",
      "Before square 4 is purple\n",
      "After square 4 is white\n"
     ]
    }
   ],
   "source": [
    "squares = ['red', 'blue', 'white', 'green', 'purple', 'white']\n",
    "for i in range(0,5):\n",
    "    print('Before square', i, 'is', squares[i])\n",
    "    squares[i] = 'white'\n",
    "    print('After square', i, 'is', squares[i])"
   ]
  },
  {
   "cell_type": "code",
   "execution_count": 21,
   "id": "ee690f50-034d-4d62-a236-0d4e03bd9696",
   "metadata": {},
   "outputs": [
    {
     "name": "stdout",
     "output_type": "stream",
     "text": [
      "1432\n",
      "3212\n",
      "43\n",
      "It took 3 repitiions to get out of loop.\n"
     ]
    }
   ],
   "source": [
    "dates = [1432, 3212, 43, 22]\n",
    "i = 0\n",
    "year = dates[0]\n",
    "while (year != 22):\n",
    "    print(year)\n",
    "    i += 1\n",
    "    year = dates[i]\n",
    "print(\"It took\", i , \"repitiions to get out of loop.\")"
   ]
  },
  {
   "cell_type": "code",
   "execution_count": 22,
   "id": "97c540fa-6e6b-4fc9-8076-6e155d83b795",
   "metadata": {},
   "outputs": [
    {
     "name": "stdout",
     "output_type": "stream",
     "text": [
      "0\n",
      "1\n",
      "2\n",
      "3\n",
      "4\n",
      "Breaking the loop at 5\n"
     ]
    }
   ],
   "source": [
    "for num in range(0,10):\n",
    "    if num == 5:\n",
    "        print('Breaking the loop at', num)\n",
    "        break\n",
    "    print(num)"
   ]
  },
  {
   "cell_type": "code",
   "execution_count": 28,
   "id": "06160f72-e7be-4735-b9f1-51e330b2af4e",
   "metadata": {},
   "outputs": [
    {
     "ename": "SyntaxError",
     "evalue": "'continue' not properly in loop (3039480799.py, line 2)",
     "output_type": "error",
     "traceback": [
      "\u001b[1;36m  Cell \u001b[1;32mIn[28], line 2\u001b[1;36m\u001b[0m\n\u001b[1;33m    continue\u001b[0m\n\u001b[1;37m    ^\u001b[0m\n\u001b[1;31mSyntaxError\u001b[0m\u001b[1;31m:\u001b[0m 'continue' not properly in loop\n"
     ]
    }
   ],
   "source": [
    "if num == 5:\n",
    "    continue\n",
    "    print('Skipping the value:', num)\n",
    "    print(num)"
   ]
  },
  {
   "cell_type": "code",
   "execution_count": 31,
   "id": "8af565de-5855-4a79-bd71-4e90069930af",
   "metadata": {},
   "outputs": [
    {
     "name": "stdout",
     "output_type": "stream",
     "text": [
      "2\n",
      "4\n",
      "5\n"
     ]
    }
   ],
   "source": [
    "for num in range(2,6):\n",
    "    if num == 3:\n",
    "        continue\n",
    "    print(num)"
   ]
  },
  {
   "cell_type": "code",
   "execution_count": 30,
   "id": "a45ef356-d2de-4fca-b30f-ac862150d206",
   "metadata": {},
   "outputs": [
    {
     "name": "stdout",
     "output_type": "stream",
     "text": [
      "1\n",
      "2\n",
      "4\n",
      "5\n"
     ]
    }
   ],
   "source": [
    "for num in range(1, 6):\n",
    "    if num == 3:\n",
    "        continue\n",
    "    print(num)"
   ]
  },
  {
   "cell_type": "code",
   "execution_count": 32,
   "id": "ebb5ecdf-2989-4175-920c-beca0bd06b6c",
   "metadata": {},
   "outputs": [
    {
     "name": "stdout",
     "output_type": "stream",
     "text": [
      "1\n",
      "2\n",
      "4\n",
      "5\n",
      "6\n",
      "7\n"
     ]
    }
   ],
   "source": [
    "count = 0\n",
    "while count < 10:\n",
    "    count += 1\n",
    "    if count == 3:\n",
    "        continue\n",
    "    if count == 8:\n",
    "        break\n",
    "    print(count) #3 will be skipped start from zero to 7"
   ]
  },
  {
   "cell_type": "code",
   "execution_count": 33,
   "id": "1cf644ae-097a-4d8b-94c9-c304c81b4cd8",
   "metadata": {},
   "outputs": [
    {
     "name": "stdout",
     "output_type": "stream",
     "text": [
      "10\n",
      "9.5\n",
      "8\n"
     ]
    }
   ],
   "source": [
    "PlayListRatings = [10, 9.5, 10, 8, 7.5, 5, 10, 10]\n",
    "i = 0\n",
    "Rating = PlayListRatings[0]\n",
    "while(i < len(PlayListRatings) and Rating >= 6):\n",
    "    print(Rating)\n",
    "    i = i + 1 # This prints the value 10 only once \n",
    "    Rating = PlayListRatings[i]\n",
    "    i = i + 1 #Try uncommenting the line and comment the previous i = i + 1, and see the difference, 10 value will get printed twice because when the loop starts it will print Rating and then with PlayListRatings[0], it will again assign the value 10 to Ratings. "
   ]
  },
  {
   "cell_type": "markdown",
   "id": "bb5d16e0-f0d2-4d67-92db-edf15e0bb12f",
   "metadata": {},
   "source": [
    "#### Functions"
   ]
  },
  {
   "cell_type": "code",
   "execution_count": 38,
   "id": "55f3b71a-35c5-4b70-a3a5-5c712c53ca92",
   "metadata": {},
   "outputs": [],
   "source": [
    "def function(a):\n",
    "    # add 1 to a\n",
    "    b = a+1\n",
    "    print(a, \" + 1 = \", b)\n",
    "    return b\n"
   ]
  },
  {
   "cell_type": "code",
   "execution_count": 39,
   "id": "59339a9c-0490-4959-8060-5a0d930f2af5",
   "metadata": {},
   "outputs": [
    {
     "name": "stdout",
     "output_type": "stream",
     "text": [
      "3  + 1 =  4\n"
     ]
    },
    {
     "data": {
      "text/plain": [
       "4"
      ]
     },
     "execution_count": 39,
     "metadata": {},
     "output_type": "execute_result"
    }
   ],
   "source": [
    "function(3)"
   ]
  },
  {
   "cell_type": "code",
   "execution_count": 40,
   "id": "19bc738a-376f-4407-984a-621fb9311fc7",
   "metadata": {},
   "outputs": [],
   "source": [
    "def f1(input):\n",
    "    output = input+1;\n",
    "    return output\n",
    "def f2(input):\n",
    "    output = input +2;\n",
    "    return output"
   ]
  },
  {
   "cell_type": "code",
   "execution_count": 41,
   "id": "efbac4d5-6b61-4b5b-80ab-dd206fb7ecdd",
   "metadata": {},
   "outputs": [
    {
     "data": {
      "text/plain": [
       "4"
      ]
     },
     "execution_count": 41,
     "metadata": {},
     "output_type": "execute_result"
    }
   ],
   "source": [
    "f1(3)"
   ]
  },
  {
   "cell_type": "code",
   "execution_count": 42,
   "id": "0224cf0d-1672-42f5-be11-1085ca28d911",
   "metadata": {},
   "outputs": [
    {
     "data": {
      "text/plain": [
       "7"
      ]
     },
     "execution_count": 42,
     "metadata": {},
     "output_type": "execute_result"
    }
   ],
   "source": [
    "f2(5)"
   ]
  },
  {
   "cell_type": "code",
   "execution_count": 43,
   "id": "3962a10d-6cec-4e9b-848e-06857caaed6a",
   "metadata": {},
   "outputs": [
    {
     "data": {
      "text/plain": [
       "94"
      ]
     },
     "execution_count": 43,
     "metadata": {},
     "output_type": "execute_result"
    }
   ],
   "source": [
    "L = [23,2, 42, 23,4]\n",
    "sum(L)"
   ]
  },
  {
   "cell_type": "code",
   "execution_count": 44,
   "id": "cb427f11-0a38-4265-bccf-cd74e1db1c8b",
   "metadata": {},
   "outputs": [
    {
     "data": {
      "text/plain": [
       "[2, 4, 23, 23, 42]"
      ]
     },
     "execution_count": 44,
     "metadata": {},
     "output_type": "execute_result"
    }
   ],
   "source": [
    "sorted(L)"
   ]
  },
  {
   "cell_type": "code",
   "execution_count": 45,
   "id": "e6b3eaa7-0332-4007-bffc-c6b767d3f7b3",
   "metadata": {},
   "outputs": [
    {
     "data": {
      "text/plain": [
       "42"
      ]
     },
     "execution_count": 45,
     "metadata": {},
     "output_type": "execute_result"
    }
   ],
   "source": [
    "max(L)"
   ]
  },
  {
   "cell_type": "code",
   "execution_count": 46,
   "id": "9adf8e6b-32cb-41a5-bc8e-d9b50335cfa6",
   "metadata": {},
   "outputs": [
    {
     "name": "stdout",
     "output_type": "stream",
     "text": [
      "[1, 2, 2, 6, 12, 13, 23, 42, 53, 64, 344, 443]\n"
     ]
    }
   ],
   "source": [
    "album_ratings = [1,443,13,53,12,42,2,64,23,6,344,2]\n",
    "sorted_ratings = sorted(album_ratings)\n",
    "print(sorted_ratings)"
   ]
  },
  {
   "cell_type": "code",
   "execution_count": 48,
   "id": "e3102cb7-4614-4c81-8a7a-8656d721f463",
   "metadata": {},
   "outputs": [],
   "source": [
    "# Making own funtions\n",
    "def add1(a):\n",
    "    b = a+1\n",
    "    return b"
   ]
  },
  {
   "cell_type": "code",
   "execution_count": 49,
   "id": "4aa7c301-f188-4094-930a-d5d2b5fa2370",
   "metadata": {},
   "outputs": [
    {
     "data": {
      "text/plain": [
       "33"
      ]
     },
     "execution_count": 49,
     "metadata": {},
     "output_type": "execute_result"
    }
   ],
   "source": [
    "add1(32)"
   ]
  },
  {
   "cell_type": "code",
   "execution_count": 50,
   "id": "fb259822-edd2-4b7c-ab42-0e0d8f220163",
   "metadata": {},
   "outputs": [
    {
     "data": {
      "text/plain": [
       "'add 1 to a '"
      ]
     },
     "execution_count": 50,
     "metadata": {},
     "output_type": "execute_result"
    }
   ],
   "source": [
    "'''add 1 to a '''"
   ]
  },
  {
   "cell_type": "code",
   "execution_count": 51,
   "id": "c5f4df24-98aa-4c81-aec1-601b70e025df",
   "metadata": {},
   "outputs": [],
   "source": [
    "def Mult(a, b):\n",
    "    c = a*b\n",
    "    return c\n",
    "    "
   ]
  },
  {
   "cell_type": "code",
   "execution_count": 52,
   "id": "49c6fcfd-85d1-4b99-9fc7-b1426eafccc0",
   "metadata": {},
   "outputs": [
    {
     "data": {
      "text/plain": [
       "69"
      ]
     },
     "execution_count": 52,
     "metadata": {},
     "output_type": "execute_result"
    }
   ],
   "source": [
    "Mult(3,23)"
   ]
  },
  {
   "cell_type": "code",
   "execution_count": 53,
   "id": "f1d269cd-7575-4260-99e9-f10bf7a9652f",
   "metadata": {},
   "outputs": [
    {
     "data": {
      "text/plain": [
       "'michaelmichaelmichaelmichael'"
      ]
     },
     "execution_count": 53,
     "metadata": {},
     "output_type": "execute_result"
    }
   ],
   "source": [
    "Mult('michael', 4)"
   ]
  },
  {
   "cell_type": "code",
   "execution_count": 54,
   "id": "dea4e115-74ce-43f9-a0cc-81564f43c5c3",
   "metadata": {},
   "outputs": [
    {
     "name": "stdout",
     "output_type": "stream",
     "text": [
      "Michael Jackson\n"
     ]
    }
   ],
   "source": [
    "def Mj():\n",
    "    print('Michael Jackson')\n",
    "Mj()"
   ]
  },
  {
   "cell_type": "code",
   "execution_count": 57,
   "id": "19d30c93-a2ed-440e-932f-3d0375d29993",
   "metadata": {},
   "outputs": [],
   "source": [
    "def NoWork():\n",
    "    pass\n",
    "\n"
   ]
  },
  {
   "cell_type": "code",
   "execution_count": 60,
   "id": "310def4b-64e2-4332-b4c0-bac565cab0de",
   "metadata": {},
   "outputs": [
    {
     "name": "stdout",
     "output_type": "stream",
     "text": [
      "None\n"
     ]
    }
   ],
   "source": [
    "print(NoWork())"
   ]
  },
  {
   "cell_type": "code",
   "execution_count": 61,
   "id": "10c9cb56-7cc6-4267-9185-8e624ccac233",
   "metadata": {},
   "outputs": [],
   "source": [
    "def stuff(Stuff):\n",
    "    for i, s in enumerate(Stuff):\n",
    "        print('Ablum', i, \"Rating is\", s)\n",
    "        "
   ]
  },
  {
   "cell_type": "code",
   "execution_count": 62,
   "id": "c508d228-79cb-4e42-af31-18eb1832de9a",
   "metadata": {},
   "outputs": [
    {
     "name": "stdout",
     "output_type": "stream",
     "text": [
      "Ablum 0 Rating is 32\n",
      "Ablum 1 Rating is 2\n",
      "Ablum 2 Rating is 3\n",
      "Ablum 3 Rating is 423\n",
      "Ablum 4 Rating is 2\n"
     ]
    }
   ],
   "source": [
    "album_ratings = [32,2,3,423,2]\n",
    "stuff(album_ratings)"
   ]
  },
  {
   "cell_type": "code",
   "execution_count": 65,
   "id": "e0e4d36a-6212-4a9e-876a-69246db18ba2",
   "metadata": {},
   "outputs": [],
   "source": [
    "## Collecting Arguments\n",
    "def ArtistNames (*names):\n",
    "    for name in names:\n",
    "        print(name)\n",
    "        "
   ]
  },
  {
   "cell_type": "code",
   "execution_count": 66,
   "id": "07d6773f-4b67-4e97-87f4-1d9c86ec16b3",
   "metadata": {},
   "outputs": [
    {
     "name": "stdout",
     "output_type": "stream",
     "text": [
      "Awais\n",
      "Ali\n",
      "34\n",
      "4\n"
     ]
    }
   ],
   "source": [
    "ArtistNames('Awais', 'Ali', '34', 4)"
   ]
  },
  {
   "cell_type": "code",
   "execution_count": 68,
   "id": "8c6af781-2805-45fa-92bc-884dec1e9968",
   "metadata": {},
   "outputs": [],
   "source": [
    "def Thriller():\n",
    "    Date = 1832\n",
    "    return Date"
   ]
  },
  {
   "cell_type": "code",
   "execution_count": 71,
   "id": "d1c55a96-19dd-43de-9341-78bdb6a9cfc2",
   "metadata": {},
   "outputs": [
    {
     "name": "stdout",
     "output_type": "stream",
     "text": [
      "1832\n"
     ]
    }
   ],
   "source": [
    "print(Thriller())"
   ]
  },
  {
   "cell_type": "code",
   "execution_count": 72,
   "id": "8b4c78c1-915a-4d1c-8944-820c7ceba67e",
   "metadata": {},
   "outputs": [
    {
     "name": "stdout",
     "output_type": "stream",
     "text": [
      "12\n"
     ]
    }
   ],
   "source": [
    "def multiply(a, b):\n",
    "    \"\"\"\n",
    "    This function multiplies two numbers.\n",
    "    Input: a (number), b (number)\n",
    "    Output: Product of a and b\n",
    "    \"\"\"\n",
    "    print(a * b)\n",
    "multiply(2,6)"
   ]
  },
  {
   "cell_type": "code",
   "execution_count": 73,
   "id": "708f3641-1e32-43bf-af5a-465849ea1ee5",
   "metadata": {},
   "outputs": [
    {
     "name": "stdout",
     "output_type": "stream",
     "text": [
      "7456\n"
     ]
    }
   ],
   "source": [
    "multiply(32,233)"
   ]
  },
  {
   "cell_type": "code",
   "execution_count": 74,
   "id": "5a9f4f0e-86bc-4300-b1b5-b01ca094ac08",
   "metadata": {},
   "outputs": [],
   "source": [
    "global_variable = \"I am global\"\n",
    "def example_function():\n",
    "    local_variable = \"I'm local\"\n",
    "    print(global_variable)  # Accessing global variable\n",
    "    print(local_variable)   # Accessing local variable"
   ]
  },
  {
   "cell_type": "code",
   "execution_count": 76,
   "id": "f0430487-a627-4309-b65c-267a5d4a78b8",
   "metadata": {},
   "outputs": [
    {
     "name": "stdout",
     "output_type": "stream",
     "text": [
      "I am global\n",
      "I'm local\n"
     ]
    }
   ],
   "source": [
    "example_function()"
   ]
  },
  {
   "cell_type": "code",
   "execution_count": 77,
   "id": "1126edc0-c402-42bd-8f2c-38e30f4d189e",
   "metadata": {},
   "outputs": [
    {
     "name": "stdout",
     "output_type": "stream",
     "text": [
      "1\n",
      "2\n",
      "3\n",
      "4\n",
      "5\n"
     ]
    }
   ],
   "source": [
    "def print_numbers(limit):\n",
    "    for i in range(1, limit+1):\n",
    "        print(i)\n",
    "\n",
    "print_numbers(5)  # Output: 1 2 3 4 5"
   ]
  },
  {
   "cell_type": "code",
   "execution_count": 78,
   "id": "12d45bbf-c11e-477c-93dc-2ee759e4122c",
   "metadata": {},
   "outputs": [
    {
     "name": "stdout",
     "output_type": "stream",
     "text": [
      "1\n",
      "2\n",
      "3\n"
     ]
    }
   ],
   "source": [
    "print_numbers(3)"
   ]
  },
  {
   "cell_type": "code",
   "execution_count": 79,
   "id": "e6e684d4-2450-4ea4-abff-1302b70a0c1c",
   "metadata": {},
   "outputs": [
    {
     "name": "stdout",
     "output_type": "stream",
     "text": [
      "Hello, Alice\n",
      "Hello, Alice\n",
      "Hello, Alice\n"
     ]
    }
   ],
   "source": [
    "def greet(name):\n",
    "    return \"Hello, \" + name\n",
    "\n",
    "for _ in range(3):\n",
    "    print(greet(\"Alice\"))"
   ]
  },
  {
   "cell_type": "code",
   "execution_count": 80,
   "id": "689417bb-0c4e-4a24-91eb-903428c3fc17",
   "metadata": {},
   "outputs": [],
   "source": [
    "my_list = []\n",
    "\n",
    "#Function to add elements\n",
    "def add_element(data_structure, element):\n",
    "    data_structure.append(element)\n",
    "\n",
    "def remove_element(data_structure, element):\n",
    "    if element in data_structure:\n",
    "        data_structure.remove(element)\n",
    "    else:\n",
    "        print(f'{element} not found in list.')"
   ]
  },
  {
   "cell_type": "code",
   "execution_count": 87,
   "id": "bd2b9a94-b929-4c8c-b404-1c533bcc9b3c",
   "metadata": {},
   "outputs": [
    {
     "data": {
      "text/plain": [
       "[32, 32, 321, 231]"
      ]
     },
     "execution_count": 87,
     "metadata": {},
     "output_type": "execute_result"
    }
   ],
   "source": [
    "add_element(my_list, 32)\n",
    "add_element(my_list, 321)\n",
    "add_element(my_list, 231)\n",
    "my_list"
   ]
  },
  {
   "cell_type": "code",
   "execution_count": 89,
   "id": "24f0468f-841a-4d69-9f95-5c317b99336c",
   "metadata": {},
   "outputs": [
    {
     "ename": "NameError",
     "evalue": "name 'remove_element' is not defined",
     "output_type": "error",
     "traceback": [
      "\u001b[1;31m---------------------------------------------------------------------------\u001b[0m",
      "\u001b[1;31mNameError\u001b[0m                                 Traceback (most recent call last)",
      "Cell \u001b[1;32mIn[89], line 1\u001b[0m\n\u001b[1;32m----> 1\u001b[0m remove_element(my_list, \u001b[38;5;241m32\u001b[39m)\n\u001b[0;32m      2\u001b[0m my_list\n",
      "\u001b[1;31mNameError\u001b[0m: name 'remove_element' is not defined"
     ]
    }
   ],
   "source": [
    "remove_element(my_list, 32)\n",
    "my_list"
   ]
  },
  {
   "cell_type": "code",
   "execution_count": 90,
   "id": "b631b9f7-765e-4774-8943-256873675e5b",
   "metadata": {},
   "outputs": [],
   "source": [
    "def remove_value (listt, element):\n",
    "    if element in listt:\n",
    "        listt.remove(element)\n",
    "    else:\n",
    "        print(f'{element} not available in the list')"
   ]
  },
  {
   "cell_type": "code",
   "execution_count": 91,
   "id": "888af266-a5ef-40d4-ad03-028acfbbe39f",
   "metadata": {},
   "outputs": [],
   "source": [
    "L = [32,2,3,35,2,1,53]"
   ]
  },
  {
   "cell_type": "code",
   "execution_count": 93,
   "id": "72b3918c-dce2-41c4-a6ff-63679e0243a3",
   "metadata": {},
   "outputs": [
    {
     "name": "stdout",
     "output_type": "stream",
     "text": [
      "32 not available in the list\n"
     ]
    },
    {
     "data": {
      "text/plain": [
       "[2, 3, 35, 2, 1, 53]"
      ]
     },
     "execution_count": 93,
     "metadata": {},
     "output_type": "execute_result"
    }
   ],
   "source": [
    "remove_value(L, 32)\n",
    "L"
   ]
  },
  {
   "cell_type": "code",
   "execution_count": 94,
   "id": "2f1c00d5-a286-4428-adfd-14934dd69e96",
   "metadata": {},
   "outputs": [],
   "source": [
    "def type_of_album(album, year_released):\n",
    "    print(album, year_released)\n",
    "    if year_released > 1980:\n",
    "        return \"Modern\"\n",
    "    else:\n",
    "        return \"oldie\""
   ]
  },
  {
   "cell_type": "code",
   "execution_count": 96,
   "id": "89382cc3-0226-4995-ac03-500287b92803",
   "metadata": {},
   "outputs": [
    {
     "name": "stdout",
     "output_type": "stream",
     "text": [
      "Bodygaurd 1980\n"
     ]
    },
    {
     "data": {
      "text/plain": [
       "'oldie'"
      ]
     },
     "execution_count": 96,
     "metadata": {},
     "output_type": "execute_result"
    }
   ],
   "source": [
    "type_of_album('Bodygaurd', 1980)"
   ]
  },
  {
   "cell_type": "code",
   "execution_count": 97,
   "id": "b771e302-8f5b-42a1-847e-ee3bf9793782",
   "metadata": {},
   "outputs": [],
   "source": [
    "def freq(string):\n",
    "    words = []\n",
    "    words = string.split()\n",
    "    Dict = {}\n",
    "    for key in words:\n",
    "        Dict[key] = words.count(key)\n",
    "    print(\"The frequency of words is\", Dict)"
   ]
  },
  {
   "cell_type": "code",
   "execution_count": 98,
   "id": "2fd2c11a-9c4b-458e-b60a-84a6105836f7",
   "metadata": {},
   "outputs": [
    {
     "name": "stdout",
     "output_type": "stream",
     "text": [
      "The frequency of words is {'Mary': 6, 'had': 2, 'a': 2, 'little': 3, 'lamb': 3, 'Little': 1, 'lamb,': 1, 'lamb.Its': 1, 'fleece': 1, 'was': 2, 'white': 1, 'as': 1, 'snow': 1, 'And': 1, 'everywhere': 1, 'that': 2, 'went': 3, 'went,': 1, 'Everywhere': 1, 'The': 1, 'sure': 1, 'to': 1, 'go': 1}\n"
     ]
    }
   ],
   "source": [
    "freq(\"Mary had a little lamb Little lamb, little lamb Mary had a little lamb.Its fleece was white as snow And everywhere that Mary went Mary went, Mary went \\\n",
    "Everywhere that Mary went The lamb was sure to go\")"
   ]
  },
  {
   "cell_type": "code",
   "execution_count": 101,
   "id": "effd6a09-f661-4342-883a-9a1fdfd3aeb8",
   "metadata": {},
   "outputs": [],
   "source": [
    "def isGoodRating(rating = 4):\n",
    "    if(rating < 7):\n",
    "        print('this ablum sucks its rating is', rating)\n",
    "    else:\n",
    "        print('this album is good its rating is', rating)"
   ]
  },
  {
   "cell_type": "code",
   "execution_count": 104,
   "id": "7a28f989-f204-4ab5-8a90-3e5fdf800205",
   "metadata": {},
   "outputs": [
    {
     "name": "stdout",
     "output_type": "stream",
     "text": [
      "this album is good its rating is 8\n"
     ]
    }
   ],
   "source": [
    "isGoodRating(8)"
   ]
  },
  {
   "cell_type": "code",
   "execution_count": 105,
   "id": "31e5c391-0092-42ad-86cf-c29d7750dc77",
   "metadata": {},
   "outputs": [
    {
     "name": "stdout",
     "output_type": "stream",
     "text": [
      "this ablum sucks its rating is 4\n"
     ]
    }
   ],
   "source": [
    "isGoodRating()"
   ]
  },
  {
   "cell_type": "code",
   "execution_count": 106,
   "id": "3af94c23-2063-48b4-b422-f45158e86997",
   "metadata": {},
   "outputs": [
    {
     "name": "stdout",
     "output_type": "stream",
     "text": [
      "The BodyGuard is an album\n"
     ]
    }
   ],
   "source": [
    "# Example of global variable\n",
    "\n",
    "album = \"The BodyGuard\"\n",
    "def printer1(album):\n",
    "    internal_var1 = \"Thriller\"\n",
    "    print(album, \"is an album\")\n",
    "    \n",
    "printer1(album )\n",
    "# try runningthe following code\n",
    "#printer1(internal_var1) "
   ]
  },
  {
   "cell_type": "code",
   "execution_count": 107,
   "id": "7d04daea-d4a8-477e-87ad-84f7641ef44b",
   "metadata": {},
   "outputs": [
    {
     "name": "stdout",
     "output_type": "stream",
     "text": [
      "The BodyGuard is an album\n",
      "Thriller is an album\n"
     ]
    }
   ],
   "source": [
    "album = \"The BodyGuard\"\n",
    "\n",
    "def printer(album):\n",
    "    global internal_var \n",
    "    internal_var= \"Thriller\"\n",
    "    print(album,\"is an album\")\n",
    "\n",
    "printer(album) \n",
    "printer(internal_var)"
   ]
  },
  {
   "cell_type": "code",
   "execution_count": 108,
   "id": "06bf9913-d296-4d7a-8f3a-26adf620b620",
   "metadata": {},
   "outputs": [
    {
     "name": "stdout",
     "output_type": "stream",
     "text": [
      "No of arguments: 3\n",
      "Horsefeather\n",
      "Adonis\n",
      "Bone\n",
      "No of arguments: 4\n",
      "Sidecar\n",
      "Long Island\n",
      "Mudslide\n",
      "Carriage\n"
     ]
    }
   ],
   "source": [
    "def printAll(*args): # All the arguments are 'packed' into args which can be treated like a tuple\n",
    "    print(\"No of arguments:\", len(args)) \n",
    "    for argument in args:\n",
    "        print(argument)\n",
    "#printAll with 3 arguments\n",
    "printAll('Horsefeather','Adonis','Bone')\n",
    "#printAll with 4 arguments\n",
    "printAll('Sidecar','Long Island','Mudslide','Carriage')"
   ]
  },
  {
   "cell_type": "code",
   "execution_count": 109,
   "id": "57b9b70b-d5fe-4510-86a6-c8624e82509f",
   "metadata": {},
   "outputs": [
    {
     "data": {
      "text/plain": [
       "[1, 2, 3]"
      ]
     },
     "execution_count": 109,
     "metadata": {},
     "output_type": "execute_result"
    }
   ],
   "source": [
    "L=[1,3,2]\n",
    "sorted(L)"
   ]
  },
  {
   "cell_type": "code",
   "execution_count": 110,
   "id": "abf80f0c-c599-4bd7-b7da-a272d2eb9cad",
   "metadata": {},
   "outputs": [
    {
     "name": "stdout",
     "output_type": "stream",
     "text": [
      "a1\n",
      "b1\n",
      "c1\n"
     ]
    }
   ],
   "source": [
    "def print_function(A):\n",
    "    for a in A:\n",
    "        print(a + '1')\n",
    "print_function(['a', 'b', 'c'])"
   ]
  },
  {
   "cell_type": "markdown",
   "id": "2616ef04-8360-41d3-8088-ac03374897fc",
   "metadata": {},
   "source": [
    "#### Exception Handling"
   ]
  },
  {
   "cell_type": "code",
   "execution_count": 115,
   "id": "31493a26-dcbe-4d09-9743-a78287715694",
   "metadata": {},
   "outputs": [
    {
     "name": "stdout",
     "output_type": "stream",
     "text": [
      "Unable to open or read the data in the file\n"
     ]
    }
   ],
   "source": [
    "## Try...except statement\n",
    "try:\n",
    "    getfile = open('myfile', 'r')\n",
    "    getfile.write('File for exception handling')\n",
    "except IOError:\n",
    "    print('Unable to open or read the data in the file')\n",
    "else:\n",
    "    print(\"The file was written successfully\")\n"
   ]
  },
  {
   "cell_type": "code",
   "execution_count": 117,
   "id": "745337a1-630f-4c1f-babd-44302e1f1bce",
   "metadata": {},
   "outputs": [
    {
     "name": "stdin",
     "output_type": "stream",
     "text": [
      "Please enter a number to divide a:  0\n"
     ]
    },
    {
     "name": "stdout",
     "output_type": "stream",
     "text": [
      "There was an error\n"
     ]
    }
   ],
   "source": [
    "a = 1\n",
    "try:\n",
    "    b = int(input(\"Please enter a number to divide a: \"))\n",
    "    a = a / b\n",
    "    print(\"Success a =\", a)\n",
    "except:\n",
    "    print(\"There was an error\")\n"
   ]
  },
  {
   "cell_type": "code",
   "execution_count": 118,
   "id": "99f98f5f-b570-4653-b8ee-ed4275cd7289",
   "metadata": {},
   "outputs": [
    {
     "ename": "ZeroDivisionError",
     "evalue": "division by zero",
     "output_type": "error",
     "traceback": [
      "\u001b[1;31m---------------------------------------------------------------------------\u001b[0m",
      "\u001b[1;31mZeroDivisionError\u001b[0m                         Traceback (most recent call last)",
      "Cell \u001b[1;32mIn[118], line 1\u001b[0m\n\u001b[1;32m----> 1\u001b[0m \u001b[38;5;241m10\u001b[39m\u001b[38;5;241m/\u001b[39m\u001b[38;5;241m0\u001b[39m\n",
      "\u001b[1;31mZeroDivisionError\u001b[0m: division by zero"
     ]
    }
   ],
   "source": [
    "10/0"
   ]
  },
  {
   "cell_type": "code",
   "execution_count": 119,
   "id": "f860d832-34e0-4496-acb5-0e55fa1beaf5",
   "metadata": {},
   "outputs": [
    {
     "name": "stdout",
     "output_type": "stream",
     "text": [
      "cannot divide\n"
     ]
    }
   ],
   "source": [
    "try:\n",
    "    10/0\n",
    "except:\n",
    "    print('cannot divide')"
   ]
  },
  {
   "cell_type": "code",
   "execution_count": 120,
   "id": "613e00b9-eb40-435a-a82f-45337618181f",
   "metadata": {},
   "outputs": [
    {
     "ename": "ValueError",
     "evalue": "invalid literal for int() with base 10: 'abc'",
     "output_type": "error",
     "traceback": [
      "\u001b[1;31m---------------------------------------------------------------------------\u001b[0m",
      "\u001b[1;31mValueError\u001b[0m                                Traceback (most recent call last)",
      "Cell \u001b[1;32mIn[120], line 1\u001b[0m\n\u001b[1;32m----> 1\u001b[0m num \u001b[38;5;241m=\u001b[39m \u001b[38;5;28mint\u001b[39m(\u001b[38;5;124m\"\u001b[39m\u001b[38;5;124mabc\u001b[39m\u001b[38;5;124m\"\u001b[39m)\n",
      "\u001b[1;31mValueError\u001b[0m: invalid literal for int() with base 10: 'abc'"
     ]
    }
   ],
   "source": [
    "num = int(\"abc\")"
   ]
  },
  {
   "cell_type": "code",
   "execution_count": 121,
   "id": "827a8deb-579e-40e1-97c3-ecf93b8c615a",
   "metadata": {},
   "outputs": [
    {
     "ename": "IndexError",
     "evalue": "list index out of range",
     "output_type": "error",
     "traceback": [
      "\u001b[1;31m---------------------------------------------------------------------------\u001b[0m",
      "\u001b[1;31mIndexError\u001b[0m                                Traceback (most recent call last)",
      "Cell \u001b[1;32mIn[121], line 3\u001b[0m\n\u001b[0;32m      1\u001b[0m my_list \u001b[38;5;241m=\u001b[39m [\u001b[38;5;241m1\u001b[39m, \u001b[38;5;241m2\u001b[39m, \u001b[38;5;241m3\u001b[39m]\n\u001b[0;32m      2\u001b[0m value \u001b[38;5;241m=\u001b[39m my_list[\u001b[38;5;241m1\u001b[39m]  \u001b[38;5;66;03m# No IndexError, within range\u001b[39;00m\n\u001b[1;32m----> 3\u001b[0m missing \u001b[38;5;241m=\u001b[39m my_list[\u001b[38;5;241m5\u001b[39m]\n",
      "\u001b[1;31mIndexError\u001b[0m: list index out of range"
     ]
    }
   ],
   "source": [
    "my_list = [1, 2, 3]\n",
    "value = my_list[1]  # No IndexError, within range\n",
    "missing = my_list[5]  # Raises IndexError"
   ]
  },
  {
   "cell_type": "code",
   "execution_count": 122,
   "id": "7a06cf2a-4313-41b2-8aae-ece312693835",
   "metadata": {},
   "outputs": [
    {
     "name": "stdout",
     "output_type": "stream",
     "text": [
      "Error: Cannot divide by zero\n",
      "outside of try and except block\n"
     ]
    }
   ],
   "source": [
    "# using Try- except \n",
    "try:\n",
    "    # Attempting to divide 10 by 0\n",
    "    result = 10 / 0\n",
    "except ZeroDivisionError:\n",
    "    # Handling the ZeroDivisionError and printing an error message\n",
    "    print(\"Error: Cannot divide by zero\")\n",
    "# This line will be executed regardless of whether an exception occurred\n",
    "print(\"outside of try and except block\")"
   ]
  },
  {
   "cell_type": "code",
   "execution_count": 125,
   "id": "2d5bf086-19d6-4b19-8c8c-64b7edc031a4",
   "metadata": {},
   "outputs": [
    {
     "name": "stdout",
     "output_type": "stream",
     "text": [
      "Cannot divide by the zero\n"
     ]
    }
   ],
   "source": [
    "try:\n",
    "    10/0\n",
    "except:\n",
    "    print(\"Cannot divide by the zero\")"
   ]
  },
  {
   "cell_type": "code",
   "execution_count": 128,
   "id": "4a9cf7b4-9c75-415f-a754-90a1fc0bd4e3",
   "metadata": {},
   "outputs": [
    {
     "name": "stdin",
     "output_type": "stream",
     "text": [
      "Please enter a number to divide a r\n"
     ]
    },
    {
     "name": "stdout",
     "output_type": "stream",
     "text": [
      "There was an error\n"
     ]
    }
   ],
   "source": [
    "a = 1\n",
    "\n",
    "try:\n",
    "    b = int(input(\"Please enter a number to divide a\"))\n",
    "    a = a/b\n",
    "    print(\"Success a=\",a)\n",
    "except:\n",
    "    print(\"There was an error\")\n",
    "        "
   ]
  },
  {
   "cell_type": "code",
   "execution_count": 133,
   "id": "d5503630-f024-441d-b727-866551045bcc",
   "metadata": {},
   "outputs": [
    {
     "name": "stdin",
     "output_type": "stream",
     "text": [
      "Please enter a number to divide a ds\n"
     ]
    },
    {
     "name": "stdout",
     "output_type": "stream",
     "text": [
      "You did not provide a number\n"
     ]
    }
   ],
   "source": [
    "a = 1\n",
    "\n",
    "try:\n",
    "    b = int(input(\"Please enter a number to divide a\"))\n",
    "    a = a/b\n",
    "    print(\"Success a=\",a)\n",
    "except ZeroDivisionError:\n",
    "    print(\"The number you provided cant divide 1 because it is 0\")\n",
    "except ValueError:\n",
    "    print(\"You did not provide a number\")\n",
    "except:\n",
    "    print(\"Something went wrong\")\n",
    "        \n"
   ]
  },
  {
   "cell_type": "code",
   "execution_count": 136,
   "id": "aa60074f-4558-4506-887d-14afe9a81380",
   "metadata": {},
   "outputs": [
    {
     "name": "stdin",
     "output_type": "stream",
     "text": [
      "Enter a number df\n"
     ]
    },
    {
     "name": "stdout",
     "output_type": "stream",
     "text": [
      "Enter digit\n"
     ]
    }
   ],
   "source": [
    "a = 10 \n",
    "try:\n",
    "    b = int(input(\"Enter a number\"))\n",
    "    a = a/b\n",
    "    print(\"Success a= \", a)\n",
    "except ZeroDivisionError:\n",
    "    print(\"You enered the zero\")\n",
    "except ValueError:\n",
    "    print(\"Enter digit\")"
   ]
  },
  {
   "cell_type": "code",
   "execution_count": 140,
   "id": "3ad284ff-91e6-4d0d-ac20-96c04c201337",
   "metadata": {},
   "outputs": [
    {
     "name": "stdin",
     "output_type": "stream",
     "text": [
      "Please enter a number to divide a 1\n"
     ]
    },
    {
     "name": "stdout",
     "output_type": "stream",
     "text": [
      "success a= 1.0\n",
      "Processing Complete\n"
     ]
    }
   ],
   "source": [
    "a = 1\n",
    "\n",
    "try:\n",
    "    b = int(input(\"Please enter a number to divide a\"))\n",
    "    a = a/b\n",
    "except ZeroDivisionError:\n",
    "    print(\"The number you provided cant divide 1 because it is 0\")\n",
    "except ValueError:\n",
    "    print(\"You did not provide a number\")\n",
    "except:\n",
    "    print(\"Something went wrong\")\n",
    "else:\n",
    "    print(\"success a=\",a)\n",
    "finally:\n",
    "    print(\"Processing Complete\")"
   ]
  },
  {
   "cell_type": "code",
   "execution_count": 146,
   "id": "734840bc-c182-475e-887a-8ce621fe4848",
   "metadata": {},
   "outputs": [
    {
     "name": "stdin",
     "output_type": "stream",
     "text": [
      "Enter the numerator value:- 23\n",
      "Enter the denominator value:- 2\n"
     ]
    },
    {
     "name": "stdout",
     "output_type": "stream",
     "text": [
      "11.5\n"
     ]
    }
   ],
   "source": [
    "#Type your code here\n",
    "def safe_divide(numerator,denominator):\n",
    "    try:\n",
    "        result = numerator / denominator\n",
    "        return result\n",
    "    except ZeroDivisionError:\n",
    "        print(\"Error: Cannot divide by zero.\")\n",
    "        return None\n",
    "    \n",
    "# Test case\n",
    "numerator=int(input(\"Enter the numerator value:-\"))\n",
    "denominator=int(input(\"Enter the denominator value:-\"))\n",
    "print(safe_divide(numerator,denominator))"
   ]
  },
  {
   "cell_type": "markdown",
   "id": "aed7f6da-8369-46a3-ba6e-73faeb6d6183",
   "metadata": {},
   "source": [
    "#### Object and classes"
   ]
  },
  {
   "cell_type": "code",
   "execution_count": 147,
   "id": "fa39eae6-b90e-447d-9058-3401dc4b852c",
   "metadata": {},
   "outputs": [
    {
     "name": "stdout",
     "output_type": "stream",
     "text": [
      "True\n"
     ]
    }
   ],
   "source": [
    "t1 = (1,2,3,4)\n",
    "t2 = (1,2,4,5)\n",
    "print(t1<t2)"
   ]
  },
  {
   "cell_type": "code",
   "execution_count": 148,
   "id": "764516ef-19e5-4423-8bf5-61536f764032",
   "metadata": {},
   "outputs": [
    {
     "data": {
      "text/plain": [
       "(1, 2, 3, 4, 1, 2, 3, 4)"
      ]
     },
     "execution_count": 148,
     "metadata": {},
     "output_type": "execute_result"
    }
   ],
   "source": [
    "t1*2"
   ]
  },
  {
   "cell_type": "code",
   "execution_count": 149,
   "id": "bf5235e9-0a72-427b-98cc-555c82c09989",
   "metadata": {},
   "outputs": [
    {
     "data": {
      "text/plain": [
       "(1, 2, 3, 4, 1, 2, 4, 5)"
      ]
     },
     "execution_count": 149,
     "metadata": {},
     "output_type": "execute_result"
    }
   ],
   "source": [
    "t1 + t2"
   ]
  },
  {
   "cell_type": "code",
   "execution_count": 151,
   "id": "823330ff-2943-497e-ad54-8567cc3d9f33",
   "metadata": {},
   "outputs": [],
   "source": [
    "Dict = {\n",
    "    'MFG':2, 'MFG' : 3\n",
    "}"
   ]
  },
  {
   "cell_type": "code",
   "execution_count": 153,
   "id": "c2d9deb4-b29d-4722-a600-f64efacf50dd",
   "metadata": {},
   "outputs": [
    {
     "name": "stdout",
     "output_type": "stream",
     "text": [
      "3\n"
     ]
    }
   ],
   "source": [
    "print(Dict['MFG'])"
   ]
  },
  {
   "cell_type": "code",
   "execution_count": 154,
   "id": "14a17d8d-5029-4638-ab9b-6e05d20e5883",
   "metadata": {},
   "outputs": [
    {
     "ename": "AttributeError",
     "evalue": "'tuple' object has no attribute 'reverse'",
     "output_type": "error",
     "traceback": [
      "\u001b[1;31m---------------------------------------------------------------------------\u001b[0m",
      "\u001b[1;31mAttributeError\u001b[0m                            Traceback (most recent call last)",
      "Cell \u001b[1;32mIn[154], line 1\u001b[0m\n\u001b[1;32m----> 1\u001b[0m t1\u001b[38;5;241m.\u001b[39mreverse()\n",
      "\u001b[1;31mAttributeError\u001b[0m: 'tuple' object has no attribute 'reverse'"
     ]
    }
   ],
   "source": [
    "t1.reverse()"
   ]
  },
  {
   "cell_type": "code",
   "execution_count": 156,
   "id": "09d03960-9586-4cde-b769-b9c4566a5d93",
   "metadata": {},
   "outputs": [
    {
     "name": "stdout",
     "output_type": "stream",
     "text": [
      "None\n"
     ]
    }
   ],
   "source": [
    "Ratings = [2,3,1,32,323,3,2]\n",
    "print(Ratings.reverse())"
   ]
  },
  {
   "cell_type": "code",
   "execution_count": 163,
   "id": "635465ff-f0dd-43e6-acf3-c2cc2a260c42",
   "metadata": {},
   "outputs": [],
   "source": [
    "import matplotlib.pyplot as plt\n",
    "%matplotlib inline"
   ]
  },
  {
   "cell_type": "code",
   "execution_count": 164,
   "id": "6f72d883-b86d-42be-a137-be94a2fca189",
   "metadata": {},
   "outputs": [],
   "source": [
    "# Create a class Circle\n",
    "\n",
    "class Circle(object):\n",
    "    \n",
    "    # Constructor\n",
    "    def __init__(self, radius=3, color='blue'):\n",
    "        self.radius = radius\n",
    "        self.color = color \n",
    "    \n",
    "    # Method\n",
    "    def add_radius(self, r):\n",
    "        self.radius = self.radius + r\n",
    "        return(self.radius)\n",
    "    \n",
    "    # Method\n",
    "    def drawCircle(self):\n",
    "        plt.gca().add_patch(plt.Circle((0, 0), radius=self.radius, fc=self.color))\n",
    "        plt.axis('scaled')\n",
    "        plt.show()  "
   ]
  },
  {
   "cell_type": "code",
   "execution_count": 165,
   "id": "63be9518-dfbc-4b87-8caf-b82fb897370a",
   "metadata": {},
   "outputs": [],
   "source": [
    "# Create an object RedCircle\n",
    "\n",
    "RedCircle = Circle(10, 'red')"
   ]
  },
  {
   "cell_type": "code",
   "execution_count": 166,
   "id": "f25785da-065e-4443-91ee-2138cc0a1b10",
   "metadata": {},
   "outputs": [],
   "source": [
    "class Circle(object):\n",
    "    # Constructor\n",
    "    def __init__(self, radius=3, color='blue'):\n",
    "        self.radius = radius\n",
    "        self.color = color\n",
    "\n",
    "\n",
    "    # Method\n",
    "    def add_radius(self, r):\n",
    "        self.radius = self.radius + r\n",
    "        return self.radius"
   ]
  },
  {
   "cell_type": "code",
   "execution_count": null,
   "id": "6aa19bf2-00f1-4bc8-a4cc-73582a58c517",
   "metadata": {},
   "outputs": [],
   "source": []
  }
 ],
 "metadata": {
  "kernelspec": {
   "display_name": "Python 3 (ipykernel)",
   "language": "python",
   "name": "python3"
  },
  "language_info": {
   "codemirror_mode": {
    "name": "ipython",
    "version": 3
   },
   "file_extension": ".py",
   "mimetype": "text/x-python",
   "name": "python",
   "nbconvert_exporter": "python",
   "pygments_lexer": "ipython3",
   "version": "3.13.5"
  }
 },
 "nbformat": 4,
 "nbformat_minor": 5
}
