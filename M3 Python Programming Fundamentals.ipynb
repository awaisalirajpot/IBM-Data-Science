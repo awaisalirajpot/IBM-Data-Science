{
 "cells": [
  {
   "cell_type": "markdown",
   "id": "dce69b13-524f-4958-b5c3-e7e5d274376a",
   "metadata": {},
   "source": [
    "#### Python Programming Fundamentals\n",
    "1. Conditions and branchings\n",
    "2. loops\n",
    "3. Functions\n",
    "4. Exception handling\n",
    "5. Objects and classes (Foundation of oops)\n",
    "6. Understand attributes and methods\n",
    "7. How real world problems can be modeled using OOP principles"
   ]
  },
  {
   "cell_type": "markdown",
   "id": "82358963-98c8-4e15-88bc-986503c1e7fb",
   "metadata": {},
   "source": [
    "#### Conditions and Branching"
   ]
  },
  {
   "cell_type": "code",
   "execution_count": 1,
   "id": "c22e56c6-4464-459b-ae9b-0f75b7d14699",
   "metadata": {},
   "outputs": [
    {
     "data": {
      "text/plain": [
       "False"
      ]
     },
     "execution_count": 1,
     "metadata": {},
     "output_type": "execute_result"
    }
   ],
   "source": [
    "a = 6\n",
    "a == 7"
   ]
  },
  {
   "cell_type": "code",
   "execution_count": 2,
   "id": "4a2686d2-44cf-4629-937f-a7e85bd7e3c8",
   "metadata": {},
   "outputs": [
    {
     "data": {
      "text/plain": [
       "True"
      ]
     },
     "execution_count": 2,
     "metadata": {},
     "output_type": "execute_result"
    }
   ],
   "source": [
    "a == 6"
   ]
  },
  {
   "cell_type": "code",
   "execution_count": 3,
   "id": "f73ccfaf-dfec-430f-8f85-d44ae346f5ad",
   "metadata": {},
   "outputs": [
    {
     "data": {
      "text/plain": [
       "True"
      ]
     },
     "execution_count": 3,
     "metadata": {},
     "output_type": "execute_result"
    }
   ],
   "source": [
    "6>3"
   ]
  },
  {
   "cell_type": "code",
   "execution_count": 4,
   "id": "590b0856-5894-4535-a82d-1cdb570f7782",
   "metadata": {},
   "outputs": [
    {
     "data": {
      "text/plain": [
       "True"
      ]
     },
     "execution_count": 4,
     "metadata": {},
     "output_type": "execute_result"
    }
   ],
   "source": [
    "6 != 4"
   ]
  },
  {
   "cell_type": "code",
   "execution_count": 5,
   "id": "602ad635-a9de-45a4-ab04-63ae6f4726e1",
   "metadata": {},
   "outputs": [
    {
     "data": {
      "text/plain": [
       "True"
      ]
     },
     "execution_count": 5,
     "metadata": {},
     "output_type": "execute_result"
    }
   ],
   "source": [
    "\"Awais\" == \"Awais\""
   ]
  },
  {
   "cell_type": "code",
   "execution_count": 6,
   "id": "0795592b-c297-4fb6-86a0-f1731303922f",
   "metadata": {},
   "outputs": [
    {
     "name": "stdin",
     "output_type": "stream",
     "text": [
      "Enter your age 2\n"
     ]
    },
    {
     "name": "stdout",
     "output_type": "stream",
     "text": [
      "Cannot ente\n"
     ]
    }
   ],
   "source": [
    "age = int(input(\"Enter your age\"))\n",
    "if age < 18:\n",
    "    print(\"Cannot ente\")"
   ]
  },
  {
   "cell_type": "code",
   "execution_count": 7,
   "id": "c4ed237e-b045-4209-831a-4e0e6ae4802e",
   "metadata": {},
   "outputs": [
    {
     "data": {
      "text/plain": [
       "True"
      ]
     },
     "execution_count": 7,
     "metadata": {},
     "output_type": "execute_result"
    }
   ],
   "source": [
    "'B' > 'A'"
   ]
  },
  {
   "cell_type": "code",
   "execution_count": 8,
   "id": "948c6c4f-4108-43de-bd44-d88f48631625",
   "metadata": {},
   "outputs": [
    {
     "data": {
      "text/plain": [
       "True"
      ]
     },
     "execution_count": 8,
     "metadata": {},
     "output_type": "execute_result"
    }
   ],
   "source": [
    "'BA' > 'AB'"
   ]
  },
  {
   "cell_type": "code",
   "execution_count": 9,
   "id": "965a7974-26dd-4301-9b15-ef5e34479a3b",
   "metadata": {},
   "outputs": [
    {
     "data": {
      "text/plain": [
       "True"
      ]
     },
     "execution_count": 9,
     "metadata": {},
     "output_type": "execute_result"
    }
   ],
   "source": [
    "'a' > 'A'"
   ]
  },
  {
   "cell_type": "code",
   "execution_count": 10,
   "id": "46f5ba7a-0879-42e6-8e9a-b6baf3629c56",
   "metadata": {},
   "outputs": [
    {
     "ename": "SyntaxError",
     "evalue": "cannot assign to literal here. Maybe you meant '==' instead of '='? (690182220.py, line 1)",
     "output_type": "error",
     "traceback": [
      "\u001b[1;36m  Cell \u001b[1;32mIn[10], line 1\u001b[1;36m\u001b[0m\n\u001b[1;33m    1 = 2\u001b[0m\n\u001b[1;37m    ^\u001b[0m\n\u001b[1;31mSyntaxError\u001b[0m\u001b[1;31m:\u001b[0m cannot assign to literal here. Maybe you meant '==' instead of '='?\n"
     ]
    }
   ],
   "source": [
    "1 = 2"
   ]
  },
  {
   "cell_type": "code",
   "execution_count": 11,
   "id": "a908ff06-0a71-4374-922f-14527b3c0ffc",
   "metadata": {},
   "outputs": [
    {
     "data": {
      "text/plain": [
       "False"
      ]
     },
     "execution_count": 11,
     "metadata": {},
     "output_type": "execute_result"
    }
   ],
   "source": [
    "'a' == 'A'"
   ]
  },
  {
   "cell_type": "markdown",
   "id": "68e0fab9-e46b-4ff5-88ac-6c1b8c45e068",
   "metadata": {},
   "source": [
    "#### Loops"
   ]
  },
  {
   "cell_type": "code",
   "execution_count": 12,
   "id": "e770c872-2860-4855-bfc4-fdecb2c8ed21",
   "metadata": {},
   "outputs": [
    {
     "data": {
      "text/plain": [
       "range(0, 3)"
      ]
     },
     "execution_count": 12,
     "metadata": {},
     "output_type": "execute_result"
    }
   ],
   "source": [
    "range(3)"
   ]
  },
  {
   "cell_type": "code",
   "execution_count": 13,
   "id": "71e621d2-6d05-4dbb-a016-9613fb0edc21",
   "metadata": {},
   "outputs": [
    {
     "data": {
      "text/plain": [
       "range(10, 14)"
      ]
     },
     "execution_count": 13,
     "metadata": {},
     "output_type": "execute_result"
    }
   ],
   "source": [
    "range(10,14)"
   ]
  },
  {
   "cell_type": "code",
   "execution_count": 14,
   "id": "72f7149e-dd27-4fa8-a632-6e81b26d44de",
   "metadata": {},
   "outputs": [
    {
     "name": "stdout",
     "output_type": "stream",
     "text": [
      "10\n",
      "11\n",
      "12\n",
      "13\n"
     ]
    }
   ],
   "source": [
    "for i in range(10,14):\n",
    "    print(i)"
   ]
  },
  {
   "cell_type": "code",
   "execution_count": 18,
   "id": "5ebe7581-4d99-4eb8-8c9b-e1172d78da7d",
   "metadata": {},
   "outputs": [
    {
     "name": "stdout",
     "output_type": "stream",
     "text": [
      "['White', 'yellow', 'green', 'purple', 'blue']\n",
      "['White', 'White', 'green', 'purple', 'blue']\n",
      "['White', 'White', 'White', 'purple', 'blue']\n",
      "['White', 'White', 'White', 'White', 'blue']\n",
      "['White', 'White', 'White', 'White', 'White']\n"
     ]
    }
   ],
   "source": [
    "Squares = ['red', 'yellow', 'green', 'purple', 'blue']\n",
    "for i in range(0,5):\n",
    "    Squares[i] = \"White\"\n",
    "    print(Squares)"
   ]
  },
  {
   "cell_type": "code",
   "execution_count": null,
   "id": "ad35e380-ec71-4196-9c35-0d0729a1aa8b",
   "metadata": {},
   "outputs": [],
   "source": []
  }
 ],
 "metadata": {
  "kernelspec": {
   "display_name": "Python 3 (ipykernel)",
   "language": "python",
   "name": "python3"
  },
  "language_info": {
   "codemirror_mode": {
    "name": "ipython",
    "version": 3
   },
   "file_extension": ".py",
   "mimetype": "text/x-python",
   "name": "python",
   "nbconvert_exporter": "python",
   "pygments_lexer": "ipython3",
   "version": "3.13.5"
  }
 },
 "nbformat": 4,
 "nbformat_minor": 5
}
