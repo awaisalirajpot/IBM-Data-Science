{
 "cells": [
  {
   "cell_type": "markdown",
   "id": "897c341f-15b0-4dc5-93ef-a49c00b70bf4",
   "metadata": {},
   "source": [
    "### Read File with open"
   ]
  },
  {
   "cell_type": "code",
   "execution_count": 3,
   "id": "8d6d5f81-5672-40fb-9cfd-ce5a6cbeac83",
   "metadata": {},
   "outputs": [],
   "source": [
    "file = open('Sample.txt', 'w')\n",
    "file.close()"
   ]
  },
  {
   "cell_type": "code",
   "execution_count": 5,
   "id": "6e940d9a-3c7f-4721-8e32-9cee30b9b859",
   "metadata": {},
   "outputs": [],
   "source": [
    "with open('sample.txt', 'w') as file:\n",
    "    file.write(\"Hi this is Awais Ali. \\nI am learning Python. \\nI also want to work in a software house\")"
   ]
  },
  {
   "cell_type": "code",
   "execution_count": 6,
   "id": "6b3ba13d-a803-4af3-8b70-66a9b35a9d14",
   "metadata": {},
   "outputs": [],
   "source": [
    "file.close()"
   ]
  },
  {
   "cell_type": "code",
   "execution_count": 7,
   "id": "5e6099b7-a52e-4ecf-be70-bcb2ecbc5c0f",
   "metadata": {},
   "outputs": [
    {
     "name": "stdout",
     "output_type": "stream",
     "text": [
      "Hi this is Awais Ali. \n",
      "I am learning Python. \n",
      "I also want to work in a software house\n"
     ]
    }
   ],
   "source": [
    "with open('sample.txt', 'r') as file:\n",
    "    data = file.read()\n",
    "    print(data)"
   ]
  },
  {
   "cell_type": "code",
   "execution_count": 8,
   "id": "fd6ae92e-c349-4977-9a2a-152b6e7b0a2a",
   "metadata": {},
   "outputs": [
    {
     "name": "stdout",
     "output_type": "stream",
     "text": [
      "Hi this is Awais Ali. \n",
      "I am learning Python. \n",
      "I also want to work in a software house\n"
     ]
    }
   ],
   "source": [
    "print(data)"
   ]
  },
  {
   "cell_type": "code",
   "execution_count": 9,
   "id": "d29659df-74b1-4ca6-866b-1844eb3fcd06",
   "metadata": {},
   "outputs": [
    {
     "data": {
      "text/plain": [
       "'Hi this is Awais Ali. \\nI am learning Python. \\nI also want to work in a software house'"
      ]
     },
     "execution_count": 9,
     "metadata": {},
     "output_type": "execute_result"
    }
   ],
   "source": [
    "data"
   ]
  },
  {
   "cell_type": "code",
   "execution_count": 11,
   "id": "808cd996-40c1-4274-80ff-4807e106caba",
   "metadata": {},
   "outputs": [
    {
     "data": {
      "text/plain": [
       "'sample.txt'"
      ]
     },
     "execution_count": 11,
     "metadata": {},
     "output_type": "execute_result"
    }
   ],
   "source": [
    "file.name"
   ]
  },
  {
   "cell_type": "code",
   "execution_count": 12,
   "id": "3f6aa102-ddad-45b0-a399-e1604bfb342f",
   "metadata": {},
   "outputs": [
    {
     "data": {
      "text/plain": [
       "'r'"
      ]
     },
     "execution_count": 12,
     "metadata": {},
     "output_type": "execute_result"
    }
   ],
   "source": [
    "file.mode"
   ]
  },
  {
   "cell_type": "code",
   "execution_count": 13,
   "id": "4d206796-bc00-400c-8ace-c22646bf806b",
   "metadata": {},
   "outputs": [
    {
     "name": "stdout",
     "output_type": "stream",
     "text": [
      "Hi this is Awais Ali. \n",
      "I am learning Python. \n",
      "I also want to work in a software house\n",
      "None\n",
      "Hi this is Awais Ali. \n",
      "I am learning Python. \n",
      "I also want to work in a software house\n"
     ]
    }
   ],
   "source": [
    "#with open file automatically close\n",
    "with open('sample.txt', 'r') as file:\n",
    "    file_stuff = file.read()\n",
    "    print(file_stuff)\n",
    "print(file.close())\n",
    "print(file_stuff)"
   ]
  },
  {
   "cell_type": "code",
   "execution_count": 14,
   "id": "ce4c942b-ba7d-4682-a0ea-529cb57edfbb",
   "metadata": {},
   "outputs": [
    {
     "name": "stdout",
     "output_type": "stream",
     "text": [
      "Hi this is Awais Ali. \n",
      "I am learning Python. \n",
      "I also want to work in a software house\n"
     ]
    }
   ],
   "source": [
    "print(file_stuff)"
   ]
  },
  {
   "cell_type": "code",
   "execution_count": 15,
   "id": "7957f443-9ce8-4529-bc1b-c26947545749",
   "metadata": {},
   "outputs": [
    {
     "name": "stdout",
     "output_type": "stream",
     "text": [
      "True\n"
     ]
    }
   ],
   "source": [
    "print(file.closed)"
   ]
  },
  {
   "cell_type": "code",
   "execution_count": 16,
   "id": "882d347f-8a4f-430d-9969-728e17750cd5",
   "metadata": {},
   "outputs": [
    {
     "name": "stdout",
     "output_type": "stream",
     "text": [
      "None\n"
     ]
    }
   ],
   "source": [
    "print(file.close())"
   ]
  },
  {
   "cell_type": "code",
   "execution_count": 17,
   "id": "ce4357a0-071c-4cec-8873-1375c5046ded",
   "metadata": {},
   "outputs": [
    {
     "name": "stdout",
     "output_type": "stream",
     "text": [
      "Hi this is Awais Ali. \n",
      "I am learning Python. \n",
      "I also want to work in a software house\n"
     ]
    }
   ],
   "source": [
    "print(file_stuff)"
   ]
  },
  {
   "cell_type": "code",
   "execution_count": 26,
   "id": "abd71ec4-1949-4dfb-ba37-90049d0d1bd6",
   "metadata": {},
   "outputs": [
    {
     "name": "stdout",
     "output_type": "stream",
     "text": [
      "Hi t\n",
      "his is A\n",
      "wais Ali. \n",
      "\n",
      "I am learning Python. \n",
      "\n",
      "I also want to work in a software house\n"
     ]
    }
   ],
   "source": [
    "with open('sample.txt', 'r') as file:\n",
    "    file_stuff = file.readline(4)\n",
    "    print(file_stuff)\n",
    "    file_stuff = file.readline(8)\n",
    "    print(file_stuff)\n",
    "    file_stuff = file.readline(18)\n",
    "    print(file_stuff)\n",
    "    for line in file:\n",
    "        print(line)"
   ]
  },
  {
   "cell_type": "code",
   "execution_count": 25,
   "id": "3af4cc06-a66a-47a6-9426-b302c0941383",
   "metadata": {},
   "outputs": [
    {
     "name": "stdout",
     "output_type": "stream",
     "text": [
      "Hi this is Awais Ali. \n",
      "\n",
      "I am learning Python. \n",
      "\n",
      "I also want to work in a software house\n"
     ]
    }
   ],
   "source": [
    "with open('sample.txt', 'r') as file:\n",
    "    for line in file:\n",
    "        print(line)"
   ]
  },
  {
   "cell_type": "code",
   "execution_count": 28,
   "id": "606753d3-1ad4-431c-93c3-d9be977b1dea",
   "metadata": {},
   "outputs": [
    {
     "name": "stdout",
     "output_type": "stream",
     "text": [
      "Available\n"
     ]
    }
   ],
   "source": [
    "with open('sample.txt', 'r') as file:\n",
    "    line1 = file.readline()\n",
    "    line2 = file.readline()\n",
    "    line3 = file.readline()\n",
    "    if 'Awais' in line1:\n",
    "        print(\"Available\")"
   ]
  },
  {
   "cell_type": "code",
   "execution_count": 29,
   "id": "4ac65574-c72c-4018-9625-6f9efa89806a",
   "metadata": {},
   "outputs": [
    {
     "name": "stdout",
     "output_type": "stream",
     "text": [
      "Availble\n"
     ]
    }
   ],
   "source": [
    "if 'learning' in line2:\n",
    "    print(\"Availble\")"
   ]
  },
  {
   "cell_type": "code",
   "execution_count": 30,
   "id": "e3da20a7-0c18-4153-9cf9-21cd9d3680cf",
   "metadata": {},
   "outputs": [
    {
     "name": "stdout",
     "output_type": "stream",
     "text": [
      "Not availbe\n"
     ]
    }
   ],
   "source": [
    "if 'sss' in line3:\n",
    "    print('Avaible')\n",
    "else: \n",
    "    print(\"Not availbe\")"
   ]
  },
  {
   "cell_type": "markdown",
   "id": "13d0043a-46db-4a2e-812a-091612afb059",
   "metadata": {},
   "source": [
    "Looping through lines: Typically, you use a loop to read lines until no more lines are left. t's like reading the entire book, line by line."
   ]
  },
  {
   "cell_type": "code",
   "execution_count": 34,
   "id": "eec72e1f-7978-4f26-be88-d43256d7046a",
   "metadata": {},
   "outputs": [
    {
     "data": {
      "text/plain": [
       "10"
      ]
     },
     "execution_count": 34,
     "metadata": {},
     "output_type": "execute_result"
    }
   ],
   "source": [
    "file = open('sample.txt', 'r')\n",
    "file.seek(10)"
   ]
  },
  {
   "cell_type": "code",
   "execution_count": 35,
   "id": "086ff688-c9a0-48f7-8baa-653ed7d543fa",
   "metadata": {},
   "outputs": [
    {
     "data": {
      "text/plain": [
       "' Awai'"
      ]
     },
     "execution_count": 35,
     "metadata": {},
     "output_type": "execute_result"
    }
   ],
   "source": [
    "file.read(5)"
   ]
  },
  {
   "cell_type": "code",
   "execution_count": 36,
   "id": "81c36556-c74a-402f-b9f0-8b8eb435b01e",
   "metadata": {},
   "outputs": [
    {
     "name": "stderr",
     "output_type": "stream",
     "text": [
      "'wget' is not recognized as an internal or external command,\n",
      "operable program or batch file.\n"
     ]
    }
   ],
   "source": [
    "# Uncomment these if working locally, else let the following code cell run.\n",
    "\n",
    "import urllib.request\n",
    "url = 'https://cf-courses-data.s3.us.cloud-object-storage.appdomain.cloud/IBMDeveloperSkillsNetwork-PY0101EN-SkillsNetwork/labs/Module%204/data/example1.txt'\n",
    "filename = 'Example1.txt'\n",
    "urllib.request.urlretrieve(url, filename)\n",
    "\n",
    "# Download Example file\n",
    "!wget Example1.txt https://cf-courses-data.s3.us.cloud-object-storage.appdomain.cloud/IBMDeveloperSkillsNetwork-PY0101EN-SkillsNetwork/labs/Module%204/data/example1.txt"
   ]
  },
  {
   "cell_type": "code",
   "execution_count": 37,
   "id": "947f15c5-dee7-46e4-bf83-ed1416e52a0b",
   "metadata": {},
   "outputs": [
    {
     "ename": "ModuleNotFoundError",
     "evalue": "No module named 'pyodide'",
     "output_type": "error",
     "traceback": [
      "\u001b[1;31m---------------------------------------------------------------------------\u001b[0m",
      "\u001b[1;31mModuleNotFoundError\u001b[0m                       Traceback (most recent call last)",
      "Cell \u001b[1;32mIn[37], line 1\u001b[0m\n\u001b[1;32m----> 1\u001b[0m \u001b[38;5;28;01mfrom\u001b[39;00m\u001b[38;5;250m \u001b[39m\u001b[38;5;21;01mpyodide\u001b[39;00m\u001b[38;5;21;01m.\u001b[39;00m\u001b[38;5;21;01mhttp\u001b[39;00m\u001b[38;5;250m \u001b[39m\u001b[38;5;28;01mimport\u001b[39;00m pyfetch\n\u001b[0;32m      3\u001b[0m \u001b[38;5;28;01mimport\u001b[39;00m\u001b[38;5;250m \u001b[39m\u001b[38;5;21;01mpandas\u001b[39;00m\u001b[38;5;250m \u001b[39m\u001b[38;5;28;01mas\u001b[39;00m\u001b[38;5;250m \u001b[39m\u001b[38;5;21;01mpd\u001b[39;00m\n\u001b[0;32m      5\u001b[0m filename \u001b[38;5;241m=\u001b[39m \u001b[38;5;124m\"\u001b[39m\u001b[38;5;124mhttps://cf-courses-data.s3.us.cloud-object-storage.appdomain.cloud/IBMDeveloperSkillsNetwork-PY0101EN-SkillsNetwork/labs/Module\u001b[39m\u001b[38;5;124m%\u001b[39m\u001b[38;5;124m204/data/example1.txt\u001b[39m\u001b[38;5;124m\"\u001b[39m\n",
      "\u001b[1;31mModuleNotFoundError\u001b[0m: No module named 'pyodide'"
     ]
    }
   ],
   "source": [
    "from pyodide.http import pyfetch\n",
    "\n",
    "import pandas as pd\n",
    "\n",
    "filename = \"https://cf-courses-data.s3.us.cloud-object-storage.appdomain.cloud/IBMDeveloperSkillsNetwork-PY0101EN-SkillsNetwork/labs/Module%204/data/example1.txt\"\n",
    "\n",
    "async def download(url, filename):\n",
    "\n",
    "    response = await pyfetch(url)\n",
    "\n",
    "    if response.status == 200:\n",
    "\n",
    "        with open(filename, \"wb\") as f:\n",
    "\n",
    "            f.write(await response.bytes())\n",
    "\n",
    "await download(filename, \"example1.txt\")\n",
    "\n",
    "print(\"done\")\n"
   ]
  },
  {
   "cell_type": "code",
   "execution_count": 39,
   "id": "e685d12f-89fa-4890-b9fa-d708f83d1ec0",
   "metadata": {},
   "outputs": [
    {
     "name": "stdout",
     "output_type": "stream",
     "text": [
      "Iteration 0 :  Hi this is Awais Ali. \n",
      "\n",
      "Iteration 1 :  I am learning Python. \n",
      "\n",
      "Iteration 2 :  I also want to work in a software house\n"
     ]
    }
   ],
   "source": [
    "with open('sample.txt', 'r') as file:\n",
    "    i = 0;\n",
    "    for line in file:\n",
    "        print(\"Iteration\", (i), \": \", line)\n",
    "        i += 1"
   ]
  },
  {
   "cell_type": "code",
   "execution_count": 40,
   "id": "c0bf6d03-c3fd-4a90-9032-d40d7684f1e1",
   "metadata": {},
   "outputs": [
    {
     "name": "stdout",
     "output_type": "stream",
     "text": [
      "['Hi this is Awais Ali. \\n', 'I am learning Python. \\n', 'I also want to work in a software house']\n"
     ]
    }
   ],
   "source": [
    "with open('sample.txt', 'r') as file:\n",
    "    fileAsList = file.readlines()\n",
    "    print(fileAsList)"
   ]
  },
  {
   "cell_type": "code",
   "execution_count": 42,
   "id": "4a834f37-618e-448f-b429-5bf78c060226",
   "metadata": {},
   "outputs": [
    {
     "data": {
      "text/plain": [
       "'I am learning Python. \\n'"
      ]
     },
     "execution_count": 42,
     "metadata": {},
     "output_type": "execute_result"
    }
   ],
   "source": [
    "fileAsList[1]"
   ]
  },
  {
   "cell_type": "markdown",
   "id": "2fe88a60-b801-485a-8d62-ec49019cfe3d",
   "metadata": {},
   "source": [
    "### Writing file with Open"
   ]
  },
  {
   "cell_type": "code",
   "execution_count": 44,
   "id": "254cb6b3-af23-46f6-80a9-0b14673d77b9",
   "metadata": {},
   "outputs": [],
   "source": [
    "with open('sample.txt', 'a') as file:\n",
    "    file.write(\"This is New line \\nthis is second new line \\nThis is third new line\")"
   ]
  },
  {
   "cell_type": "code",
   "execution_count": 46,
   "id": "62bde673-2f75-44af-a504-5b474cddd2c1",
   "metadata": {},
   "outputs": [
    {
     "name": "stdout",
     "output_type": "stream",
     "text": [
      "Hi this is Awais Ali. \n",
      "I am learning Python. \n",
      "I also want to work in a software houseThis is New line \n",
      "this is second new line \n",
      "This is third new lineThis is New line \n",
      "this is second new line \n",
      "This is third new line\n"
     ]
    }
   ],
   "source": [
    "with open('sample.txt', 'r') as file:\n",
    "    read = file.read()\n",
    "    print(read)"
   ]
  },
  {
   "cell_type": "code",
   "execution_count": 47,
   "id": "8c3fc010-8c7a-4a0e-9325-55358a4f6627",
   "metadata": {},
   "outputs": [],
   "source": [
    "Lines = [\"I am adding a list. \\nThird line is added\"]\n",
    "with open('sample.txt', 'w') as file:\n",
    "    for line in Lines:\n",
    "        file.write(line)"
   ]
  },
  {
   "cell_type": "code",
   "execution_count": 48,
   "id": "63b16314-f6b6-403a-981d-aa3b91c39b55",
   "metadata": {},
   "outputs": [
    {
     "name": "stdout",
     "output_type": "stream",
     "text": [
      "I am adding a list. \n",
      "Third line is added\n"
     ]
    }
   ],
   "source": [
    "with open('sample.txt', 'r') as file:\n",
    "    read = file.read()\n",
    "    print(read)"
   ]
  },
  {
   "cell_type": "code",
   "execution_count": 49,
   "id": "edad5e8f-97d9-409a-b7fc-09ebd5f0e055",
   "metadata": {},
   "outputs": [],
   "source": [
    "with open('sample.txt', 'r') as readfile:\n",
    "    with open('sample2.txt', 'w') as writefile:\n",
    "        for line in readfile:\n",
    "            writefile.write(line)\n",
    "        "
   ]
  },
  {
   "cell_type": "code",
   "execution_count": 50,
   "id": "afee31a7-5cf9-47e8-b7a3-ac31bee9bd87",
   "metadata": {},
   "outputs": [
    {
     "name": "stdout",
     "output_type": "stream",
     "text": [
      "I am adding a list. \n",
      "Third line is added\n"
     ]
    }
   ],
   "source": [
    "with open('sample2.txt', 'r') as file:\n",
    "    read = file.read()\n",
    "    print(read)"
   ]
  },
  {
   "cell_type": "code",
   "execution_count": 53,
   "id": "6e318de2-8579-4138-8cc4-98320c2791a5",
   "metadata": {},
   "outputs": [
    {
     "ename": "UnsupportedOperation",
     "evalue": "not readable",
     "output_type": "error",
     "traceback": [
      "\u001b[1;31m---------------------------------------------------------------------------\u001b[0m",
      "\u001b[1;31mUnsupportedOperation\u001b[0m                      Traceback (most recent call last)",
      "Cell \u001b[1;32mIn[53], line 5\u001b[0m\n\u001b[0;32m      3\u001b[0m \u001b[38;5;28;01mfor\u001b[39;00m line \u001b[38;5;129;01min\u001b[39;00m Lines:\n\u001b[0;32m      4\u001b[0m     file2\u001b[38;5;241m.\u001b[39mwrite(line \u001b[38;5;241m+\u001b[39m \u001b[38;5;124m\"\u001b[39m\u001b[38;5;130;01m\\n\u001b[39;00m\u001b[38;5;124m\"\u001b[39m)\n\u001b[1;32m----> 5\u001b[0m     file2\u001b[38;5;241m.\u001b[39mread()\n",
      "\u001b[1;31mUnsupportedOperation\u001b[0m: not readable"
     ]
    }
   ],
   "source": [
    "Lines = ['This is line1', 'This is line2', 'This']\n",
    "with open('sample3.txt', 'w') as file2:\n",
    "    for line in Lines:\n",
    "        file2.write(line + \"\\n\")\n",
    "        file2.read()"
   ]
  },
  {
   "cell_type": "code",
   "execution_count": 52,
   "id": "2426aa89-2726-448e-ac67-b934368837c0",
   "metadata": {},
   "outputs": [
    {
     "ename": "ValueError",
     "evalue": "I/O operation on closed file.",
     "output_type": "error",
     "traceback": [
      "\u001b[1;31m---------------------------------------------------------------------------\u001b[0m",
      "\u001b[1;31mValueError\u001b[0m                                Traceback (most recent call last)",
      "Cell \u001b[1;32mIn[52], line 1\u001b[0m\n\u001b[1;32m----> 1\u001b[0m file2\u001b[38;5;241m.\u001b[39mread()\n",
      "\u001b[1;31mValueError\u001b[0m: I/O operation on closed file."
     ]
    }
   ],
   "source": [
    "file2.read()"
   ]
  },
  {
   "cell_type": "code",
   "execution_count": 55,
   "id": "1b4ff3c7-4ef2-4e51-be9b-25658fda4e6d",
   "metadata": {},
   "outputs": [],
   "source": [
    "# Write line to file\n",
    "exmp2 = 'Example2.txt'\n",
    "with open(exmp2, 'w') as writefile:\n",
    "    writefile.write(\"This a line A\")"
   ]
  },
  {
   "cell_type": "code",
   "execution_count": 56,
   "id": "8432fc00-4d53-4cef-beae-5466747387e5",
   "metadata": {},
   "outputs": [],
   "source": [
    "with open(exmp2, 'r') as readfile:\n",
    "    stuff = readfile.read()"
   ]
  },
  {
   "cell_type": "code",
   "execution_count": 57,
   "id": "e7808c51-bbba-48b7-992d-9afeb003652a",
   "metadata": {},
   "outputs": [
    {
     "name": "stdout",
     "output_type": "stream",
     "text": [
      "This a line A\n"
     ]
    }
   ],
   "source": [
    "print(stuff)"
   ]
  },
  {
   "cell_type": "code",
   "execution_count": 58,
   "id": "f4b9ee3c-91ca-41aa-ab6b-2f1f7166f8b9",
   "metadata": {},
   "outputs": [],
   "source": [
    "with open (exmp2, 'w') as writefile:\n",
    "    writefile.write(\"This is line A\\n\")\n",
    "    writefile.write(\"This is line B\\n\")\n",
    "    "
   ]
  },
  {
   "cell_type": "code",
   "execution_count": 60,
   "id": "d65d8bb5-cc30-4447-806e-576c652a9d3c",
   "metadata": {},
   "outputs": [],
   "source": [
    "with open (exmp2, 'r') as readfile:\n",
    "    data = readfile.read()"
   ]
  },
  {
   "cell_type": "code",
   "execution_count": 61,
   "id": "6ee767d3-e005-4d65-a849-2dcddcf3fd5f",
   "metadata": {},
   "outputs": [
    {
     "name": "stdout",
     "output_type": "stream",
     "text": [
      "This is line A\n",
      "This is line B\n",
      "\n"
     ]
    }
   ],
   "source": [
    "print(data)"
   ]
  },
  {
   "cell_type": "code",
   "execution_count": 62,
   "id": "1c3bc34a-5ade-447a-85d7-78555550d6e3",
   "metadata": {},
   "outputs": [],
   "source": [
    "# Sample list of text\n",
    "Lines = ['I am learning Python \\n', 'It very interesting \\n', 'I am learning from IBM']"
   ]
  },
  {
   "cell_type": "code",
   "execution_count": 63,
   "id": "1039a2bb-4227-403f-8788-6588d6fc472c",
   "metadata": {},
   "outputs": [
    {
     "name": "stdout",
     "output_type": "stream",
     "text": [
      "I am learning Python \n",
      "\n",
      "It very interesting \n",
      "\n",
      "I am learning from IBM\n"
     ]
    }
   ],
   "source": [
    "with open(exmp2, 'w') as writefile:\n",
    "    for line in Lines:\n",
    "        print(line)\n",
    "        writefile.write(line)"
   ]
  },
  {
   "cell_type": "code",
   "execution_count": 65,
   "id": "49eff7ee-4842-425c-89b0-72823e9f4bd1",
   "metadata": {},
   "outputs": [
    {
     "name": "stdout",
     "output_type": "stream",
     "text": [
      "Overwrite\n",
      "\n"
     ]
    }
   ],
   "source": [
    "with open(exmp2, 'w') as writefile:\n",
    "    writefile.write('Overwrite\\n')\n",
    "with open(exmp2, 'r') as readfile:\n",
    "    print(readfile.read())"
   ]
  },
  {
   "cell_type": "code",
   "execution_count": 71,
   "id": "8a7e0eba-31e4-4c16-b40e-6011767a6ae6",
   "metadata": {},
   "outputs": [],
   "source": [
    "with open(exmp2, 'a') as testwritefile:\n",
    "    testwritefile.write(\"Hi, How is it going\\n?\")\n",
    "    testwritefile.write(\"I am doing great\\n\")\n",
    "    testwritefile.write(\"Okay whats new\\n\")"
   ]
  },
  {
   "cell_type": "code",
   "execution_count": 72,
   "id": "aa93480f-f154-490e-88b0-c5dab76aaa81",
   "metadata": {},
   "outputs": [
    {
     "name": "stdout",
     "output_type": "stream",
     "text": [
      "Overwrite\n",
      "Hi, How is it going\n",
      "?I am doing great\n",
      "Hi, How is it going\n",
      "?I am doing great\n",
      "Okay whats newHi, How is it going\n",
      "?I am doing great\n",
      "Okay whats new\n",
      "\n"
     ]
    }
   ],
   "source": [
    "with open(exmp2, 'r') as readfile:\n",
    "    print(readfile.read())"
   ]
  },
  {
   "cell_type": "code",
   "execution_count": 77,
   "id": "8d9cf7c0-3c73-4892-9448-a5e4cd6303f6",
   "metadata": {},
   "outputs": [
    {
     "name": "stdout",
     "output_type": "stream",
     "text": [
      "\n"
     ]
    }
   ],
   "source": [
    "with open(exmp2, 'a+') as test:\n",
    "    test.write(\"This a+\")\n",
    "    tes = test.read()\n",
    "    print(tes)\n",
    "    "
   ]
  },
  {
   "cell_type": "markdown",
   "id": "9e194d02-13d5-4a3e-943b-b350741dce63",
   "metadata": {},
   "source": [
    "### Pandas: Loading Data\n",
    "1. For data analysis\n",
    "2. Pre built functions and classes"
   ]
  },
  {
   "cell_type": "code",
   "execution_count": 4,
   "id": "8354bdbb-8c3d-40fe-8d1d-230fe0f0208e",
   "metadata": {},
   "outputs": [
    {
     "data": {
      "text/html": [
       "<div>\n",
       "<style scoped>\n",
       "    .dataframe tbody tr th:only-of-type {\n",
       "        vertical-align: middle;\n",
       "    }\n",
       "\n",
       "    .dataframe tbody tr th {\n",
       "        vertical-align: top;\n",
       "    }\n",
       "\n",
       "    .dataframe thead th {\n",
       "        text-align: right;\n",
       "    }\n",
       "</style>\n",
       "<table border=\"1\" class=\"dataframe\">\n",
       "  <thead>\n",
       "    <tr style=\"text-align: right;\">\n",
       "      <th></th>\n",
       "      <th>Album</th>\n",
       "      <th>Realeased</th>\n",
       "      <th>Length</th>\n",
       "    </tr>\n",
       "  </thead>\n",
       "  <tbody>\n",
       "    <tr>\n",
       "      <th>0</th>\n",
       "      <td>Thriller</td>\n",
       "      <td>1982</td>\n",
       "      <td>00:42:19</td>\n",
       "    </tr>\n",
       "    <tr>\n",
       "      <th>1</th>\n",
       "      <td>Back in Black</td>\n",
       "      <td>1992</td>\n",
       "      <td>00:42:11</td>\n",
       "    </tr>\n",
       "    <tr>\n",
       "      <th>2</th>\n",
       "      <td>The Dark side of the Moon</td>\n",
       "      <td>1973</td>\n",
       "      <td>00:42:49</td>\n",
       "    </tr>\n",
       "    <tr>\n",
       "      <th>3</th>\n",
       "      <td>The Bodygaurd</td>\n",
       "      <td>1992</td>\n",
       "      <td>00:57:44</td>\n",
       "    </tr>\n",
       "    <tr>\n",
       "      <th>4</th>\n",
       "      <td>Bat out of the Hell</td>\n",
       "      <td>1977</td>\n",
       "      <td>00:46:33</td>\n",
       "    </tr>\n",
       "  </tbody>\n",
       "</table>\n",
       "</div>"
      ],
      "text/plain": [
       "                       Album  Realeased    Length\n",
       "0                   Thriller       1982  00:42:19\n",
       "1              Back in Black       1992  00:42:11\n",
       "2  The Dark side of the Moon       1973  00:42:49\n",
       "3              The Bodygaurd       1992  00:57:44\n",
       "4        Bat out of the Hell       1977  00:46:33"
      ]
     },
     "execution_count": 4,
     "metadata": {},
     "output_type": "execute_result"
    }
   ],
   "source": [
    "#Creating a data frame using the Dictionary\n",
    "import pandas as pd\n",
    "songs = {\n",
    "    'Album' : ['Thriller', 'Back in Black', 'The Dark side of the Moon',\\\n",
    "              'The Bodygaurd', 'Bat out of the Hell'],\n",
    "    'Realeased': [1982, 1992, 1973, 1992, 1977],\n",
    "    'Length': ['00:42:19', '00:42:11', '00:42:49', '00:57:44', '00:46:33']\n",
    "}\n",
    "songs_frame = pd.DataFrame(songs)\n",
    "songs_frame"
   ]
  },
  {
   "cell_type": "code",
   "execution_count": 11,
   "id": "a809b7b3-0e65-464f-9ddd-1b6126180368",
   "metadata": {},
   "outputs": [
    {
     "name": "stdout",
     "output_type": "stream",
     "text": [
      "00:46:33\n"
     ]
    }
   ],
   "source": [
    "print(songs_frame.iloc[4,2])"
   ]
  },
  {
   "cell_type": "code",
   "execution_count": 12,
   "id": "c84c4c9a-3946-44f2-b622-ce922d18426a",
   "metadata": {},
   "outputs": [
    {
     "data": {
      "text/html": [
       "<div>\n",
       "<style scoped>\n",
       "    .dataframe tbody tr th:only-of-type {\n",
       "        vertical-align: middle;\n",
       "    }\n",
       "\n",
       "    .dataframe tbody tr th {\n",
       "        vertical-align: top;\n",
       "    }\n",
       "\n",
       "    .dataframe thead th {\n",
       "        text-align: right;\n",
       "    }\n",
       "</style>\n",
       "<table border=\"1\" class=\"dataframe\">\n",
       "  <thead>\n",
       "    <tr style=\"text-align: right;\">\n",
       "      <th></th>\n",
       "      <th>Album</th>\n",
       "      <th>Realeased</th>\n",
       "      <th>Length</th>\n",
       "    </tr>\n",
       "  </thead>\n",
       "  <tbody>\n",
       "    <tr>\n",
       "      <th>a</th>\n",
       "      <td>Thriller</td>\n",
       "      <td>1982</td>\n",
       "      <td>00:42:19</td>\n",
       "    </tr>\n",
       "    <tr>\n",
       "      <th>b</th>\n",
       "      <td>Back in Black</td>\n",
       "      <td>1992</td>\n",
       "      <td>00:42:11</td>\n",
       "    </tr>\n",
       "    <tr>\n",
       "      <th>c</th>\n",
       "      <td>The Dark side of the Moon</td>\n",
       "      <td>1973</td>\n",
       "      <td>00:42:49</td>\n",
       "    </tr>\n",
       "    <tr>\n",
       "      <th>d</th>\n",
       "      <td>The Bodygaurd</td>\n",
       "      <td>1992</td>\n",
       "      <td>00:57:44</td>\n",
       "    </tr>\n",
       "    <tr>\n",
       "      <th>e</th>\n",
       "      <td>Bat out of the Hell</td>\n",
       "      <td>1977</td>\n",
       "      <td>00:46:33</td>\n",
       "    </tr>\n",
       "  </tbody>\n",
       "</table>\n",
       "</div>"
      ],
      "text/plain": [
       "                       Album  Realeased    Length\n",
       "a                   Thriller       1982  00:42:19\n",
       "b              Back in Black       1992  00:42:11\n",
       "c  The Dark side of the Moon       1973  00:42:49\n",
       "d              The Bodygaurd       1992  00:57:44\n",
       "e        Bat out of the Hell       1977  00:46:33"
      ]
     },
     "execution_count": 12,
     "metadata": {},
     "output_type": "execute_result"
    }
   ],
   "source": [
    "df = songs_frame\n",
    "df.index = ['a', 'b', 'c', 'd', 'e']\n",
    "df"
   ]
  },
  {
   "cell_type": "code",
   "execution_count": 14,
   "id": "df24a9b2-f3c7-47f5-8ea2-5cd197e2f2d3",
   "metadata": {},
   "outputs": [
    {
     "data": {
      "text/html": [
       "<div>\n",
       "<style scoped>\n",
       "    .dataframe tbody tr th:only-of-type {\n",
       "        vertical-align: middle;\n",
       "    }\n",
       "\n",
       "    .dataframe tbody tr th {\n",
       "        vertical-align: top;\n",
       "    }\n",
       "\n",
       "    .dataframe thead th {\n",
       "        text-align: right;\n",
       "    }\n",
       "</style>\n",
       "<table border=\"1\" class=\"dataframe\">\n",
       "  <thead>\n",
       "    <tr style=\"text-align: right;\">\n",
       "      <th></th>\n",
       "      <th>Album</th>\n",
       "      <th>Realeased</th>\n",
       "      <th>Length</th>\n",
       "    </tr>\n",
       "  </thead>\n",
       "  <tbody>\n",
       "    <tr>\n",
       "      <th>a</th>\n",
       "      <td>Thriller</td>\n",
       "      <td>1982</td>\n",
       "      <td>00:42:19</td>\n",
       "    </tr>\n",
       "    <tr>\n",
       "      <th>b</th>\n",
       "      <td>Back in Black</td>\n",
       "      <td>1992</td>\n",
       "      <td>00:42:11</td>\n",
       "    </tr>\n",
       "  </tbody>\n",
       "</table>\n",
       "</div>"
      ],
      "text/plain": [
       "           Album  Realeased    Length\n",
       "a       Thriller       1982  00:42:19\n",
       "b  Back in Black       1992  00:42:11"
      ]
     },
     "execution_count": 14,
     "metadata": {},
     "output_type": "execute_result"
    }
   ],
   "source": [
    "df.iloc[0:2, 0:3]"
   ]
  },
  {
   "cell_type": "markdown",
   "id": "42ff8b79-ae5b-4683-a530-600aee3e5b19",
   "metadata": {},
   "source": [
    "### Pandas: Working with and Saving Data"
   ]
  },
  {
   "cell_type": "code",
   "execution_count": 17,
   "id": "8f29ecec-f683-4333-9362-d16482c4ad37",
   "metadata": {},
   "outputs": [
    {
     "data": {
      "text/plain": [
       "array([1982, 1992, 1973, 1977])"
      ]
     },
     "execution_count": 17,
     "metadata": {},
     "output_type": "execute_result"
    }
   ],
   "source": [
    "df['Realeased'].unique()"
   ]
  },
  {
   "cell_type": "code",
   "execution_count": 18,
   "id": "af56ac60-b941-4c7f-90d1-262ac64b1b42",
   "metadata": {},
   "outputs": [
    {
     "data": {
      "text/plain": [
       "a    True\n",
       "b    True\n",
       "c    True\n",
       "d    True\n",
       "e    True\n",
       "Name: Realeased, dtype: bool"
      ]
     },
     "execution_count": 18,
     "metadata": {},
     "output_type": "execute_result"
    }
   ],
   "source": [
    "df['Realeased']>1900"
   ]
  },
  {
   "cell_type": "markdown",
   "id": "3c5b65b7-2d55-4a02-a69b-2567716cbb6a",
   "metadata": {},
   "source": [
    "### Reading\n",
    "**Data Structures**\n",
    "1. DataFrame:\n",
    "   - Two-Dimensional\n",
    "   - size-mutable\n",
    "   - heterogeneous tabular data tructure\n",
    "     - with labeled axes(rows and columns)\n",
    "2. Series:\n",
    "   - One-dimensional labeled array,\n",
    "   - single column or row"
   ]
  },
  {
   "cell_type": "markdown",
   "id": "c4d1348e-2196-49fe-8a13-c79c0f7ac501",
   "metadata": {},
   "source": [
    "### Series Attributes and Methods\n",
    "1. values: returns Series data as a Numpy array.\n",
    "2. index: returns index(labels) of the Series.\n",
    "3. shape:\n",
    "4. size\n",
    "5. mean(), sum(), min(), max()\n",
    "6. unique(), nunique)\n",
    "7. sort_values(), sort_index()\n",
    "8. isnull(), notnull()\n",
    "9. apply()"
   ]
  },
  {
   "cell_type": "code",
   "execution_count": 55,
   "id": "35c688f4-de71-49b8-b5e7-c3ed2e3657a7",
   "metadata": {},
   "outputs": [
    {
     "name": "stdout",
     "output_type": "stream",
     "text": [
      "0    True\n",
      "1    True\n",
      "2    True\n",
      "3    True\n",
      "4    True\n",
      "5    True\n",
      "6    True\n",
      "dtype: bool\n"
     ]
    }
   ],
   "source": [
    "# Series Example\n",
    "import pandas as pd\n",
    "data = [10,30, 19, 18, 17, 30,0]\n",
    "s = pd.Series(data)\n",
    "s\n",
    "print(s.notnull())"
   ]
  },
  {
   "cell_type": "code",
   "execution_count": 22,
   "id": "2fc8f7f0-fdba-4b88-823f-a63937ae54ea",
   "metadata": {},
   "outputs": [
    {
     "name": "stdout",
     "output_type": "stream",
     "text": [
      "19\n"
     ]
    }
   ],
   "source": [
    "print(s[2])"
   ]
  },
  {
   "cell_type": "code",
   "execution_count": 23,
   "id": "f3be4a9a-3f8e-489f-ad91-a05996fb28ca",
   "metadata": {},
   "outputs": [
    {
     "name": "stdout",
     "output_type": "stream",
     "text": [
      "18\n"
     ]
    }
   ],
   "source": [
    "print(s.iloc[3])"
   ]
  },
  {
   "cell_type": "code",
   "execution_count": 24,
   "id": "779b04b6-a8b8-4209-8c7f-782dbc30ef15",
   "metadata": {},
   "outputs": [
    {
     "name": "stdout",
     "output_type": "stream",
     "text": [
      "0    10\n",
      "1    30\n",
      "2    19\n",
      "dtype: int64\n"
     ]
    }
   ],
   "source": [
    "print(s[:3])"
   ]
  },
  {
   "cell_type": "code",
   "execution_count": 29,
   "id": "9a08246e-d286-4e1c-9982-224196f42d9c",
   "metadata": {},
   "outputs": [
    {
     "data": {
      "text/plain": [
       "0       Ali\n",
       "1     Awais\n",
       "2     Imran\n",
       "3    Haroon\n",
       "4      Saad\n",
       "Name: Name, dtype: object"
      ]
     },
     "execution_count": 29,
     "metadata": {},
     "output_type": "execute_result"
    }
   ],
   "source": [
    "data = {\n",
    "    'Name': ['Ali', 'Awais', 'Imran', 'Haroon', 'Saad'],\n",
    "    'Age': [32,54, 23,53,12],\n",
    "    'City': ['Lhr', 'ISB', 'Krch', 'Pindi', 'Mltn']\n",
    "}\n",
    "df = pd.DataFrame(data)\n",
    "df['Name']"
   ]
  },
  {
   "cell_type": "code",
   "execution_count": 31,
   "id": "2c4a082c-ac67-4b63-a238-cb3e8515d1e4",
   "metadata": {},
   "outputs": [
    {
     "name": "stdout",
     "output_type": "stream",
     "text": [
      "Name    Imran\n",
      "Age        23\n",
      "City     Krch\n",
      "Name: 2, dtype: object\n"
     ]
    }
   ],
   "source": [
    "print(df.iloc[2])"
   ]
  },
  {
   "cell_type": "code",
   "execution_count": 32,
   "id": "b530017b-5806-4f36-adf3-e97d0a53e4b3",
   "metadata": {},
   "outputs": [
    {
     "name": "stdout",
     "output_type": "stream",
     "text": [
      "Name    Awais\n",
      "Age        54\n",
      "City      ISB\n",
      "Name: 1, dtype: object\n"
     ]
    }
   ],
   "source": [
    "print(df.iloc[1])"
   ]
  },
  {
   "cell_type": "code",
   "execution_count": 35,
   "id": "72bd145c-ac51-4afc-86c9-7757c6d22af2",
   "metadata": {},
   "outputs": [
    {
     "name": "stdout",
     "output_type": "stream",
     "text": [
      "     Name  Age\n",
      "0     Ali   32\n",
      "1   Awais   54\n",
      "2   Imran   23\n",
      "3  Haroon   53\n",
      "4    Saad   12\n",
      "    Name  Age  City\n",
      "1  Awais   54   ISB\n",
      "2  Imran   23  Krch\n"
     ]
    }
   ],
   "source": [
    "print(df[['Name', 'Age']])\n",
    "print(df[1:3])"
   ]
  },
  {
   "cell_type": "code",
   "execution_count": 37,
   "id": "8c6b96e3-8660-4625-abc8-ecdfda120ed0",
   "metadata": {},
   "outputs": [
    {
     "data": {
      "text/plain": [
       "array([32, 54, 23, 53, 12])"
      ]
     },
     "execution_count": 37,
     "metadata": {},
     "output_type": "execute_result"
    }
   ],
   "source": [
    "unique_dates = df['Age'].unique()\n",
    "unique_dates"
   ]
  },
  {
   "cell_type": "code",
   "execution_count": 42,
   "id": "4b94ff81-81be-414c-bcb5-2665e535302c",
   "metadata": {},
   "outputs": [
    {
     "data": {
      "text/html": [
       "<div>\n",
       "<style scoped>\n",
       "    .dataframe tbody tr th:only-of-type {\n",
       "        vertical-align: middle;\n",
       "    }\n",
       "\n",
       "    .dataframe tbody tr th {\n",
       "        vertical-align: top;\n",
       "    }\n",
       "\n",
       "    .dataframe thead th {\n",
       "        text-align: right;\n",
       "    }\n",
       "</style>\n",
       "<table border=\"1\" class=\"dataframe\">\n",
       "  <thead>\n",
       "    <tr style=\"text-align: right;\">\n",
       "      <th></th>\n",
       "      <th>Name</th>\n",
       "      <th>Age</th>\n",
       "      <th>City</th>\n",
       "    </tr>\n",
       "  </thead>\n",
       "  <tbody>\n",
       "    <tr>\n",
       "      <th>1</th>\n",
       "      <td>Awais</td>\n",
       "      <td>54</td>\n",
       "      <td>ISB</td>\n",
       "    </tr>\n",
       "    <tr>\n",
       "      <th>3</th>\n",
       "      <td>Haroon</td>\n",
       "      <td>53</td>\n",
       "      <td>Pindi</td>\n",
       "    </tr>\n",
       "  </tbody>\n",
       "</table>\n",
       "</div>"
      ],
      "text/plain": [
       "     Name  Age   City\n",
       "1   Awais   54    ISB\n",
       "3  Haroon   53  Pindi"
      ]
     },
     "execution_count": 42,
     "metadata": {},
     "output_type": "execute_result"
    }
   ],
   "source": [
    "high_above_102 = df[df['Age']>50]\n",
    "high_above_102"
   ]
  },
  {
   "cell_type": "code",
   "execution_count": 43,
   "id": "c5d4b509-28b0-4888-a7a1-40f49704cd81",
   "metadata": {},
   "outputs": [],
   "source": [
    "df.to_csv('trading_data.csv', index=False)"
   ]
  },
  {
   "cell_type": "code",
   "execution_count": 44,
   "id": "2150b2ad-c38b-4ec2-8212-6d0962a35578",
   "metadata": {},
   "outputs": [],
   "source": [
    "titanic = pd.read_csv('E:\\\\titanic.csv')"
   ]
  },
  {
   "cell_type": "code",
   "execution_count": 45,
   "id": "1ecb0e63-f81d-4203-a0d0-00d988f7159e",
   "metadata": {},
   "outputs": [],
   "source": [
    "titanic.to_csv('Titanic.csv')"
   ]
  },
  {
   "cell_type": "markdown",
   "id": "6f402224-ab6d-4b41-9b08-5cfec1ebffdc",
   "metadata": {},
   "source": [
    "### DataFrame Attributes and Methods\n",
    "1. Shape: returns dimensions (number of rows and columns)\n",
    "2. info(): provides summary\n",
    "3. describe(): statistical summary\n",
    "4. head(), tail(), min(), max()\n",
    "5. sort_values()\n",
    "6. groupby(): Group data based on specific columns for aggregation\n",
    "7. fillna(), drop(), rename(): handle missing values\n",
    "8. apply(): apply funtion to each element, row or column of the dataframe"
   ]
  },
  {
   "cell_type": "code",
   "execution_count": 46,
   "id": "8140242f-8356-485e-b34d-9c9026d6ed11",
   "metadata": {},
   "outputs": [
    {
     "data": {
      "text/plain": [
       "(5, 3)"
      ]
     },
     "execution_count": 46,
     "metadata": {},
     "output_type": "execute_result"
    }
   ],
   "source": [
    "df.shape"
   ]
  },
  {
   "cell_type": "code",
   "execution_count": 56,
   "id": "04909f6c-bd2d-4126-8c6d-6cfed265139f",
   "metadata": {},
   "outputs": [
    {
     "data": {
      "text/html": [
       "<div>\n",
       "<style scoped>\n",
       "    .dataframe tbody tr th:only-of-type {\n",
       "        vertical-align: middle;\n",
       "    }\n",
       "\n",
       "    .dataframe tbody tr th {\n",
       "        vertical-align: top;\n",
       "    }\n",
       "\n",
       "    .dataframe thead th {\n",
       "        text-align: right;\n",
       "    }\n",
       "</style>\n",
       "<table border=\"1\" class=\"dataframe\">\n",
       "  <thead>\n",
       "    <tr style=\"text-align: right;\">\n",
       "      <th></th>\n",
       "      <th>Name</th>\n",
       "      <th>ID</th>\n",
       "      <th>Department</th>\n",
       "      <th>Salary</th>\n",
       "    </tr>\n",
       "  </thead>\n",
       "  <tbody>\n",
       "    <tr>\n",
       "      <th>0</th>\n",
       "      <td>Rose</td>\n",
       "      <td>1</td>\n",
       "      <td>Architect Group</td>\n",
       "      <td>100000</td>\n",
       "    </tr>\n",
       "    <tr>\n",
       "      <th>1</th>\n",
       "      <td>John</td>\n",
       "      <td>2</td>\n",
       "      <td>Software Group</td>\n",
       "      <td>80000</td>\n",
       "    </tr>\n",
       "    <tr>\n",
       "      <th>2</th>\n",
       "      <td>Jane</td>\n",
       "      <td>3</td>\n",
       "      <td>Design Team</td>\n",
       "      <td>50000</td>\n",
       "    </tr>\n",
       "    <tr>\n",
       "      <th>3</th>\n",
       "      <td>Mary</td>\n",
       "      <td>4</td>\n",
       "      <td>Infrastructure</td>\n",
       "      <td>60000</td>\n",
       "    </tr>\n",
       "  </tbody>\n",
       "</table>\n",
       "</div>"
      ],
      "text/plain": [
       "   Name  ID       Department  Salary\n",
       "0  Rose   1  Architect Group  100000\n",
       "1  John   2   Software Group   80000\n",
       "2  Jane   3      Design Team   50000\n",
       "3  Mary   4   Infrastructure   60000"
      ]
     },
     "execution_count": 56,
     "metadata": {},
     "output_type": "execute_result"
    }
   ],
   "source": [
    "#Define a dictionary 'x'\n",
    "\n",
    "x = {'Name': ['Rose','John', 'Jane', 'Mary'], 'ID': [1, 2, 3, 4], 'Department': ['Architect Group', 'Software Group', 'Design Team', 'Infrastructure'], \n",
    "      'Salary':[100000, 80000, 50000, 60000]}\n",
    "\n",
    "#casting the dictionary to a DataFrame\n",
    "df = pd.DataFrame(x)\n",
    "\n",
    "#display the result df\n",
    "df"
   ]
  },
  {
   "cell_type": "code",
   "execution_count": 59,
   "id": "f92b4c27-45ec-47ef-8adc-886b846b361d",
   "metadata": {},
   "outputs": [
    {
     "data": {
      "text/html": [
       "<div>\n",
       "<style scoped>\n",
       "    .dataframe tbody tr th:only-of-type {\n",
       "        vertical-align: middle;\n",
       "    }\n",
       "\n",
       "    .dataframe tbody tr th {\n",
       "        vertical-align: top;\n",
       "    }\n",
       "\n",
       "    .dataframe thead th {\n",
       "        text-align: right;\n",
       "    }\n",
       "</style>\n",
       "<table border=\"1\" class=\"dataframe\">\n",
       "  <thead>\n",
       "    <tr style=\"text-align: right;\">\n",
       "      <th></th>\n",
       "      <th>ID</th>\n",
       "    </tr>\n",
       "  </thead>\n",
       "  <tbody>\n",
       "    <tr>\n",
       "      <th>0</th>\n",
       "      <td>1</td>\n",
       "    </tr>\n",
       "    <tr>\n",
       "      <th>1</th>\n",
       "      <td>2</td>\n",
       "    </tr>\n",
       "    <tr>\n",
       "      <th>2</th>\n",
       "      <td>3</td>\n",
       "    </tr>\n",
       "    <tr>\n",
       "      <th>3</th>\n",
       "      <td>4</td>\n",
       "    </tr>\n",
       "  </tbody>\n",
       "</table>\n",
       "</div>"
      ],
      "text/plain": [
       "   ID\n",
       "0   1\n",
       "1   2\n",
       "2   3\n",
       "3   4"
      ]
     },
     "execution_count": 59,
     "metadata": {},
     "output_type": "execute_result"
    }
   ],
   "source": [
    "x = df[['ID']]\n",
    "x"
   ]
  },
  {
   "cell_type": "code",
   "execution_count": 60,
   "id": "4782fb56-47f1-45c0-b543-bd0fa567f3a1",
   "metadata": {},
   "outputs": [
    {
     "data": {
      "text/plain": [
       "pandas.core.frame.DataFrame"
      ]
     },
     "execution_count": 60,
     "metadata": {},
     "output_type": "execute_result"
    }
   ],
   "source": [
    "type(x)"
   ]
  },
  {
   "cell_type": "code",
   "execution_count": 62,
   "id": "775e9af0-dc1b-4221-a372-2616a0b366e8",
   "metadata": {},
   "outputs": [
    {
     "data": {
      "text/html": [
       "<div>\n",
       "<style scoped>\n",
       "    .dataframe tbody tr th:only-of-type {\n",
       "        vertical-align: middle;\n",
       "    }\n",
       "\n",
       "    .dataframe tbody tr th {\n",
       "        vertical-align: top;\n",
       "    }\n",
       "\n",
       "    .dataframe thead th {\n",
       "        text-align: right;\n",
       "    }\n",
       "</style>\n",
       "<table border=\"1\" class=\"dataframe\">\n",
       "  <thead>\n",
       "    <tr style=\"text-align: right;\">\n",
       "      <th></th>\n",
       "      <th>Department</th>\n",
       "      <th>Salary</th>\n",
       "      <th>ID</th>\n",
       "    </tr>\n",
       "  </thead>\n",
       "  <tbody>\n",
       "    <tr>\n",
       "      <th>0</th>\n",
       "      <td>Architect Group</td>\n",
       "      <td>100000</td>\n",
       "      <td>1</td>\n",
       "    </tr>\n",
       "    <tr>\n",
       "      <th>1</th>\n",
       "      <td>Software Group</td>\n",
       "      <td>80000</td>\n",
       "      <td>2</td>\n",
       "    </tr>\n",
       "    <tr>\n",
       "      <th>2</th>\n",
       "      <td>Design Team</td>\n",
       "      <td>50000</td>\n",
       "      <td>3</td>\n",
       "    </tr>\n",
       "    <tr>\n",
       "      <th>3</th>\n",
       "      <td>Infrastructure</td>\n",
       "      <td>60000</td>\n",
       "      <td>4</td>\n",
       "    </tr>\n",
       "  </tbody>\n",
       "</table>\n",
       "</div>"
      ],
      "text/plain": [
       "        Department  Salary  ID\n",
       "0  Architect Group  100000   1\n",
       "1   Software Group   80000   2\n",
       "2      Design Team   50000   3\n",
       "3   Infrastructure   60000   4"
      ]
     },
     "execution_count": 62,
     "metadata": {},
     "output_type": "execute_result"
    }
   ],
   "source": [
    "z = df[['Department', 'Salary', 'ID']]\n",
    "z"
   ]
  },
  {
   "cell_type": "code",
   "execution_count": 64,
   "id": "dd83038e-57cd-4190-9cef-88edee07c44a",
   "metadata": {},
   "outputs": [
    {
     "name": "stdout",
     "output_type": "stream",
     "text": [
      "  Student  Age Country            Course Marks\n",
      "0   David   27      UK            Python    85\n",
      "1  Samuel   24  Canada   Data Structures    72\n",
      "2   Terry   22   China  Machine Learning    89\n",
      "3    Even   32     USA   Web Development    76\n"
     ]
    }
   ],
   "source": [
    "#write your code here\n",
    "import pandas as pd\n",
    "data = { 'Student': ['David', 'Samuel', 'Terry', 'Even'],\n",
    "        'Age': [27, 24, 22, 32],\n",
    "        'Country': ['UK', 'Canada', 'China', 'USA'],\n",
    "        'Course': ['Python', 'Data Structures', 'Machine Learning', 'Web Development'],\n",
    "        'Marks': ['85', '72', '89', '76']\n",
    "       }\n",
    "Data = pd.DataFrame(data)\n",
    "print(Data)"
   ]
  },
  {
   "cell_type": "code",
   "execution_count": 69,
   "id": "54ce5bf5-b579-488f-9fac-374c48ae52f8",
   "metadata": {},
   "outputs": [
    {
     "data": {
      "text/html": [
       "<div>\n",
       "<style scoped>\n",
       "    .dataframe tbody tr th:only-of-type {\n",
       "        vertical-align: middle;\n",
       "    }\n",
       "\n",
       "    .dataframe tbody tr th {\n",
       "        vertical-align: top;\n",
       "    }\n",
       "\n",
       "    .dataframe thead th {\n",
       "        text-align: right;\n",
       "    }\n",
       "</style>\n",
       "<table border=\"1\" class=\"dataframe\">\n",
       "  <thead>\n",
       "    <tr style=\"text-align: right;\">\n",
       "      <th></th>\n",
       "      <th>Marks</th>\n",
       "    </tr>\n",
       "  </thead>\n",
       "  <tbody>\n",
       "    <tr>\n",
       "      <th>0</th>\n",
       "      <td>85</td>\n",
       "    </tr>\n",
       "    <tr>\n",
       "      <th>1</th>\n",
       "      <td>72</td>\n",
       "    </tr>\n",
       "    <tr>\n",
       "      <th>2</th>\n",
       "      <td>89</td>\n",
       "    </tr>\n",
       "    <tr>\n",
       "      <th>3</th>\n",
       "      <td>76</td>\n",
       "    </tr>\n",
       "  </tbody>\n",
       "</table>\n",
       "</div>"
      ],
      "text/plain": [
       "  Marks\n",
       "0    85\n",
       "1    72\n",
       "2    89\n",
       "3    76"
      ]
     },
     "execution_count": 69,
     "metadata": {},
     "output_type": "execute_result"
    }
   ],
   "source": [
    "b = Data[['Marks']]\n",
    "b"
   ]
  },
  {
   "cell_type": "code",
   "execution_count": 71,
   "id": "77373f7d-62cc-4622-9598-2d3ad675ce70",
   "metadata": {},
   "outputs": [
    {
     "data": {
      "text/html": [
       "<div>\n",
       "<style scoped>\n",
       "    .dataframe tbody tr th:only-of-type {\n",
       "        vertical-align: middle;\n",
       "    }\n",
       "\n",
       "    .dataframe tbody tr th {\n",
       "        vertical-align: top;\n",
       "    }\n",
       "\n",
       "    .dataframe thead th {\n",
       "        text-align: right;\n",
       "    }\n",
       "</style>\n",
       "<table border=\"1\" class=\"dataframe\">\n",
       "  <thead>\n",
       "    <tr style=\"text-align: right;\">\n",
       "      <th></th>\n",
       "      <th>Country</th>\n",
       "      <th>Course</th>\n",
       "    </tr>\n",
       "  </thead>\n",
       "  <tbody>\n",
       "    <tr>\n",
       "      <th>0</th>\n",
       "      <td>UK</td>\n",
       "      <td>Python</td>\n",
       "    </tr>\n",
       "    <tr>\n",
       "      <th>1</th>\n",
       "      <td>Canada</td>\n",
       "      <td>Data Structures</td>\n",
       "    </tr>\n",
       "    <tr>\n",
       "      <th>2</th>\n",
       "      <td>China</td>\n",
       "      <td>Machine Learning</td>\n",
       "    </tr>\n",
       "    <tr>\n",
       "      <th>3</th>\n",
       "      <td>USA</td>\n",
       "      <td>Web Development</td>\n",
       "    </tr>\n",
       "  </tbody>\n",
       "</table>\n",
       "</div>"
      ],
      "text/plain": [
       "  Country            Course\n",
       "0      UK            Python\n",
       "1  Canada   Data Structures\n",
       "2   China  Machine Learning\n",
       "3     USA   Web Development"
      ]
     },
     "execution_count": 71,
     "metadata": {},
     "output_type": "execute_result"
    }
   ],
   "source": [
    "c = Data[['Country', 'Course']]\n",
    "c"
   ]
  },
  {
   "cell_type": "code",
   "execution_count": 72,
   "id": "34775557-1178-469b-a06f-33e079f79eba",
   "metadata": {},
   "outputs": [
    {
     "data": {
      "text/plain": [
       "0     David\n",
       "1    Samuel\n",
       "2     Terry\n",
       "3      Even\n",
       "Name: Student, dtype: object"
      ]
     },
     "execution_count": 72,
     "metadata": {},
     "output_type": "execute_result"
    }
   ],
   "source": [
    "x = Data['Student'] #to see as a Series\n",
    "x"
   ]
  },
  {
   "cell_type": "code",
   "execution_count": 73,
   "id": "4c6b893f-d11e-4f00-accc-e82e52bd0d24",
   "metadata": {},
   "outputs": [
    {
     "data": {
      "text/plain": [
       "pandas.core.series.Series"
      ]
     },
     "execution_count": 73,
     "metadata": {},
     "output_type": "execute_result"
    }
   ],
   "source": [
    "type(x)"
   ]
  },
  {
   "cell_type": "markdown",
   "id": "1e2c0457-7584-4e66-833f-78f768c6d1e1",
   "metadata": {},
   "source": [
    "### Exercise 2: loc() and iloc() functions\n",
    "1. loc(): is a label-based data selecting method which means that we have to pass the name of the row or column that we want to select. This method includes the last element of the range passend in it.\n",
    "   - Simple syntax for understanding:\n",
    "     - loc[row_label, column_label]\n",
    "2. iloc() is an indexed-based selecting method which means that we have to pass an integer index in the method to select a specific row/column. This method does not include the last emlement of the range  passed in it.\n",
    "   - Simple Syntax\n",
    "     - iloc[row_index, column_index]"
   ]
  },
  {
   "cell_type": "code",
   "execution_count": 74,
   "id": "3c43190c-f64e-4414-b012-3e62c95d43e3",
   "metadata": {},
   "outputs": [
    {
     "data": {
      "text/plain": [
       "'David'"
      ]
     },
     "execution_count": 74,
     "metadata": {},
     "output_type": "execute_result"
    }
   ],
   "source": [
    "Data.iloc[0, 0]"
   ]
  },
  {
   "cell_type": "code",
   "execution_count": 75,
   "id": "f33ed3aa-b97e-4c07-8215-8d0e894822e3",
   "metadata": {},
   "outputs": [
    {
     "data": {
      "text/html": [
       "<div>\n",
       "<style scoped>\n",
       "    .dataframe tbody tr th:only-of-type {\n",
       "        vertical-align: middle;\n",
       "    }\n",
       "\n",
       "    .dataframe tbody tr th {\n",
       "        vertical-align: top;\n",
       "    }\n",
       "\n",
       "    .dataframe thead th {\n",
       "        text-align: right;\n",
       "    }\n",
       "</style>\n",
       "<table border=\"1\" class=\"dataframe\">\n",
       "  <thead>\n",
       "    <tr style=\"text-align: right;\">\n",
       "      <th></th>\n",
       "      <th>Student</th>\n",
       "      <th>Age</th>\n",
       "      <th>Country</th>\n",
       "      <th>Course</th>\n",
       "      <th>Marks</th>\n",
       "    </tr>\n",
       "  </thead>\n",
       "  <tbody>\n",
       "    <tr>\n",
       "      <th>0</th>\n",
       "      <td>David</td>\n",
       "      <td>27</td>\n",
       "      <td>UK</td>\n",
       "      <td>Python</td>\n",
       "      <td>85</td>\n",
       "    </tr>\n",
       "    <tr>\n",
       "      <th>1</th>\n",
       "      <td>Samuel</td>\n",
       "      <td>24</td>\n",
       "      <td>Canada</td>\n",
       "      <td>Data Structures</td>\n",
       "      <td>72</td>\n",
       "    </tr>\n",
       "    <tr>\n",
       "      <th>2</th>\n",
       "      <td>Terry</td>\n",
       "      <td>22</td>\n",
       "      <td>China</td>\n",
       "      <td>Machine Learning</td>\n",
       "      <td>89</td>\n",
       "    </tr>\n",
       "    <tr>\n",
       "      <th>3</th>\n",
       "      <td>Even</td>\n",
       "      <td>32</td>\n",
       "      <td>USA</td>\n",
       "      <td>Web Development</td>\n",
       "      <td>76</td>\n",
       "    </tr>\n",
       "  </tbody>\n",
       "</table>\n",
       "</div>"
      ],
      "text/plain": [
       "  Student  Age Country            Course Marks\n",
       "0   David   27      UK            Python    85\n",
       "1  Samuel   24  Canada   Data Structures    72\n",
       "2   Terry   22   China  Machine Learning    89\n",
       "3    Even   32     USA   Web Development    76"
      ]
     },
     "execution_count": 75,
     "metadata": {},
     "output_type": "execute_result"
    }
   ],
   "source": [
    "Data"
   ]
  },
  {
   "cell_type": "code",
   "execution_count": 76,
   "id": "a71c4315-4682-4029-b246-0b02d72da4b0",
   "metadata": {},
   "outputs": [
    {
     "data": {
      "text/plain": [
       "'UK'"
      ]
     },
     "execution_count": 76,
     "metadata": {},
     "output_type": "execute_result"
    }
   ],
   "source": [
    "Data.iloc[0,2]"
   ]
  },
  {
   "cell_type": "code",
   "execution_count": 77,
   "id": "c4688f82-a7a4-47e4-bbcb-a20dbb4fc5e5",
   "metadata": {},
   "outputs": [
    {
     "data": {
      "text/plain": [
       "'Canada'"
      ]
     },
     "execution_count": 77,
     "metadata": {},
     "output_type": "execute_result"
    }
   ],
   "source": [
    "Data.iloc[1, 2]"
   ]
  },
  {
   "cell_type": "code",
   "execution_count": 81,
   "id": "b866447f-1cb9-4a83-b902-611871c91292",
   "metadata": {},
   "outputs": [
    {
     "data": {
      "text/plain": [
       "'Python'"
      ]
     },
     "execution_count": 81,
     "metadata": {},
     "output_type": "execute_result"
    }
   ],
   "source": [
    "Data.loc[0, 'Course']"
   ]
  },
  {
   "cell_type": "code",
   "execution_count": 84,
   "id": "a191bd51-b6cf-4fd4-81fa-6ee76c2f863a",
   "metadata": {},
   "outputs": [
    {
     "data": {
      "text/html": [
       "<div>\n",
       "<style scoped>\n",
       "    .dataframe tbody tr th:only-of-type {\n",
       "        vertical-align: middle;\n",
       "    }\n",
       "\n",
       "    .dataframe tbody tr th {\n",
       "        vertical-align: top;\n",
       "    }\n",
       "\n",
       "    .dataframe thead th {\n",
       "        text-align: right;\n",
       "    }\n",
       "</style>\n",
       "<table border=\"1\" class=\"dataframe\">\n",
       "  <thead>\n",
       "    <tr style=\"text-align: right;\">\n",
       "      <th></th>\n",
       "      <th>Age</th>\n",
       "      <th>Country</th>\n",
       "      <th>Course</th>\n",
       "      <th>Marks</th>\n",
       "    </tr>\n",
       "    <tr>\n",
       "      <th>Student</th>\n",
       "      <th></th>\n",
       "      <th></th>\n",
       "      <th></th>\n",
       "      <th></th>\n",
       "    </tr>\n",
       "  </thead>\n",
       "  <tbody>\n",
       "    <tr>\n",
       "      <th>David</th>\n",
       "      <td>27</td>\n",
       "      <td>UK</td>\n",
       "      <td>Python</td>\n",
       "      <td>85</td>\n",
       "    </tr>\n",
       "    <tr>\n",
       "      <th>Samuel</th>\n",
       "      <td>24</td>\n",
       "      <td>Canada</td>\n",
       "      <td>Data Structures</td>\n",
       "      <td>72</td>\n",
       "    </tr>\n",
       "    <tr>\n",
       "      <th>Terry</th>\n",
       "      <td>22</td>\n",
       "      <td>China</td>\n",
       "      <td>Machine Learning</td>\n",
       "      <td>89</td>\n",
       "    </tr>\n",
       "    <tr>\n",
       "      <th>Even</th>\n",
       "      <td>32</td>\n",
       "      <td>USA</td>\n",
       "      <td>Web Development</td>\n",
       "      <td>76</td>\n",
       "    </tr>\n",
       "  </tbody>\n",
       "</table>\n",
       "</div>"
      ],
      "text/plain": [
       "         Age Country            Course Marks\n",
       "Student                                     \n",
       "David     27      UK            Python    85\n",
       "Samuel    24  Canada   Data Structures    72\n",
       "Terry     22   China  Machine Learning    89\n",
       "Even      32     USA   Web Development    76"
      ]
     },
     "execution_count": 84,
     "metadata": {},
     "output_type": "execute_result"
    }
   ],
   "source": [
    "df2 = Data\n",
    "df2 = df2.set_index('Student')\n",
    "df2"
   ]
  },
  {
   "cell_type": "code",
   "execution_count": 87,
   "id": "ce21d224-ec86-4d3b-8b51-f29626e57d78",
   "metadata": {},
   "outputs": [
    {
     "data": {
      "text/plain": [
       "'85'"
      ]
     },
     "execution_count": 87,
     "metadata": {},
     "output_type": "execute_result"
    }
   ],
   "source": [
    "df2.loc['David', 'Marks']"
   ]
  },
  {
   "cell_type": "code",
   "execution_count": 90,
   "id": "c859f9b2-0f97-415c-ad73-677d4a0c45ad",
   "metadata": {},
   "outputs": [
    {
     "data": {
      "text/plain": [
       "'China'"
      ]
     },
     "execution_count": 90,
     "metadata": {},
     "output_type": "execute_result"
    }
   ],
   "source": [
    "df2.loc['Terry', 'Country']"
   ]
  },
  {
   "cell_type": "code",
   "execution_count": 92,
   "id": "5da87a37-609b-4df9-9a46-301ad1bf2db2",
   "metadata": {},
   "outputs": [
    {
     "data": {
      "text/plain": [
       "'Web Development'"
      ]
     },
     "execution_count": 92,
     "metadata": {},
     "output_type": "execute_result"
    }
   ],
   "source": [
    "df2.loc['Even', 'Course']"
   ]
  },
  {
   "cell_type": "code",
   "execution_count": 94,
   "id": "2cdd4557-7caa-4b31-940e-4d173354d140",
   "metadata": {},
   "outputs": [
    {
     "data": {
      "text/plain": [
       "'Machine Learning'"
      ]
     },
     "execution_count": 94,
     "metadata": {},
     "output_type": "execute_result"
    }
   ],
   "source": [
    "df2.iloc[2,2]"
   ]
  },
  {
   "cell_type": "markdown",
   "id": "c6be1a5d-b170-4803-91f1-02645fe40bf7",
   "metadata": {},
   "source": [
    "### Slicing\n",
    "using loc() and select 1:4 will get a different result tahn using iloc() to select rows 1:4"
   ]
  },
  {
   "cell_type": "code",
   "execution_count": 95,
   "id": "96576c59-6e5b-43a7-a6ee-8fca1c8d1dd6",
   "metadata": {},
   "outputs": [
    {
     "data": {
      "text/html": [
       "<div>\n",
       "<style scoped>\n",
       "    .dataframe tbody tr th:only-of-type {\n",
       "        vertical-align: middle;\n",
       "    }\n",
       "\n",
       "    .dataframe tbody tr th {\n",
       "        vertical-align: top;\n",
       "    }\n",
       "\n",
       "    .dataframe thead th {\n",
       "        text-align: right;\n",
       "    }\n",
       "</style>\n",
       "<table border=\"1\" class=\"dataframe\">\n",
       "  <thead>\n",
       "    <tr style=\"text-align: right;\">\n",
       "      <th></th>\n",
       "      <th>Student</th>\n",
       "      <th>Age</th>\n",
       "      <th>Country</th>\n",
       "    </tr>\n",
       "  </thead>\n",
       "  <tbody>\n",
       "    <tr>\n",
       "      <th>0</th>\n",
       "      <td>David</td>\n",
       "      <td>27</td>\n",
       "      <td>UK</td>\n",
       "    </tr>\n",
       "    <tr>\n",
       "      <th>1</th>\n",
       "      <td>Samuel</td>\n",
       "      <td>24</td>\n",
       "      <td>Canada</td>\n",
       "    </tr>\n",
       "  </tbody>\n",
       "</table>\n",
       "</div>"
      ],
      "text/plain": [
       "  Student  Age Country\n",
       "0   David   27      UK\n",
       "1  Samuel   24  Canada"
      ]
     },
     "execution_count": 95,
     "metadata": {},
     "output_type": "execute_result"
    }
   ],
   "source": [
    "df = Data\n",
    "df.iloc[0:2, 0:3]"
   ]
  },
  {
   "cell_type": "code",
   "execution_count": 96,
   "id": "2cd63c9b-4228-402a-adca-6356c7f7e0fd",
   "metadata": {},
   "outputs": [
    {
     "data": {
      "text/html": [
       "<div>\n",
       "<style scoped>\n",
       "    .dataframe tbody tr th:only-of-type {\n",
       "        vertical-align: middle;\n",
       "    }\n",
       "\n",
       "    .dataframe tbody tr th {\n",
       "        vertical-align: top;\n",
       "    }\n",
       "\n",
       "    .dataframe thead th {\n",
       "        text-align: right;\n",
       "    }\n",
       "</style>\n",
       "<table border=\"1\" class=\"dataframe\">\n",
       "  <thead>\n",
       "    <tr style=\"text-align: right;\">\n",
       "      <th></th>\n",
       "      <th>Student</th>\n",
       "      <th>Age</th>\n",
       "      <th>Country</th>\n",
       "      <th>Course</th>\n",
       "    </tr>\n",
       "  </thead>\n",
       "  <tbody>\n",
       "    <tr>\n",
       "      <th>0</th>\n",
       "      <td>David</td>\n",
       "      <td>27</td>\n",
       "      <td>UK</td>\n",
       "      <td>Python</td>\n",
       "    </tr>\n",
       "    <tr>\n",
       "      <th>1</th>\n",
       "      <td>Samuel</td>\n",
       "      <td>24</td>\n",
       "      <td>Canada</td>\n",
       "      <td>Data Structures</td>\n",
       "    </tr>\n",
       "    <tr>\n",
       "      <th>2</th>\n",
       "      <td>Terry</td>\n",
       "      <td>22</td>\n",
       "      <td>China</td>\n",
       "      <td>Machine Learning</td>\n",
       "    </tr>\n",
       "  </tbody>\n",
       "</table>\n",
       "</div>"
      ],
      "text/plain": [
       "  Student  Age Country            Course\n",
       "0   David   27      UK            Python\n",
       "1  Samuel   24  Canada   Data Structures\n",
       "2   Terry   22   China  Machine Learning"
      ]
     },
     "execution_count": 96,
     "metadata": {},
     "output_type": "execute_result"
    }
   ],
   "source": [
    "df.loc[0:2, 'Student':'Course']"
   ]
  },
  {
   "cell_type": "code",
   "execution_count": 101,
   "id": "014943c6-1492-43cf-b5aa-ba69effe8201",
   "metadata": {},
   "outputs": [
    {
     "data": {
      "text/html": [
       "<div>\n",
       "<style scoped>\n",
       "    .dataframe tbody tr th:only-of-type {\n",
       "        vertical-align: middle;\n",
       "    }\n",
       "\n",
       "    .dataframe tbody tr th {\n",
       "        vertical-align: top;\n",
       "    }\n",
       "\n",
       "    .dataframe thead th {\n",
       "        text-align: right;\n",
       "    }\n",
       "</style>\n",
       "<table border=\"1\" class=\"dataframe\">\n",
       "  <thead>\n",
       "    <tr style=\"text-align: right;\">\n",
       "      <th></th>\n",
       "      <th>Student</th>\n",
       "      <th>Age</th>\n",
       "      <th>Country</th>\n",
       "    </tr>\n",
       "  </thead>\n",
       "  <tbody>\n",
       "    <tr>\n",
       "      <th>0</th>\n",
       "      <td>David</td>\n",
       "      <td>27</td>\n",
       "      <td>UK</td>\n",
       "    </tr>\n",
       "    <tr>\n",
       "      <th>1</th>\n",
       "      <td>Samuel</td>\n",
       "      <td>24</td>\n",
       "      <td>Canada</td>\n",
       "    </tr>\n",
       "  </tbody>\n",
       "</table>\n",
       "</div>"
      ],
      "text/plain": [
       "  Student  Age Country\n",
       "0   David   27      UK\n",
       "1  Samuel   24  Canada"
      ]
     },
     "execution_count": 101,
     "metadata": {},
     "output_type": "execute_result"
    }
   ],
   "source": [
    "df.iloc[0:2, 0:3]"
   ]
  },
  {
   "cell_type": "code",
   "execution_count": 105,
   "id": "084c3d0f-c190-4a5b-ba8a-f77d46a85c84",
   "metadata": {},
   "outputs": [],
   "source": [
    "filename = \"https://cf-courses-data.s3.us.cloud-object-storage.appdomain.cloud/LXjSAttmoxJfEG6il1Bqfw/Product-sales.csv\"\n",
    "Data = pd.read_csv(filename)"
   ]
  },
  {
   "cell_type": "code",
   "execution_count": 106,
   "id": "31fe50ff-ee75-4e9c-9f1c-ebc50b0aa3a6",
   "metadata": {},
   "outputs": [
    {
     "data": {
      "text/html": [
       "<div>\n",
       "<style scoped>\n",
       "    .dataframe tbody tr th:only-of-type {\n",
       "        vertical-align: middle;\n",
       "    }\n",
       "\n",
       "    .dataframe tbody tr th {\n",
       "        vertical-align: top;\n",
       "    }\n",
       "\n",
       "    .dataframe thead th {\n",
       "        text-align: right;\n",
       "    }\n",
       "</style>\n",
       "<table border=\"1\" class=\"dataframe\">\n",
       "  <thead>\n",
       "    <tr style=\"text-align: right;\">\n",
       "      <th></th>\n",
       "      <th>OrderID</th>\n",
       "      <th>Product</th>\n",
       "      <th>Category</th>\n",
       "      <th>Quantity</th>\n",
       "      <th>Price</th>\n",
       "      <th>Total</th>\n",
       "      <th>OrderDate</th>\n",
       "      <th>CustomerCity</th>\n",
       "    </tr>\n",
       "  </thead>\n",
       "  <tbody>\n",
       "    <tr>\n",
       "      <th>0</th>\n",
       "      <td>1</td>\n",
       "      <td>Laptop</td>\n",
       "      <td>Electronics</td>\n",
       "      <td>2</td>\n",
       "      <td>800</td>\n",
       "      <td>1600</td>\n",
       "      <td>2022-01-10</td>\n",
       "      <td>New York</td>\n",
       "    </tr>\n",
       "    <tr>\n",
       "      <th>1</th>\n",
       "      <td>2</td>\n",
       "      <td>Smartphone</td>\n",
       "      <td>Electronics</td>\n",
       "      <td>3</td>\n",
       "      <td>600</td>\n",
       "      <td>1800</td>\n",
       "      <td>2022-02-15</td>\n",
       "      <td>Los Angeles</td>\n",
       "    </tr>\n",
       "    <tr>\n",
       "      <th>2</th>\n",
       "      <td>3</td>\n",
       "      <td>Desk Chair</td>\n",
       "      <td>Furniture</td>\n",
       "      <td>5</td>\n",
       "      <td>150</td>\n",
       "      <td>750</td>\n",
       "      <td>2022-03-12</td>\n",
       "      <td>Chicago</td>\n",
       "    </tr>\n",
       "    <tr>\n",
       "      <th>3</th>\n",
       "      <td>4</td>\n",
       "      <td>Notebook</td>\n",
       "      <td>Stationery</td>\n",
       "      <td>10</td>\n",
       "      <td>2</td>\n",
       "      <td>20</td>\n",
       "      <td>2022-04-05</td>\n",
       "      <td>Houston</td>\n",
       "    </tr>\n",
       "    <tr>\n",
       "      <th>4</th>\n",
       "      <td>5</td>\n",
       "      <td>Monitor</td>\n",
       "      <td>Electronics</td>\n",
       "      <td>1</td>\n",
       "      <td>300</td>\n",
       "      <td>300</td>\n",
       "      <td>2022-05-21</td>\n",
       "      <td>Miami</td>\n",
       "    </tr>\n",
       "  </tbody>\n",
       "</table>\n",
       "</div>"
      ],
      "text/plain": [
       "   OrderID     Product     Category  Quantity  Price  Total   OrderDate  \\\n",
       "0        1      Laptop  Electronics         2    800   1600  2022-01-10   \n",
       "1        2  Smartphone  Electronics         3    600   1800  2022-02-15   \n",
       "2        3  Desk Chair    Furniture         5    150    750  2022-03-12   \n",
       "3        4    Notebook   Stationery        10      2     20  2022-04-05   \n",
       "4        5     Monitor  Electronics         1    300    300  2022-05-21   \n",
       "\n",
       "  CustomerCity  \n",
       "0     New York  \n",
       "1  Los Angeles  \n",
       "2      Chicago  \n",
       "3      Houston  \n",
       "4        Miami  "
      ]
     },
     "execution_count": 106,
     "metadata": {},
     "output_type": "execute_result"
    }
   ],
   "source": [
    "Data"
   ]
  },
  {
   "cell_type": "code",
   "execution_count": 108,
   "id": "9cce539b-d2e0-4c8d-8405-19e1ec87f61c",
   "metadata": {},
   "outputs": [
    {
     "data": {
      "text/html": [
       "<div>\n",
       "<style scoped>\n",
       "    .dataframe tbody tr th:only-of-type {\n",
       "        vertical-align: middle;\n",
       "    }\n",
       "\n",
       "    .dataframe tbody tr th {\n",
       "        vertical-align: top;\n",
       "    }\n",
       "\n",
       "    .dataframe thead th {\n",
       "        text-align: right;\n",
       "    }\n",
       "</style>\n",
       "<table border=\"1\" class=\"dataframe\">\n",
       "  <thead>\n",
       "    <tr style=\"text-align: right;\">\n",
       "      <th></th>\n",
       "      <th>OrderID</th>\n",
       "      <th>Product</th>\n",
       "      <th>Category</th>\n",
       "      <th>Quantity</th>\n",
       "      <th>Price</th>\n",
       "      <th>Total</th>\n",
       "      <th>OrderDate</th>\n",
       "      <th>CustomerCity</th>\n",
       "    </tr>\n",
       "  </thead>\n",
       "  <tbody>\n",
       "    <tr>\n",
       "      <th>0</th>\n",
       "      <td>1</td>\n",
       "      <td>Laptop</td>\n",
       "      <td>Electronics</td>\n",
       "      <td>2</td>\n",
       "      <td>800</td>\n",
       "      <td>1600</td>\n",
       "      <td>2022-01-10</td>\n",
       "      <td>New York</td>\n",
       "    </tr>\n",
       "    <tr>\n",
       "      <th>1</th>\n",
       "      <td>2</td>\n",
       "      <td>Smartphone</td>\n",
       "      <td>Electronics</td>\n",
       "      <td>3</td>\n",
       "      <td>600</td>\n",
       "      <td>1800</td>\n",
       "      <td>2022-02-15</td>\n",
       "      <td>Los Angeles</td>\n",
       "    </tr>\n",
       "    <tr>\n",
       "      <th>2</th>\n",
       "      <td>3</td>\n",
       "      <td>Desk Chair</td>\n",
       "      <td>Furniture</td>\n",
       "      <td>5</td>\n",
       "      <td>150</td>\n",
       "      <td>750</td>\n",
       "      <td>2022-03-12</td>\n",
       "      <td>Chicago</td>\n",
       "    </tr>\n",
       "    <tr>\n",
       "      <th>3</th>\n",
       "      <td>4</td>\n",
       "      <td>Notebook</td>\n",
       "      <td>Stationery</td>\n",
       "      <td>10</td>\n",
       "      <td>2</td>\n",
       "      <td>20</td>\n",
       "      <td>2022-04-05</td>\n",
       "      <td>Houston</td>\n",
       "    </tr>\n",
       "    <tr>\n",
       "      <th>4</th>\n",
       "      <td>5</td>\n",
       "      <td>Monitor</td>\n",
       "      <td>Electronics</td>\n",
       "      <td>1</td>\n",
       "      <td>300</td>\n",
       "      <td>300</td>\n",
       "      <td>2022-05-21</td>\n",
       "      <td>Miami</td>\n",
       "    </tr>\n",
       "  </tbody>\n",
       "</table>\n",
       "</div>"
      ],
      "text/plain": [
       "   OrderID     Product     Category  Quantity  Price  Total   OrderDate  \\\n",
       "0        1      Laptop  Electronics         2    800   1600  2022-01-10   \n",
       "1        2  Smartphone  Electronics         3    600   1800  2022-02-15   \n",
       "2        3  Desk Chair    Furniture         5    150    750  2022-03-12   \n",
       "3        4    Notebook   Stationery        10      2     20  2022-04-05   \n",
       "4        5     Monitor  Electronics         1    300    300  2022-05-21   \n",
       "\n",
       "  CustomerCity  \n",
       "0     New York  \n",
       "1  Los Angeles  \n",
       "2      Chicago  \n",
       "3      Houston  \n",
       "4        Miami  "
      ]
     },
     "execution_count": 108,
     "metadata": {},
     "output_type": "execute_result"
    }
   ],
   "source": [
    "Data.head()"
   ]
  },
  {
   "cell_type": "code",
   "execution_count": 111,
   "id": "6f3542da-a812-4c00-98fe-bec8ad7cde5f",
   "metadata": {},
   "outputs": [
    {
     "data": {
      "text/html": [
       "<div>\n",
       "<style scoped>\n",
       "    .dataframe tbody tr th:only-of-type {\n",
       "        vertical-align: middle;\n",
       "    }\n",
       "\n",
       "    .dataframe tbody tr th {\n",
       "        vertical-align: top;\n",
       "    }\n",
       "\n",
       "    .dataframe thead th {\n",
       "        text-align: right;\n",
       "    }\n",
       "</style>\n",
       "<table border=\"1\" class=\"dataframe\">\n",
       "  <thead>\n",
       "    <tr style=\"text-align: right;\">\n",
       "      <th></th>\n",
       "      <th>Quantity</th>\n",
       "    </tr>\n",
       "  </thead>\n",
       "  <tbody>\n",
       "    <tr>\n",
       "      <th>0</th>\n",
       "      <td>2</td>\n",
       "    </tr>\n",
       "    <tr>\n",
       "      <th>1</th>\n",
       "      <td>3</td>\n",
       "    </tr>\n",
       "    <tr>\n",
       "      <th>2</th>\n",
       "      <td>5</td>\n",
       "    </tr>\n",
       "    <tr>\n",
       "      <th>3</th>\n",
       "      <td>10</td>\n",
       "    </tr>\n",
       "    <tr>\n",
       "      <th>4</th>\n",
       "      <td>1</td>\n",
       "    </tr>\n",
       "  </tbody>\n",
       "</table>\n",
       "</div>"
      ],
      "text/plain": [
       "   Quantity\n",
       "0         2\n",
       "1         3\n",
       "2         5\n",
       "3        10\n",
       "4         1"
      ]
     },
     "execution_count": 111,
     "metadata": {},
     "output_type": "execute_result"
    }
   ],
   "source": [
    "x = Data[['Quantity']]\n",
    "x"
   ]
  },
  {
   "cell_type": "code",
   "execution_count": 112,
   "id": "dbec926e-a74e-48c3-9d8c-bd89cfc438dd",
   "metadata": {},
   "outputs": [
    {
     "data": {
      "text/plain": [
       "0        Laptop\n",
       "1    Smartphone\n",
       "2    Desk Chair\n",
       "3      Notebook\n",
       "4       Monitor\n",
       "Name: Product, dtype: object"
      ]
     },
     "execution_count": 112,
     "metadata": {},
     "output_type": "execute_result"
    }
   ],
   "source": [
    "x = Data['Product'] #to get data as series\n",
    "x"
   ]
  },
  {
   "cell_type": "code",
   "execution_count": 113,
   "id": "22b4d577-d9ac-4c45-ab12-ff45f0e0f961",
   "metadata": {},
   "outputs": [
    {
     "data": {
      "text/html": [
       "<div>\n",
       "<style scoped>\n",
       "    .dataframe tbody tr th:only-of-type {\n",
       "        vertical-align: middle;\n",
       "    }\n",
       "\n",
       "    .dataframe tbody tr th {\n",
       "        vertical-align: top;\n",
       "    }\n",
       "\n",
       "    .dataframe thead th {\n",
       "        text-align: right;\n",
       "    }\n",
       "</style>\n",
       "<table border=\"1\" class=\"dataframe\">\n",
       "  <thead>\n",
       "    <tr style=\"text-align: right;\">\n",
       "      <th></th>\n",
       "      <th>Product</th>\n",
       "    </tr>\n",
       "  </thead>\n",
       "  <tbody>\n",
       "    <tr>\n",
       "      <th>0</th>\n",
       "      <td>Laptop</td>\n",
       "    </tr>\n",
       "    <tr>\n",
       "      <th>1</th>\n",
       "      <td>Smartphone</td>\n",
       "    </tr>\n",
       "    <tr>\n",
       "      <th>2</th>\n",
       "      <td>Desk Chair</td>\n",
       "    </tr>\n",
       "    <tr>\n",
       "      <th>3</th>\n",
       "      <td>Notebook</td>\n",
       "    </tr>\n",
       "    <tr>\n",
       "      <th>4</th>\n",
       "      <td>Monitor</td>\n",
       "    </tr>\n",
       "  </tbody>\n",
       "</table>\n",
       "</div>"
      ],
      "text/plain": [
       "      Product\n",
       "0      Laptop\n",
       "1  Smartphone\n",
       "2  Desk Chair\n",
       "3    Notebook\n",
       "4     Monitor"
      ]
     },
     "execution_count": 113,
     "metadata": {},
     "output_type": "execute_result"
    }
   ],
   "source": [
    "x = Data[['Product']]\n",
    "x"
   ]
  },
  {
   "cell_type": "code",
   "execution_count": 114,
   "id": "4f6787b2-d8d1-4b81-b3ab-3fe453958e16",
   "metadata": {},
   "outputs": [
    {
     "data": {
      "text/html": [
       "<div>\n",
       "<style scoped>\n",
       "    .dataframe tbody tr th:only-of-type {\n",
       "        vertical-align: middle;\n",
       "    }\n",
       "\n",
       "    .dataframe tbody tr th {\n",
       "        vertical-align: top;\n",
       "    }\n",
       "\n",
       "    .dataframe thead th {\n",
       "        text-align: right;\n",
       "    }\n",
       "</style>\n",
       "<table border=\"1\" class=\"dataframe\">\n",
       "  <thead>\n",
       "    <tr style=\"text-align: right;\">\n",
       "      <th></th>\n",
       "      <th>Product</th>\n",
       "      <th>Category</th>\n",
       "      <th>Quantity</th>\n",
       "    </tr>\n",
       "  </thead>\n",
       "  <tbody>\n",
       "    <tr>\n",
       "      <th>0</th>\n",
       "      <td>Laptop</td>\n",
       "      <td>Electronics</td>\n",
       "      <td>2</td>\n",
       "    </tr>\n",
       "    <tr>\n",
       "      <th>1</th>\n",
       "      <td>Smartphone</td>\n",
       "      <td>Electronics</td>\n",
       "      <td>3</td>\n",
       "    </tr>\n",
       "    <tr>\n",
       "      <th>2</th>\n",
       "      <td>Desk Chair</td>\n",
       "      <td>Furniture</td>\n",
       "      <td>5</td>\n",
       "    </tr>\n",
       "    <tr>\n",
       "      <th>3</th>\n",
       "      <td>Notebook</td>\n",
       "      <td>Stationery</td>\n",
       "      <td>10</td>\n",
       "    </tr>\n",
       "    <tr>\n",
       "      <th>4</th>\n",
       "      <td>Monitor</td>\n",
       "      <td>Electronics</td>\n",
       "      <td>1</td>\n",
       "    </tr>\n",
       "  </tbody>\n",
       "</table>\n",
       "</div>"
      ],
      "text/plain": [
       "      Product     Category  Quantity\n",
       "0      Laptop  Electronics         2\n",
       "1  Smartphone  Electronics         3\n",
       "2  Desk Chair    Furniture         5\n",
       "3    Notebook   Stationery        10\n",
       "4     Monitor  Electronics         1"
      ]
     },
     "execution_count": 114,
     "metadata": {},
     "output_type": "execute_result"
    }
   ],
   "source": [
    "y = Data[['Product', 'Category', 'Quantity']]\n",
    "y"
   ]
  },
  {
   "cell_type": "code",
   "execution_count": 117,
   "id": "e8454ef6-e99c-4b36-ba61-4d08053dc6ad",
   "metadata": {},
   "outputs": [
    {
     "name": "stdout",
     "output_type": "stream",
     "text": [
      "   OrderID     Product     Category  Quantity  Price  Total   OrderDate  \\\n",
      "0        1      Laptop  Electronics         2    800   1600  2022-01-10   \n",
      "1        2  Smartphone  Electronics         3    600   1800  2022-02-15   \n",
      "2        3  Desk Chair    Furniture         5    150    750  2022-03-12   \n",
      "3        4    Notebook   Stationery        10      2     20  2022-04-05   \n",
      "4        5     Monitor  Electronics         1    300    300  2022-05-21   \n",
      "\n",
      "  CustomerCity  \n",
      "0     New York  \n",
      "1  Los Angeles  \n",
      "2      Chicago  \n",
      "3      Houston  \n",
      "4        Miami  \n",
      "1\n"
     ]
    }
   ],
   "source": [
    "print(Data)\n",
    "print(Data.iloc[0,0])"
   ]
  },
  {
   "cell_type": "code",
   "execution_count": 118,
   "id": "3864e7a8-ee30-404b-8b47-956ab386fa5c",
   "metadata": {},
   "outputs": [
    {
     "data": {
      "text/html": [
       "<div>\n",
       "<style scoped>\n",
       "    .dataframe tbody tr th:only-of-type {\n",
       "        vertical-align: middle;\n",
       "    }\n",
       "\n",
       "    .dataframe tbody tr th {\n",
       "        vertical-align: top;\n",
       "    }\n",
       "\n",
       "    .dataframe thead th {\n",
       "        text-align: right;\n",
       "    }\n",
       "</style>\n",
       "<table border=\"1\" class=\"dataframe\">\n",
       "  <thead>\n",
       "    <tr style=\"text-align: right;\">\n",
       "      <th></th>\n",
       "      <th>OrderID</th>\n",
       "      <th>Product</th>\n",
       "      <th>Category</th>\n",
       "      <th>Quantity</th>\n",
       "      <th>Price</th>\n",
       "      <th>Total</th>\n",
       "      <th>OrderDate</th>\n",
       "      <th>CustomerCity</th>\n",
       "    </tr>\n",
       "  </thead>\n",
       "  <tbody>\n",
       "    <tr>\n",
       "      <th>0</th>\n",
       "      <td>1</td>\n",
       "      <td>Laptop</td>\n",
       "      <td>Electronics</td>\n",
       "      <td>2</td>\n",
       "      <td>800</td>\n",
       "      <td>1600</td>\n",
       "      <td>2022-01-10</td>\n",
       "      <td>New York</td>\n",
       "    </tr>\n",
       "    <tr>\n",
       "      <th>1</th>\n",
       "      <td>2</td>\n",
       "      <td>Smartphone</td>\n",
       "      <td>Electronics</td>\n",
       "      <td>3</td>\n",
       "      <td>600</td>\n",
       "      <td>1800</td>\n",
       "      <td>2022-02-15</td>\n",
       "      <td>Los Angeles</td>\n",
       "    </tr>\n",
       "    <tr>\n",
       "      <th>2</th>\n",
       "      <td>3</td>\n",
       "      <td>Desk Chair</td>\n",
       "      <td>Furniture</td>\n",
       "      <td>5</td>\n",
       "      <td>150</td>\n",
       "      <td>750</td>\n",
       "      <td>2022-03-12</td>\n",
       "      <td>Chicago</td>\n",
       "    </tr>\n",
       "    <tr>\n",
       "      <th>3</th>\n",
       "      <td>4</td>\n",
       "      <td>Notebook</td>\n",
       "      <td>Stationery</td>\n",
       "      <td>10</td>\n",
       "      <td>2</td>\n",
       "      <td>20</td>\n",
       "      <td>2022-04-05</td>\n",
       "      <td>Houston</td>\n",
       "    </tr>\n",
       "    <tr>\n",
       "      <th>4</th>\n",
       "      <td>5</td>\n",
       "      <td>Monitor</td>\n",
       "      <td>Electronics</td>\n",
       "      <td>1</td>\n",
       "      <td>300</td>\n",
       "      <td>300</td>\n",
       "      <td>2022-05-21</td>\n",
       "      <td>Miami</td>\n",
       "    </tr>\n",
       "  </tbody>\n",
       "</table>\n",
       "</div>"
      ],
      "text/plain": [
       "   OrderID     Product     Category  Quantity  Price  Total   OrderDate  \\\n",
       "0        1      Laptop  Electronics         2    800   1600  2022-01-10   \n",
       "1        2  Smartphone  Electronics         3    600   1800  2022-02-15   \n",
       "2        3  Desk Chair    Furniture         5    150    750  2022-03-12   \n",
       "3        4    Notebook   Stationery        10      2     20  2022-04-05   \n",
       "4        5     Monitor  Electronics         1    300    300  2022-05-21   \n",
       "\n",
       "  CustomerCity  \n",
       "0     New York  \n",
       "1  Los Angeles  \n",
       "2      Chicago  \n",
       "3      Houston  \n",
       "4        Miami  "
      ]
     },
     "execution_count": 118,
     "metadata": {},
     "output_type": "execute_result"
    }
   ],
   "source": [
    "Data"
   ]
  },
  {
   "cell_type": "code",
   "execution_count": 122,
   "id": "b9a26a9e-8b24-47a9-9f13-c3640c2f9800",
   "metadata": {},
   "outputs": [
    {
     "name": "stdout",
     "output_type": "stream",
     "text": [
      "Stationery\n"
     ]
    }
   ],
   "source": [
    "print(Data.iloc[3,2])"
   ]
  },
  {
   "cell_type": "code",
   "execution_count": 124,
   "id": "c2481dc0-e356-4db6-996f-3df5d48c28ab",
   "metadata": {},
   "outputs": [
    {
     "name": "stdout",
     "output_type": "stream",
     "text": [
      "Monitor\n"
     ]
    }
   ],
   "source": [
    "print(Data.loc[4, 'Product'])"
   ]
  },
  {
   "cell_type": "code",
   "execution_count": 125,
   "id": "511200df-23e3-4b02-91b8-696899988f60",
   "metadata": {},
   "outputs": [
    {
     "name": "stdout",
     "output_type": "stream",
     "text": [
      "   OrderID     Product     Category\n",
      "0        1      Laptop  Electronics\n",
      "1        2  Smartphone  Electronics\n"
     ]
    }
   ],
   "source": [
    "print(Data.iloc[0:2, 0:3])"
   ]
  },
  {
   "cell_type": "markdown",
   "id": "d6d59b98-a22c-4313-8559-ce1433aef828",
   "metadata": {},
   "source": [
    "### 1D Numpy\n",
    "1. The basics and array creation\n",
    "2. Indexing and slicing\n",
    "3. Basic operations\n",
    "4. Universal functions"
   ]
  },
  {
   "cell_type": "code",
   "execution_count": 5,
   "id": "fe2b9237-9f72-40c5-af11-e26ff83070fe",
   "metadata": {},
   "outputs": [
    {
     "data": {
      "text/plain": [
       "dtype('int64')"
      ]
     },
     "execution_count": 5,
     "metadata": {},
     "output_type": "execute_result"
    }
   ],
   "source": [
    "import numpy as np\n",
    "a = np.array([0, 1, 2, 3, 5])\n",
    "a.dtype"
   ]
  },
  {
   "cell_type": "code",
   "execution_count": 6,
   "id": "f8d693a3-c564-410c-bb03-d008d1f5b872",
   "metadata": {},
   "outputs": [
    {
     "data": {
      "text/plain": [
       "array([100,   1,   2,   3,   5])"
      ]
     },
     "execution_count": 6,
     "metadata": {},
     "output_type": "execute_result"
    }
   ],
   "source": [
    "a[0] = 100\n",
    "a"
   ]
  },
  {
   "cell_type": "code",
   "execution_count": 8,
   "id": "10e552f0-9a31-46d9-b83f-533a6a172ba6",
   "metadata": {},
   "outputs": [],
   "source": [
    "d = a[1:3]"
   ]
  },
  {
   "cell_type": "code",
   "execution_count": 9,
   "id": "4bc81164-7230-4db4-bd0e-395e0b2962fa",
   "metadata": {},
   "outputs": [
    {
     "data": {
      "text/plain": [
       "array([1, 2])"
      ]
     },
     "execution_count": 9,
     "metadata": {},
     "output_type": "execute_result"
    }
   ],
   "source": [
    "d"
   ]
  },
  {
   "cell_type": "code",
   "execution_count": 10,
   "id": "3447ac53-59ca-4b5e-94ca-5dcd3baabc25",
   "metadata": {},
   "outputs": [
    {
     "data": {
      "text/plain": [
       "array([[1],\n",
       "       [0]])"
      ]
     },
     "execution_count": 10,
     "metadata": {},
     "output_type": "execute_result"
    }
   ],
   "source": [
    "u = np.array([[1], [0]])\n",
    "u"
   ]
  },
  {
   "cell_type": "code",
   "execution_count": 1,
   "id": "6d5d66c1-3ff1-4580-a812-433ac906d9bd",
   "metadata": {},
   "outputs": [],
   "source": [
    "import numpy as np"
   ]
  },
  {
   "cell_type": "code",
   "execution_count": 3,
   "id": "5c80d292-a1d7-431f-b976-e079a29e118f",
   "metadata": {},
   "outputs": [
    {
     "name": "stdout",
     "output_type": "stream",
     "text": [
      "[1 2 4 3 5]\n"
     ]
    }
   ],
   "source": [
    "a = np.array([1,2,4,3,5])\n",
    "print(a)"
   ]
  },
  {
   "cell_type": "code",
   "execution_count": 5,
   "id": "0d908514-0b3e-4bdc-8577-b1948066fdf0",
   "metadata": {},
   "outputs": [
    {
     "name": "stdout",
     "output_type": "stream",
     "text": [
      "a[0]: 1\n",
      "a[1]: 2\n",
      "a[2]: 4\n",
      "a[3]: 3\n",
      "a[4]: 5\n"
     ]
    }
   ],
   "source": [
    "print('a[0]:', a[0])\n",
    "print('a[1]:', a[1])\n",
    "print('a[2]:', a[2])\n",
    "print('a[3]:', a[3])\n",
    "print('a[4]:', a[4])"
   ]
  },
  {
   "cell_type": "code",
   "execution_count": 6,
   "id": "156b8934-6f7f-42ce-9c02-432c637066e8",
   "metadata": {},
   "outputs": [
    {
     "name": "stdout",
     "output_type": "stream",
     "text": [
      "2.1.3\n"
     ]
    }
   ],
   "source": [
    "print(np.__version__) #dunder function"
   ]
  },
  {
   "cell_type": "code",
   "execution_count": 7,
   "id": "3c41c684-bdeb-4232-adca-4a91bc042c98",
   "metadata": {},
   "outputs": [
    {
     "data": {
      "text/plain": [
       "numpy.ndarray"
      ]
     },
     "execution_count": 7,
     "metadata": {},
     "output_type": "execute_result"
    }
   ],
   "source": [
    "type(a)"
   ]
  },
  {
   "cell_type": "code",
   "execution_count": 8,
   "id": "dfa47c9f-accd-47ea-b894-61a0b9c1c1be",
   "metadata": {},
   "outputs": [
    {
     "data": {
      "text/plain": [
       "dtype('int64')"
      ]
     },
     "execution_count": 8,
     "metadata": {},
     "output_type": "execute_result"
    }
   ],
   "source": [
    "a.dtype"
   ]
  },
  {
   "cell_type": "code",
   "execution_count": 11,
   "id": "cf03c666-c9f2-4f26-ac2c-3c6b4d6ae261",
   "metadata": {},
   "outputs": [
    {
     "data": {
      "text/plain": [
       "numpy.ndarray"
      ]
     },
     "execution_count": 11,
     "metadata": {},
     "output_type": "execute_result"
    }
   ],
   "source": [
    "b = np.array([3, 11.02, 6.2, 213.2, 5.2])\n",
    "type(b)"
   ]
  },
  {
   "cell_type": "code",
   "execution_count": 12,
   "id": "f072efb7-f329-42d9-987a-adf1f5afa2fa",
   "metadata": {},
   "outputs": [
    {
     "data": {
      "text/plain": [
       "dtype('float64')"
      ]
     },
     "execution_count": 12,
     "metadata": {},
     "output_type": "execute_result"
    }
   ],
   "source": [
    "b.dtype"
   ]
  },
  {
   "cell_type": "code",
   "execution_count": 13,
   "id": "f6e2bbc3-84ee-4e7a-9c64-94468ad55de5",
   "metadata": {},
   "outputs": [
    {
     "data": {
      "text/plain": [
       "array([20,  1,  2,  3,  4])"
      ]
     },
     "execution_count": 13,
     "metadata": {},
     "output_type": "execute_result"
    }
   ],
   "source": [
    "c = np.array([20, 1, 2, 3, 4])\n",
    "c"
   ]
  },
  {
   "cell_type": "code",
   "execution_count": 14,
   "id": "f941e37c-8d03-49c3-80b4-021b24034c67",
   "metadata": {},
   "outputs": [
    {
     "data": {
      "text/plain": [
       "array([ 20,   1,   2,   3, 100])"
      ]
     },
     "execution_count": 14,
     "metadata": {},
     "output_type": "execute_result"
    }
   ],
   "source": [
    "c[-1] = 100\n",
    "c"
   ]
  },
  {
   "cell_type": "code",
   "execution_count": 15,
   "id": "ecb0c79c-c559-415a-9d36-110e0112dd20",
   "metadata": {},
   "outputs": [
    {
     "data": {
      "text/plain": [
       "array([ 20,  20,   2,   3, 100])"
      ]
     },
     "execution_count": 15,
     "metadata": {},
     "output_type": "execute_result"
    }
   ],
   "source": [
    "c[1] = 20\n",
    "c"
   ]
  },
  {
   "cell_type": "code",
   "execution_count": 16,
   "id": "53222e56-21b5-4e02-add1-41677ed9a453",
   "metadata": {},
   "outputs": [
    {
     "data": {
      "text/plain": [
       "array([20,  2])"
      ]
     },
     "execution_count": 16,
     "metadata": {},
     "output_type": "execute_result"
    }
   ],
   "source": [
    "d = c[1:3]\n",
    "d"
   ]
  },
  {
   "cell_type": "code",
   "execution_count": 17,
   "id": "24f56716-7460-41d5-84c4-d5e0f863db8d",
   "metadata": {},
   "outputs": [
    {
     "data": {
      "text/plain": [
       "array([ 20,  20,   2, 100, 200])"
      ]
     },
     "execution_count": 17,
     "metadata": {},
     "output_type": "execute_result"
    }
   ],
   "source": [
    "c[3:5] = 100, 200\n",
    "c"
   ]
  },
  {
   "cell_type": "code",
   "execution_count": 18,
   "id": "9e1d27e7-5a1f-481b-bd28-1c834233d0e4",
   "metadata": {},
   "outputs": [
    {
     "name": "stdout",
     "output_type": "stream",
     "text": [
      "[2 4]\n"
     ]
    }
   ],
   "source": [
    "arr = np.array([1, 2, 3, 4, 5, 6, 7])\n",
    "print(arr[1:5:2])"
   ]
  },
  {
   "cell_type": "code",
   "execution_count": 19,
   "id": "33b2fb30-05cf-4eb2-901a-63ea74b9fb98",
   "metadata": {},
   "outputs": [
    {
     "name": "stdout",
     "output_type": "stream",
     "text": [
      "[1 2 3 4]\n"
     ]
    }
   ],
   "source": [
    "print(arr[:4])"
   ]
  },
  {
   "cell_type": "code",
   "execution_count": 20,
   "id": "85c1ed34-f1b8-49cc-a5a3-74c1d2b3a09f",
   "metadata": {},
   "outputs": [
    {
     "name": "stdout",
     "output_type": "stream",
     "text": [
      "[5 6 7]\n"
     ]
    }
   ],
   "source": [
    "print(arr[4:])"
   ]
  },
  {
   "cell_type": "code",
   "execution_count": 23,
   "id": "46cce2f6-f674-4b33-86ef-0f6666735917",
   "metadata": {},
   "outputs": [
    {
     "name": "stdout",
     "output_type": "stream",
     "text": [
      "[0, 2, 3, 4]\n",
      "[ 20   2 100 200]\n"
     ]
    }
   ],
   "source": [
    "select = [0,2,3,4]\n",
    "print(select)\n",
    "d = c[select]\n",
    "print(d)"
   ]
  },
  {
   "cell_type": "code",
   "execution_count": 24,
   "id": "5fd658bf-8790-4f1f-bfed-f37f8e29cc57",
   "metadata": {},
   "outputs": [
    {
     "data": {
      "text/plain": [
       "5"
      ]
     },
     "execution_count": 24,
     "metadata": {},
     "output_type": "execute_result"
    }
   ],
   "source": [
    "a.size"
   ]
  },
  {
   "cell_type": "code",
   "execution_count": 25,
   "id": "cd60406a-01d3-4267-9bc8-03fee1226cb2",
   "metadata": {},
   "outputs": [
    {
     "data": {
      "text/plain": [
       "1"
      ]
     },
     "execution_count": 25,
     "metadata": {},
     "output_type": "execute_result"
    }
   ],
   "source": [
    "a.ndim"
   ]
  },
  {
   "cell_type": "code",
   "execution_count": 26,
   "id": "a5b6fb68-8955-471f-a651-ddec1fac4177",
   "metadata": {},
   "outputs": [
    {
     "data": {
      "text/plain": [
       "(5,)"
      ]
     },
     "execution_count": 26,
     "metadata": {},
     "output_type": "execute_result"
    }
   ],
   "source": [
    "a.shape"
   ]
  },
  {
   "cell_type": "code",
   "execution_count": 29,
   "id": "9db8e2a3-635b-453f-b8b9-ebd62e0fa76d",
   "metadata": {},
   "outputs": [
    {
     "data": {
      "text/plain": [
       "(7,)"
      ]
     },
     "execution_count": 29,
     "metadata": {},
     "output_type": "execute_result"
    }
   ],
   "source": [
    "b = np.array([10,20,30,40,50,60,70])\n",
    "b.shape"
   ]
  },
  {
   "cell_type": "code",
   "execution_count": 30,
   "id": "8e79e513-fec9-4408-9344-f6596f52f87c",
   "metadata": {},
   "outputs": [
    {
     "data": {
      "text/plain": [
       "1"
      ]
     },
     "execution_count": 30,
     "metadata": {},
     "output_type": "execute_result"
    }
   ],
   "source": [
    "b.ndim"
   ]
  },
  {
   "cell_type": "code",
   "execution_count": 31,
   "id": "7f06c5c6-2eca-47f0-8f5c-d11847c9739e",
   "metadata": {},
   "outputs": [
    {
     "data": {
      "text/plain": [
       "7"
      ]
     },
     "execution_count": 31,
     "metadata": {},
     "output_type": "execute_result"
    }
   ],
   "source": [
    "b.size"
   ]
  },
  {
   "cell_type": "code",
   "execution_count": 32,
   "id": "e11d30b0-a6ba-4ac3-90aa-ebaa54354cd5",
   "metadata": {},
   "outputs": [
    {
     "data": {
      "text/plain": [
       "np.float64(0.0)"
      ]
     },
     "execution_count": 32,
     "metadata": {},
     "output_type": "execute_result"
    }
   ],
   "source": [
    "a = np.array([1,-1,1,-1])\n",
    "a.mean()"
   ]
  },
  {
   "cell_type": "code",
   "execution_count": 33,
   "id": "cd4a9ca0-2b27-4751-b71c-00c5ca77c28c",
   "metadata": {},
   "outputs": [
    {
     "data": {
      "text/plain": [
       "np.int64(70)"
      ]
     },
     "execution_count": 33,
     "metadata": {},
     "output_type": "execute_result"
    }
   ],
   "source": [
    "b.max()"
   ]
  },
  {
   "cell_type": "code",
   "execution_count": 34,
   "id": "12b7d997-927d-4b7a-94ef-f6583856a365",
   "metadata": {},
   "outputs": [
    {
     "data": {
      "text/plain": [
       "np.int64(1)"
      ]
     },
     "execution_count": 34,
     "metadata": {},
     "output_type": "execute_result"
    }
   ],
   "source": [
    "a.max()"
   ]
  },
  {
   "cell_type": "code",
   "execution_count": 35,
   "id": "91743792-72e7-443b-a705-9a663c9b34f0",
   "metadata": {},
   "outputs": [
    {
     "name": "stdout",
     "output_type": "stream",
     "text": [
      "492\n"
     ]
    }
   ],
   "source": [
    "c = np.array([-10, 201, 43, 94, 502])\n",
    "Sum = c.max() + c.min()\n",
    "print(Sum)"
   ]
  },
  {
   "cell_type": "code",
   "execution_count": 36,
   "id": "928c3b2b-ff59-41d1-8a56-36918193482d",
   "metadata": {},
   "outputs": [
    {
     "data": {
      "text/plain": [
       "array([1, 1])"
      ]
     },
     "execution_count": 36,
     "metadata": {},
     "output_type": "execute_result"
    }
   ],
   "source": [
    "u = np.array([1,0])\n",
    "v = np.array([0,1])\n",
    "z = np.add(u,v)\n",
    "z"
   ]
  },
  {
   "cell_type": "code",
   "execution_count": 37,
   "id": "7368d207-405d-4485-ac82-68338ecf8d4a",
   "metadata": {},
   "outputs": [],
   "source": [
    "# Plotting functions\n",
    "\n",
    "\n",
    "import time \n",
    "import sys\n",
    "import numpy as np \n",
    "\n",
    "import matplotlib.pyplot as plt\n",
    "\n",
    "\n",
    "def Plotvec1(u, z, v):\n",
    "    \n",
    "    ax = plt.axes() # to generate the full window axes\n",
    "    ax.arrow(0, 0, *u, head_width=0.05, color='r', head_length=0.1)# Add an arrow to the  U Axes with arrow head width 0.05, color red and arrow head length 0.1\n",
    "    plt.text(*(u + 0.1), 'u')#Adds the text u to the Axes \n",
    "    \n",
    "    ax.arrow(0, 0, *v, head_width=0.05, color='b', head_length=0.1)# Add an arrow to the  v Axes with arrow head width 0.05, color red and arrow head length 0.1\n",
    "    plt.text(*(v + 0.1), 'v')#Adds the text v to the Axes \n",
    "    \n",
    "    ax.arrow(0, 0, *z, head_width=0.05, head_length=0.1)\n",
    "    plt.text(*(z + 0.1), 'z')#Adds the text z to the Axes \n",
    "    plt.ylim(-2, 2)#set the ylim to bottom(-2), top(2)\n",
    "    plt.xlim(-2, 2)#set the xlim to left(-2), right(2)\n",
    "\n",
    "  \n"
   ]
  },
  {
   "cell_type": "code",
   "execution_count": 38,
   "id": "927a3e18-1140-4f7c-81fc-72755e17090a",
   "metadata": {},
   "outputs": [
    {
     "data": {
      "image/png": "[encoded data removed]",
      "text/plain": [
       "<Figure size 640x480 with 1 Axes>"
      ]
     },
     "metadata": {},
     "output_type": "display_data"
    }
   ],
   "source": [
    "# Plot numpy arrays\n",
    "\n",
    "Plotvec1(u, z, v)"
   ]
  },
  {
   "cell_type": "code",
   "execution_count": 40,
   "id": "1e996036-92b3-47af-b691-2de307775776",
   "metadata": {},
   "outputs": [
    {
     "name": "stdout",
     "output_type": "stream",
     "text": [
      "[30 32 34 36 38 40]\n"
     ]
    }
   ],
   "source": [
    "arr1 = np.array([10,11,12,13,14,15])\n",
    "arr2 = np.array([20,21,22,23,24,25])\n",
    "add_both = np.add(arr1, arr2)\n",
    "print(add_both)"
   ]
  },
  {
   "cell_type": "code",
   "execution_count": 42,
   "id": "b8f905ed-7f03-49d8-8b4b-a4e6284ea8b9",
   "metadata": {},
   "outputs": [
    {
     "name": "stdout",
     "output_type": "stream",
     "text": [
      "[10 10 10 10 10 10]\n"
     ]
    }
   ],
   "source": [
    "sub = np.subtract(arr2,arr1)\n",
    "print(sub)"
   ]
  },
  {
   "cell_type": "code",
   "execution_count": 43,
   "id": "d81eda57-208f-4746-8cc0-64e3f18c973e",
   "metadata": {},
   "outputs": [
    {
     "name": "stdout",
     "output_type": "stream",
     "text": [
      "[2 2]\n"
     ]
    }
   ],
   "source": [
    "x = np.array([1,2])\n",
    "y = np.array([2,1])\n",
    "z = np.multiply(x,y)\n",
    "print(z)"
   ]
  },
  {
   "cell_type": "code",
   "execution_count": 44,
   "id": "fd9b0751-1822-4513-b6c3-4da0bcad5a87",
   "metadata": {},
   "outputs": [],
   "source": [
    "arr = np.multiply(arr1, arr2)"
   ]
  },
  {
   "cell_type": "code",
   "execution_count": 45,
   "id": "a0d6b585-87e0-4a0e-982b-6ade65081e50",
   "metadata": {},
   "outputs": [
    {
     "data": {
      "text/plain": [
       "array([200, 231, 264, 299, 336, 375])"
      ]
     },
     "execution_count": 45,
     "metadata": {},
     "output_type": "execute_result"
    }
   ],
   "source": [
    "arr"
   ]
  },
  {
   "cell_type": "code",
   "execution_count": 46,
   "id": "5c2f1fd3-a770-499e-8957-846e0a3eb5b2",
   "metadata": {},
   "outputs": [],
   "source": [
    "di = np.divide(arr1, arr2)"
   ]
  },
  {
   "cell_type": "code",
   "execution_count": 47,
   "id": "f30dbb8a-f6d8-439d-b0a7-571d1a27b953",
   "metadata": {},
   "outputs": [
    {
     "data": {
      "text/plain": [
       "array([0.5       , 0.52380952, 0.54545455, 0.56521739, 0.58333333,\n",
       "       0.6       ])"
      ]
     },
     "execution_count": 47,
     "metadata": {},
     "output_type": "execute_result"
    }
   ],
   "source": [
    "di"
   ]
  },
  {
   "cell_type": "code",
   "execution_count": 48,
   "id": "52d765ae-ecf0-4c67-ba36-d099208854c8",
   "metadata": {},
   "outputs": [
    {
     "data": {
      "text/plain": [
       "np.int64(7)"
      ]
     },
     "execution_count": 48,
     "metadata": {},
     "output_type": "execute_result"
    }
   ],
   "source": [
    "X = np.array([1,2])\n",
    "Y = np.array([3,2])\n",
    "np.dot(X,Y)"
   ]
  },
  {
   "cell_type": "code",
   "execution_count": 49,
   "id": "0ac263b4-c5d4-4c41-a210-6d67a5a0fa76",
   "metadata": {},
   "outputs": [
    {
     "name": "stdout",
     "output_type": "stream",
     "text": [
      "[np.int64(7)]\n"
     ]
    }
   ],
   "source": [
    "# dot works this way\n",
    "Xy = [(X[0]*Y[0]) + (X[1]*Y[1])]\n",
    "print(Xy)"
   ]
  },
  {
   "cell_type": "code",
   "execution_count": 50,
   "id": "16f8aebf-83d9-443c-acf8-15a82451eb32",
   "metadata": {},
   "outputs": [
    {
     "data": {
      "text/plain": [
       "array([203, 234, 267, 302, 339, 378])"
      ]
     },
     "execution_count": 50,
     "metadata": {},
     "output_type": "execute_result"
    }
   ],
   "source": [
    "arr + 3"
   ]
  },
  {
   "cell_type": "code",
   "execution_count": 51,
   "id": "5c73ec12-3e2f-407c-9a99-fdac415ab182",
   "metadata": {},
   "outputs": [
    {
     "data": {
      "text/plain": [
       "3.141592653589793"
      ]
     },
     "execution_count": 51,
     "metadata": {},
     "output_type": "execute_result"
    }
   ],
   "source": [
    "np.pi"
   ]
  },
  {
   "cell_type": "code",
   "execution_count": 52,
   "id": "1ab54d54-c7f9-4fcf-8ed0-05f21900e0de",
   "metadata": {},
   "outputs": [
    {
     "data": {
      "text/plain": [
       "array([0.0000000e+00, 1.0000000e+00, 1.2246468e-16])"
      ]
     },
     "execution_count": 52,
     "metadata": {},
     "output_type": "execute_result"
    }
   ],
   "source": [
    "x = np.array([0, np.pi/2, np.pi])\n",
    "np.sin(x)"
   ]
  },
  {
   "cell_type": "code",
   "execution_count": 54,
   "id": "7a99a699-b5b2-4f4e-b22f-483f78ee766b",
   "metadata": {},
   "outputs": [
    {
     "data": {
      "text/plain": [
       "array([-2., -1.,  0.,  1.,  2.])"
      ]
     },
     "execution_count": 54,
     "metadata": {},
     "output_type": "execute_result"
    }
   ],
   "source": [
    "np.linspace(-2,2, num=5)"
   ]
  },
  {
   "cell_type": "code",
   "execution_count": 55,
   "id": "cbe654cd-8eb8-4cc1-a338-31044849706a",
   "metadata": {},
   "outputs": [
    {
     "data": {
      "text/plain": [
       "array([-3.  , -2.25, -1.5 , -0.75,  0.  ,  0.75,  1.5 ,  2.25,  3.  ])"
      ]
     },
     "execution_count": 55,
     "metadata": {},
     "output_type": "execute_result"
    }
   ],
   "source": [
    "np.linspace(-3, 3, num = 9)"
   ]
  },
  {
   "cell_type": "code",
   "execution_count": 56,
   "id": "4d84d788-5581-4a4a-b2d4-086af38b53e4",
   "metadata": {},
   "outputs": [
    {
     "data": {
      "text/plain": [
       "[<matplotlib.lines.Line2D at 0x282697bfb10>]"
      ]
     },
     "execution_count": 56,
     "metadata": {},
     "output_type": "execute_result"
    },
    {
     "data": {
      "image/png": "[encoded data removed]",
      "text/plain": [
       "<Figure size 640x480 with 1 Axes>"
      ]
     },
     "metadata": {},
     "output_type": "display_data"
    }
   ],
   "source": [
    "plt.plot(X,Y)"
   ]
  },
  {
   "cell_type": "code",
   "execution_count": 57,
   "id": "691384d4-f0c2-4458-9480-1c895245d23f",
   "metadata": {},
   "outputs": [
    {
     "data": {
      "text/plain": [
       "array([5. , 4.8, 4.6, 4.4, 4.2, 4. ])"
      ]
     },
     "execution_count": 57,
     "metadata": {},
     "output_type": "execute_result"
    }
   ],
   "source": [
    "np.linspace(5,4, num=6)"
   ]
  },
  {
   "cell_type": "code",
   "execution_count": 58,
   "id": "90ec9c5a-d837-43d7-b710-232be0d938f3",
   "metadata": {},
   "outputs": [
    {
     "name": "stdout",
     "output_type": "stream",
     "text": [
      "1\n",
      "2\n",
      "3\n"
     ]
    }
   ],
   "source": [
    "Arr = np.array([1,2,3])\n",
    "for x in Arr:\n",
    "    print(x)"
   ]
  },
  {
   "cell_type": "code",
   "execution_count": 59,
   "id": "0b5f6929-5bb7-4f03-b26f-fa226502871b",
   "metadata": {},
   "outputs": [
    {
     "data": {
      "text/plain": [
       "array([ 1, -1])"
      ]
     },
     "execution_count": 59,
     "metadata": {},
     "output_type": "execute_result"
    }
   ],
   "source": [
    "u = np.array([1,0])\n",
    "v = np.array([0,1])\n",
    "np.subtract(u,v)"
   ]
  },
  {
   "cell_type": "code",
   "execution_count": 60,
   "id": "6c613ec6-db01-4f3f-84c5-0978a5f54b13",
   "metadata": {},
   "outputs": [
    {
     "data": {
      "text/plain": [
       "array([4, 8])"
      ]
     },
     "execution_count": 60,
     "metadata": {},
     "output_type": "execute_result"
    }
   ],
   "source": [
    "z = np.array([2,4])\n",
    "np.multiply(z,2)"
   ]
  },
  {
   "cell_type": "code",
   "execution_count": 61,
   "id": "b6febd2b-3c26-47cb-9bcd-480ee583b642",
   "metadata": {},
   "outputs": [
    {
     "data": {
      "text/plain": [
       "array([1, 0, 3, 0, 5])"
      ]
     },
     "execution_count": 61,
     "metadata": {},
     "output_type": "execute_result"
    }
   ],
   "source": [
    "l1 = np.array([1,2,3,4,5])\n",
    "l2 = np.array([1,0,1,0,1])\n",
    "np.multiply(l1,l2)"
   ]
  },
  {
   "cell_type": "code",
   "execution_count": 62,
   "id": "7745fd98-0dd0-492f-ac99-3348bf2a93e8",
   "metadata": {},
   "outputs": [],
   "source": [
    "# Import the libraries\n",
    "\n",
    "import time \n",
    "import sys\n",
    "import numpy as np \n",
    "\n",
    "import matplotlib.pyplot as plt\n",
    "\n",
    "\n",
    "def Plotvec2(a,b):\n",
    "    ax = plt.axes()# to generate the full window axes\n",
    "    ax.arrow(0, 0, *a, head_width=0.05, color ='r', head_length=0.1)#Add an arrow to the  a Axes with arrow head width 0.05, color red and arrow head length 0.1\n",
    "    plt.text(*(a + 0.1), 'a')\n",
    "    ax.arrow(0, 0, *b, head_width=0.05, color ='b', head_length=0.1)#Add an arrow to the  b Axes with arrow head width 0.05, color blue and arrow head length 0.1\n",
    "    plt.text(*(b + 0.1), 'b')\n",
    "    plt.ylim(-2, 2)#set the ylim to bottom(-2), top(2)\n",
    "    plt.xlim(-2, 2)#set the xlim to left(-2), right(2)\n",
    "    \n",
    "    \n"
   ]
  },
  {
   "cell_type": "code",
   "execution_count": 63,
   "id": "e7dd8c50-79b6-4cd7-b7fe-9389918d0e45",
   "metadata": {},
   "outputs": [
    {
     "data": {
      "image/png": "[encoded data removed]",
      "text/plain": [
       "<Figure size 640x480 with 1 Axes>"
      ]
     },
     "metadata": {},
     "output_type": "display_data"
    }
   ],
   "source": [
    "a = np.array([-1,1])\n",
    "b = np.array([1,1])\n",
    "Plotvec2(a,b)"
   ]
  },
  {
   "cell_type": "code",
   "execution_count": 64,
   "id": "aa3983ff-3b9e-444e-b0ef-bf4510fd2878",
   "metadata": {},
   "outputs": [
    {
     "data": {
      "image/png": "[encoded data removed]",
      "text/plain": [
       "<Figure size 640x480 with 1 Axes>"
      ]
     },
     "metadata": {},
     "output_type": "display_data"
    }
   ],
   "source": [
    "a = np.array([1,0])\n",
    "b = np.array([0,1])\n",
    "Plotvec2(a,b)"
   ]
  },
  {
   "cell_type": "code",
   "execution_count": 65,
   "id": "7b492ffb-3efc-41e2-8d14-1126b055c470",
   "metadata": {},
   "outputs": [
    {
     "data": {
      "image/png": "[encoded data removed]",
      "text/plain": [
       "<Figure size 640x480 with 1 Axes>"
      ]
     },
     "metadata": {},
     "output_type": "display_data"
    }
   ],
   "source": [
    "a = np.array([1,1])\n",
    "b = np.array([0,1])\n",
    "Plotvec2(a,b)"
   ]
  },
  {
   "cell_type": "code",
   "execution_count": 66,
   "id": "993f097d-d53a-4890-84a6-6c842049e843",
   "metadata": {},
   "outputs": [
    {
     "name": "stdout",
     "output_type": "stream",
     "text": [
      "[ 9 11 13]\n",
      "[-7 -7 -7]\n",
      "[ 8 18 30]\n",
      "[0.125      0.22222222 0.3       ]\n",
      "56\n"
     ]
    }
   ],
   "source": [
    "arr1 = np.array([1,2,3])\n",
    "arr2 = np.array([8,9,10])\n",
    "print(np.add(arr1,arr2))\n",
    "print(np.subtract(arr1,arr2))\n",
    "print(np.multiply(arr1,arr2))\n",
    "print(np.divide(arr1,arr2))\n",
    "print(np.dot(arr1,arr2))"
   ]
  },
  {
   "cell_type": "code",
   "execution_count": 70,
   "id": "64e0ca1b-8782-49e7-97f9-4066f009f354",
   "metadata": {},
   "outputs": [
    {
     "name": "stdout",
     "output_type": "stream",
     "text": [
      "[2 4]\n",
      "[1 3 5]\n",
      "[1 3 5]\n",
      "[2 4]\n"
     ]
    }
   ],
   "source": [
    "arr1 = np.array([1,2,3,4,5])\n",
    "arr2 = np.array([6,7,8,9,10])\n",
    "print(arr1[arr1%2==0])\n",
    "print(arr1[arr1%2!=0])\n",
    "print(arr1[arr2%2==0])\n",
    "print(arr1[arr2%2!=0])"
   ]
  },
  {
   "cell_type": "markdown",
   "id": "ade49230-4ad3-4ccc-b646-76da55bb163e",
   "metadata": {},
   "source": [
    "### 2D Numpy\n",
    "- The basics and array creation in 2D\n",
    "- Indexing and slicing in 2D\n",
    "- Basic operations in 2D"
   ]
  },
  {
   "cell_type": "code",
   "execution_count": 71,
   "id": "0b13bd1b-e638-425e-bad8-2a99c9af34ff",
   "metadata": {},
   "outputs": [
    {
     "name": "stdout",
     "output_type": "stream",
     "text": [
      "[[11 12 13]\n",
      " [21 22 23]\n",
      " [31 32 33]]\n"
     ]
    }
   ],
   "source": [
    "a = [[11,12,13], [21,22,23], [31,32,33]]\n",
    "A = np.array(a)\n",
    "print(A)"
   ]
  },
  {
   "cell_type": "code",
   "execution_count": 72,
   "id": "14fcfaba-97fd-4c6c-945a-1f94fe92b4ad",
   "metadata": {},
   "outputs": [
    {
     "name": "stdout",
     "output_type": "stream",
     "text": [
      "2\n",
      "(3, 3)\n",
      "9\n"
     ]
    }
   ],
   "source": [
    "print(A.ndim) #2\n",
    "print(A.shape) #(3,3)\n",
    "print(A.size) #(9)"
   ]
  },
  {
   "cell_type": "code",
   "execution_count": 73,
   "id": "67588698-0559-4268-8e2c-f55446d84bc5",
   "metadata": {},
   "outputs": [
    {
     "data": {
      "text/plain": [
       "np.int64(23)"
      ]
     },
     "execution_count": 73,
     "metadata": {},
     "output_type": "execute_result"
    }
   ],
   "source": [
    "A[1,2]"
   ]
  },
  {
   "cell_type": "code",
   "execution_count": 74,
   "id": "42dcd6e3-ca36-474d-b9b8-acab28b1acf5",
   "metadata": {},
   "outputs": [
    {
     "data": {
      "text/plain": [
       "array([11, 12])"
      ]
     },
     "execution_count": 74,
     "metadata": {},
     "output_type": "execute_result"
    }
   ],
   "source": [
    "A[0][0:2]"
   ]
  },
  {
   "cell_type": "code",
   "execution_count": null,
   "id": "f50e53f5-be6c-46e1-967a-c3b4ff3d4250",
   "metadata": {},
   "outputs": [],
   "source": []
  }
 ],
 "metadata": {
  "kernelspec": {
   "display_name": "Python 3 (ipykernel)",
   "language": "python",
   "name": "python3"
  },
  "language_info": {
   "codemirror_mode": {
    "name": "ipython",
    "version": 3
   },
   "file_extension": ".py",
   "mimetype": "text/x-python",
   "name": "python",
   "nbconvert_exporter": "python",
   "pygments_lexer": "ipython3",
   "version": "3.13.5"
  }
 },
 "nbformat": 4,
 "nbformat_minor": 5
}
