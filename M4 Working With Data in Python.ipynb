{
 "cells": [
  {
   "cell_type": "markdown",
   "id": "897c341f-15b0-4dc5-93ef-a49c00b70bf4",
   "metadata": {},
   "source": [
    "### Read File with open"
   ]
  },
  {
   "cell_type": "code",
   "execution_count": 2,
   "id": "18230f06-a61b-43f7-9a8b-378564f69377",
   "metadata": {},
   "outputs": [
    {
     "ename": "FileNotFoundError",
     "evalue": "[Errno 2] No such file or directory: 'Sample.txt'",
     "output_type": "error",
     "traceback": [
      "\u001b[1;31m---------------------------------------------------------------------------\u001b[0m",
      "\u001b[1;31mFileNotFoundError\u001b[0m                         Traceback (most recent call last)",
      "Cell \u001b[1;32mIn[2], line 1\u001b[0m\n\u001b[1;32m----> 1\u001b[0m file \u001b[38;5;241m=\u001b[39m \u001b[38;5;28mopen\u001b[39m(\u001b[38;5;124m'\u001b[39m\u001b[38;5;124mSample.txt\u001b[39m\u001b[38;5;124m'\u001b[39m, \u001b[38;5;124m'\u001b[39m\u001b[38;5;124mr\u001b[39m\u001b[38;5;124m'\u001b[39m)\n\u001b[0;32m      2\u001b[0m file\u001b[38;5;241m.\u001b[39mwrite (\u001b[38;5;124m\"\u001b[39m\u001b[38;5;124mHi this is Awais Ali. \u001b[39m\u001b[38;5;130;01m\\n\u001b[39;00m\u001b[38;5;124mI am learning Python. \u001b[39m\u001b[38;5;130;01m\\n\u001b[39;00m\u001b[38;5;124mI also want to work in a software house\u001b[39m\u001b[38;5;124m\"\u001b[39m)\n",
      "File \u001b[1;32mE:\\Anaconda Installed\\Lib\\site-packages\\IPython\\core\\interactiveshell.py:324\u001b[0m, in \u001b[0;36m_modified_open\u001b[1;34m(file, *args, **kwargs)\u001b[0m\n\u001b[0;32m    317\u001b[0m \u001b[38;5;28;01mif\u001b[39;00m file \u001b[38;5;129;01min\u001b[39;00m {\u001b[38;5;241m0\u001b[39m, \u001b[38;5;241m1\u001b[39m, \u001b[38;5;241m2\u001b[39m}:\n\u001b[0;32m    318\u001b[0m     \u001b[38;5;28;01mraise\u001b[39;00m \u001b[38;5;167;01mValueError\u001b[39;00m(\n\u001b[0;32m    319\u001b[0m         \u001b[38;5;124mf\u001b[39m\u001b[38;5;124m\"\u001b[39m\u001b[38;5;124mIPython won\u001b[39m\u001b[38;5;124m'\u001b[39m\u001b[38;5;124mt let you open fd=\u001b[39m\u001b[38;5;132;01m{\u001b[39;00mfile\u001b[38;5;132;01m}\u001b[39;00m\u001b[38;5;124m by default \u001b[39m\u001b[38;5;124m\"\u001b[39m\n\u001b[0;32m    320\u001b[0m         \u001b[38;5;124m\"\u001b[39m\u001b[38;5;124mas it is likely to crash IPython. If you know what you are doing, \u001b[39m\u001b[38;5;124m\"\u001b[39m\n\u001b[0;32m    321\u001b[0m         \u001b[38;5;124m\"\u001b[39m\u001b[38;5;124myou can use builtins\u001b[39m\u001b[38;5;124m'\u001b[39m\u001b[38;5;124m open.\u001b[39m\u001b[38;5;124m\"\u001b[39m\n\u001b[0;32m    322\u001b[0m     )\n\u001b[1;32m--> 324\u001b[0m \u001b[38;5;28;01mreturn\u001b[39;00m io_open(file, \u001b[38;5;241m*\u001b[39margs, \u001b[38;5;241m*\u001b[39m\u001b[38;5;241m*\u001b[39mkwargs)\n",
      "\u001b[1;31mFileNotFoundError\u001b[0m: [Errno 2] No such file or directory: 'Sample.txt'"
     ]
    }
   ],
   "source": [
    "file = open('Sample.txt', 'r')\n",
    "file.write (\"Hi this is Awais Ali. \\nI am learning Python. \\nI also want to work in a software house\")"
   ]
  },
  {
   "cell_type": "code",
   "execution_count": 3,
   "id": "8d6d5f81-5672-40fb-9cfd-ce5a6cbeac83",
   "metadata": {},
   "outputs": [],
   "source": [
    "file = open('Sample.txt', 'w')\n",
    "file.close()"
   ]
  },
  {
   "cell_type": "code",
   "execution_count": 5,
   "id": "6e940d9a-3c7f-4721-8e32-9cee30b9b859",
   "metadata": {},
   "outputs": [],
   "source": [
    "with open('sample.txt', 'w') as file:\n",
    "    file.write(\"Hi this is Awais Ali. \\nI am learning Python. \\nI also want to work in a software house\")"
   ]
  },
  {
   "cell_type": "code",
   "execution_count": 6,
   "id": "6b3ba13d-a803-4af3-8b70-66a9b35a9d14",
   "metadata": {},
   "outputs": [],
   "source": [
    "file.close()"
   ]
  },
  {
   "cell_type": "code",
   "execution_count": 7,
   "id": "5e6099b7-a52e-4ecf-be70-bcb2ecbc5c0f",
   "metadata": {},
   "outputs": [
    {
     "name": "stdout",
     "output_type": "stream",
     "text": [
      "Hi this is Awais Ali. \n",
      "I am learning Python. \n",
      "I also want to work in a software house\n"
     ]
    }
   ],
   "source": [
    "with open('sample.txt', 'r') as file:\n",
    "    data = file.read()\n",
    "    print(data)"
   ]
  },
  {
   "cell_type": "code",
   "execution_count": 8,
   "id": "fd6ae92e-c349-4977-9a2a-152b6e7b0a2a",
   "metadata": {},
   "outputs": [
    {
     "name": "stdout",
     "output_type": "stream",
     "text": [
      "Hi this is Awais Ali. \n",
      "I am learning Python. \n",
      "I also want to work in a software house\n"
     ]
    }
   ],
   "source": [
    "print(data)"
   ]
  },
  {
   "cell_type": "code",
   "execution_count": 9,
   "id": "d29659df-74b1-4ca6-866b-1844eb3fcd06",
   "metadata": {},
   "outputs": [
    {
     "data": {
      "text/plain": [
       "'Hi this is Awais Ali. \\nI am learning Python. \\nI also want to work in a software house'"
      ]
     },
     "execution_count": 9,
     "metadata": {},
     "output_type": "execute_result"
    }
   ],
   "source": [
    "data"
   ]
  },
  {
   "cell_type": "code",
   "execution_count": 11,
   "id": "808cd996-40c1-4274-80ff-4807e106caba",
   "metadata": {},
   "outputs": [
    {
     "data": {
      "text/plain": [
       "'sample.txt'"
      ]
     },
     "execution_count": 11,
     "metadata": {},
     "output_type": "execute_result"
    }
   ],
   "source": [
    "file.name"
   ]
  },
  {
   "cell_type": "code",
   "execution_count": 12,
   "id": "3f6aa102-ddad-45b0-a399-e1604bfb342f",
   "metadata": {},
   "outputs": [
    {
     "data": {
      "text/plain": [
       "'r'"
      ]
     },
     "execution_count": 12,
     "metadata": {},
     "output_type": "execute_result"
    }
   ],
   "source": [
    "file.mode"
   ]
  },
  {
   "cell_type": "code",
   "execution_count": 13,
   "id": "4d206796-bc00-400c-8ace-c22646bf806b",
   "metadata": {},
   "outputs": [
    {
     "name": "stdout",
     "output_type": "stream",
     "text": [
      "Hi this is Awais Ali. \n",
      "I am learning Python. \n",
      "I also want to work in a software house\n",
      "None\n",
      "Hi this is Awais Ali. \n",
      "I am learning Python. \n",
      "I also want to work in a software house\n"
     ]
    }
   ],
   "source": [
    "#with open file automatically close\n",
    "with open('sample.txt', 'r') as file:\n",
    "    file_stuff = file.read()\n",
    "    print(file_stuff)\n",
    "print(file.close())\n",
    "print(file_stuff)"
   ]
  },
  {
   "cell_type": "code",
   "execution_count": 14,
   "id": "ce4c942b-ba7d-4682-a0ea-529cb57edfbb",
   "metadata": {},
   "outputs": [
    {
     "name": "stdout",
     "output_type": "stream",
     "text": [
      "Hi this is Awais Ali. \n",
      "I am learning Python. \n",
      "I also want to work in a software house\n"
     ]
    }
   ],
   "source": [
    "print(file_stuff)"
   ]
  },
  {
   "cell_type": "code",
   "execution_count": 15,
   "id": "7957f443-9ce8-4529-bc1b-c26947545749",
   "metadata": {},
   "outputs": [
    {
     "name": "stdout",
     "output_type": "stream",
     "text": [
      "True\n"
     ]
    }
   ],
   "source": [
    "print(file.closed)"
   ]
  },
  {
   "cell_type": "code",
   "execution_count": 16,
   "id": "882d347f-8a4f-430d-9969-728e17750cd5",
   "metadata": {},
   "outputs": [
    {
     "name": "stdout",
     "output_type": "stream",
     "text": [
      "None\n"
     ]
    }
   ],
   "source": [
    "print(file.close())"
   ]
  },
  {
   "cell_type": "code",
   "execution_count": 17,
   "id": "ce4357a0-071c-4cec-8873-1375c5046ded",
   "metadata": {},
   "outputs": [
    {
     "name": "stdout",
     "output_type": "stream",
     "text": [
      "Hi this is Awais Ali. \n",
      "I am learning Python. \n",
      "I also want to work in a software house\n"
     ]
    }
   ],
   "source": [
    "print(file_stuff)"
   ]
  },
  {
   "cell_type": "code",
   "execution_count": 26,
   "id": "abd71ec4-1949-4dfb-ba37-90049d0d1bd6",
   "metadata": {},
   "outputs": [
    {
     "name": "stdout",
     "output_type": "stream",
     "text": [
      "Hi t\n",
      "his is A\n",
      "wais Ali. \n",
      "\n",
      "I am learning Python. \n",
      "\n",
      "I also want to work in a software house\n"
     ]
    }
   ],
   "source": [
    "with open('sample.txt', 'r') as file:\n",
    "    file_stuff = file.readline(4)\n",
    "    print(file_stuff)\n",
    "    file_stuff = file.readline(8)\n",
    "    print(file_stuff)\n",
    "    file_stuff = file.readline(18)\n",
    "    print(file_stuff)\n",
    "    for line in file:\n",
    "        print(line)"
   ]
  },
  {
   "cell_type": "code",
   "execution_count": 25,
   "id": "3af4cc06-a66a-47a6-9426-b302c0941383",
   "metadata": {},
   "outputs": [
    {
     "name": "stdout",
     "output_type": "stream",
     "text": [
      "Hi this is Awais Ali. \n",
      "\n",
      "I am learning Python. \n",
      "\n",
      "I also want to work in a software house\n"
     ]
    }
   ],
   "source": [
    "with open('sample.txt', 'r') as file:\n",
    "    for line in file:\n",
    "        print(line)"
   ]
  },
  {
   "cell_type": "code",
   "execution_count": 28,
   "id": "606753d3-1ad4-431c-93c3-d9be977b1dea",
   "metadata": {},
   "outputs": [
    {
     "name": "stdout",
     "output_type": "stream",
     "text": [
      "Available\n"
     ]
    }
   ],
   "source": [
    "with open('sample.txt', 'r') as file:\n",
    "    line1 = file.readline()\n",
    "    line2 = file.readline()\n",
    "    line3 = file.readline()\n",
    "    if 'Awais' in line1:\n",
    "        print(\"Available\")"
   ]
  },
  {
   "cell_type": "code",
   "execution_count": 29,
   "id": "4ac65574-c72c-4018-9625-6f9efa89806a",
   "metadata": {},
   "outputs": [
    {
     "name": "stdout",
     "output_type": "stream",
     "text": [
      "Availble\n"
     ]
    }
   ],
   "source": [
    "if 'learning' in line2:\n",
    "    print(\"Availble\")"
   ]
  },
  {
   "cell_type": "code",
   "execution_count": 30,
   "id": "e3da20a7-0c18-4153-9cf9-21cd9d3680cf",
   "metadata": {},
   "outputs": [
    {
     "name": "stdout",
     "output_type": "stream",
     "text": [
      "Not availbe\n"
     ]
    }
   ],
   "source": [
    "if 'sss' in line3:\n",
    "    print('Avaible')\n",
    "else: \n",
    "    print(\"Not availbe\")"
   ]
  },
  {
   "cell_type": "markdown",
   "id": "13d0043a-46db-4a2e-812a-091612afb059",
   "metadata": {},
   "source": [
    "Looping through lines: Typically, you use a loop to read lines until no more lines are left. t's like reading the entire book, line by line."
   ]
  },
  {
   "cell_type": "code",
   "execution_count": 34,
   "id": "eec72e1f-7978-4f26-be88-d43256d7046a",
   "metadata": {},
   "outputs": [
    {
     "data": {
      "text/plain": [
       "10"
      ]
     },
     "execution_count": 34,
     "metadata": {},
     "output_type": "execute_result"
    }
   ],
   "source": [
    "file = open('sample.txt', 'r')\n",
    "file.seek(10)"
   ]
  },
  {
   "cell_type": "code",
   "execution_count": 35,
   "id": "086ff688-c9a0-48f7-8baa-653ed7d543fa",
   "metadata": {},
   "outputs": [
    {
     "data": {
      "text/plain": [
       "' Awai'"
      ]
     },
     "execution_count": 35,
     "metadata": {},
     "output_type": "execute_result"
    }
   ],
   "source": [
    "file.read(5)"
   ]
  },
  {
   "cell_type": "code",
   "execution_count": 36,
   "id": "81c36556-c74a-402f-b9f0-8b8eb435b01e",
   "metadata": {},
   "outputs": [
    {
     "name": "stderr",
     "output_type": "stream",
     "text": [
      "'wget' is not recognized as an internal or external command,\n",
      "operable program or batch file.\n"
     ]
    }
   ],
   "source": [
    "# Uncomment these if working locally, else let the following code cell run.\n",
    "\n",
    "import urllib.request\n",
    "url = 'https://cf-courses-data.s3.us.cloud-object-storage.appdomain.cloud/IBMDeveloperSkillsNetwork-PY0101EN-SkillsNetwork/labs/Module%204/data/example1.txt'\n",
    "filename = 'Example1.txt'\n",
    "urllib.request.urlretrieve(url, filename)\n",
    "\n",
    "# Download Example file\n",
    "!wget Example1.txt https://cf-courses-data.s3.us.cloud-object-storage.appdomain.cloud/IBMDeveloperSkillsNetwork-PY0101EN-SkillsNetwork/labs/Module%204/data/example1.txt"
   ]
  },
  {
   "cell_type": "code",
   "execution_count": 37,
   "id": "947f15c5-dee7-46e4-bf83-ed1416e52a0b",
   "metadata": {},
   "outputs": [
    {
     "ename": "ModuleNotFoundError",
     "evalue": "No module named 'pyodide'",
     "output_type": "error",
     "traceback": [
      "\u001b[1;31m---------------------------------------------------------------------------\u001b[0m",
      "\u001b[1;31mModuleNotFoundError\u001b[0m                       Traceback (most recent call last)",
      "Cell \u001b[1;32mIn[37], line 1\u001b[0m\n\u001b[1;32m----> 1\u001b[0m \u001b[38;5;28;01mfrom\u001b[39;00m\u001b[38;5;250m \u001b[39m\u001b[38;5;21;01mpyodide\u001b[39;00m\u001b[38;5;21;01m.\u001b[39;00m\u001b[38;5;21;01mhttp\u001b[39;00m\u001b[38;5;250m \u001b[39m\u001b[38;5;28;01mimport\u001b[39;00m pyfetch\n\u001b[0;32m      3\u001b[0m \u001b[38;5;28;01mimport\u001b[39;00m\u001b[38;5;250m \u001b[39m\u001b[38;5;21;01mpandas\u001b[39;00m\u001b[38;5;250m \u001b[39m\u001b[38;5;28;01mas\u001b[39;00m\u001b[38;5;250m \u001b[39m\u001b[38;5;21;01mpd\u001b[39;00m\n\u001b[0;32m      5\u001b[0m filename \u001b[38;5;241m=\u001b[39m \u001b[38;5;124m\"\u001b[39m\u001b[38;5;124mhttps://cf-courses-data.s3.us.cloud-object-storage.appdomain.cloud/IBMDeveloperSkillsNetwork-PY0101EN-SkillsNetwork/labs/Module\u001b[39m\u001b[38;5;124m%\u001b[39m\u001b[38;5;124m204/data/example1.txt\u001b[39m\u001b[38;5;124m\"\u001b[39m\n",
      "\u001b[1;31mModuleNotFoundError\u001b[0m: No module named 'pyodide'"
     ]
    }
   ],
   "source": [
    "from pyodide.http import pyfetch\n",
    "\n",
    "import pandas as pd\n",
    "\n",
    "filename = \"https://cf-courses-data.s3.us.cloud-object-storage.appdomain.cloud/IBMDeveloperSkillsNetwork-PY0101EN-SkillsNetwork/labs/Module%204/data/example1.txt\"\n",
    "\n",
    "async def download(url, filename):\n",
    "\n",
    "    response = await pyfetch(url)\n",
    "\n",
    "    if response.status == 200:\n",
    "\n",
    "        with open(filename, \"wb\") as f:\n",
    "\n",
    "            f.write(await response.bytes())\n",
    "\n",
    "await download(filename, \"example1.txt\")\n",
    "\n",
    "print(\"done\")\n"
   ]
  },
  {
   "cell_type": "code",
   "execution_count": 39,
   "id": "e685d12f-89fa-4890-b9fa-d708f83d1ec0",
   "metadata": {},
   "outputs": [
    {
     "name": "stdout",
     "output_type": "stream",
     "text": [
      "Iteration 0 :  Hi this is Awais Ali. \n",
      "\n",
      "Iteration 1 :  I am learning Python. \n",
      "\n",
      "Iteration 2 :  I also want to work in a software house\n"
     ]
    }
   ],
   "source": [
    "with open('sample.txt', 'r') as file:\n",
    "    i = 0;\n",
    "    for line in file:\n",
    "        print(\"Iteration\", (i), \": \", line)\n",
    "        i += 1"
   ]
  },
  {
   "cell_type": "code",
   "execution_count": 40,
   "id": "c0bf6d03-c3fd-4a90-9032-d40d7684f1e1",
   "metadata": {},
   "outputs": [
    {
     "name": "stdout",
     "output_type": "stream",
     "text": [
      "['Hi this is Awais Ali. \\n', 'I am learning Python. \\n', 'I also want to work in a software house']\n"
     ]
    }
   ],
   "source": [
    "with open('sample.txt', 'r') as file:\n",
    "    fileAsList = file.readlines()\n",
    "    print(fileAsList)"
   ]
  },
  {
   "cell_type": "code",
   "execution_count": 42,
   "id": "4a834f37-618e-448f-b429-5bf78c060226",
   "metadata": {},
   "outputs": [
    {
     "data": {
      "text/plain": [
       "'I am learning Python. \\n'"
      ]
     },
     "execution_count": 42,
     "metadata": {},
     "output_type": "execute_result"
    }
   ],
   "source": [
    "fileAsList[1]"
   ]
  },
  {
   "cell_type": "markdown",
   "id": "2fe88a60-b801-485a-8d62-ec49019cfe3d",
   "metadata": {},
   "source": [
    "### Writing file with Open"
   ]
  },
  {
   "cell_type": "code",
   "execution_count": 44,
   "id": "254cb6b3-af23-46f6-80a9-0b14673d77b9",
   "metadata": {},
   "outputs": [],
   "source": [
    "with open('sample.txt', 'a') as file:\n",
    "    file.write(\"This is New line \\nthis is second new line \\nThis is third new line\")"
   ]
  },
  {
   "cell_type": "code",
   "execution_count": 46,
   "id": "62bde673-2f75-44af-a504-5b474cddd2c1",
   "metadata": {},
   "outputs": [
    {
     "name": "stdout",
     "output_type": "stream",
     "text": [
      "Hi this is Awais Ali. \n",
      "I am learning Python. \n",
      "I also want to work in a software houseThis is New line \n",
      "this is second new line \n",
      "This is third new lineThis is New line \n",
      "this is second new line \n",
      "This is third new line\n"
     ]
    }
   ],
   "source": [
    "with open('sample.txt', 'r') as file:\n",
    "    read = file.read()\n",
    "    print(read)"
   ]
  },
  {
   "cell_type": "code",
   "execution_count": 47,
   "id": "8c3fc010-8c7a-4a0e-9325-55358a4f6627",
   "metadata": {},
   "outputs": [],
   "source": [
    "Lines = [\"I am adding a list. \\nThird line is added\"]\n",
    "with open('sample.txt', 'w') as file:\n",
    "    for line in Lines:\n",
    "        file.write(line)"
   ]
  },
  {
   "cell_type": "code",
   "execution_count": 48,
   "id": "63b16314-f6b6-403a-981d-aa3b91c39b55",
   "metadata": {},
   "outputs": [
    {
     "name": "stdout",
     "output_type": "stream",
     "text": [
      "I am adding a list. \n",
      "Third line is added\n"
     ]
    }
   ],
   "source": [
    "with open('sample.txt', 'r') as file:\n",
    "    read = file.read()\n",
    "    print(read)"
   ]
  },
  {
   "cell_type": "code",
   "execution_count": 49,
   "id": "edad5e8f-97d9-409a-b7fc-09ebd5f0e055",
   "metadata": {},
   "outputs": [],
   "source": [
    "with open('sample.txt', 'r') as readfile:\n",
    "    with open('sample2.txt', 'w') as writefile:\n",
    "        for line in readfile:\n",
    "            writefile.write(line)\n",
    "        "
   ]
  },
  {
   "cell_type": "code",
   "execution_count": 50,
   "id": "afee31a7-5cf9-47e8-b7a3-ac31bee9bd87",
   "metadata": {},
   "outputs": [
    {
     "name": "stdout",
     "output_type": "stream",
     "text": [
      "I am adding a list. \n",
      "Third line is added\n"
     ]
    }
   ],
   "source": [
    "with open('sample2.txt', 'r') as file:\n",
    "    read = file.read()\n",
    "    print(read)"
   ]
  },
  {
   "cell_type": "code",
   "execution_count": 53,
   "id": "6e318de2-8579-4138-8cc4-98320c2791a5",
   "metadata": {},
   "outputs": [
    {
     "ename": "UnsupportedOperation",
     "evalue": "not readable",
     "output_type": "error",
     "traceback": [
      "\u001b[1;31m---------------------------------------------------------------------------\u001b[0m",
      "\u001b[1;31mUnsupportedOperation\u001b[0m                      Traceback (most recent call last)",
      "Cell \u001b[1;32mIn[53], line 5\u001b[0m\n\u001b[0;32m      3\u001b[0m \u001b[38;5;28;01mfor\u001b[39;00m line \u001b[38;5;129;01min\u001b[39;00m Lines:\n\u001b[0;32m      4\u001b[0m     file2\u001b[38;5;241m.\u001b[39mwrite(line \u001b[38;5;241m+\u001b[39m \u001b[38;5;124m\"\u001b[39m\u001b[38;5;130;01m\\n\u001b[39;00m\u001b[38;5;124m\"\u001b[39m)\n\u001b[1;32m----> 5\u001b[0m     file2\u001b[38;5;241m.\u001b[39mread()\n",
      "\u001b[1;31mUnsupportedOperation\u001b[0m: not readable"
     ]
    }
   ],
   "source": [
    "Lines = ['This is line1', 'This is line2', 'This']\n",
    "with open('sample3.txt', 'w') as file2:\n",
    "    for line in Lines:\n",
    "        file2.write(line + \"\\n\")\n",
    "        file2.read()"
   ]
  },
  {
   "cell_type": "code",
   "execution_count": 52,
   "id": "2426aa89-2726-448e-ac67-b934368837c0",
   "metadata": {},
   "outputs": [
    {
     "ename": "ValueError",
     "evalue": "I/O operation on closed file.",
     "output_type": "error",
     "traceback": [
      "\u001b[1;31m---------------------------------------------------------------------------\u001b[0m",
      "\u001b[1;31mValueError\u001b[0m                                Traceback (most recent call last)",
      "Cell \u001b[1;32mIn[52], line 1\u001b[0m\n\u001b[1;32m----> 1\u001b[0m file2\u001b[38;5;241m.\u001b[39mread()\n",
      "\u001b[1;31mValueError\u001b[0m: I/O operation on closed file."
     ]
    }
   ],
   "source": [
    "file2.read()"
   ]
  },
  {
   "cell_type": "code",
   "execution_count": 55,
   "id": "1b4ff3c7-4ef2-4e51-be9b-25658fda4e6d",
   "metadata": {},
   "outputs": [],
   "source": [
    "# Write line to file\n",
    "exmp2 = 'Example2.txt'\n",
    "with open(exmp2, 'w') as writefile:\n",
    "    writefile.write(\"This a line A\")"
   ]
  },
  {
   "cell_type": "code",
   "execution_count": 56,
   "id": "8432fc00-4d53-4cef-beae-5466747387e5",
   "metadata": {},
   "outputs": [],
   "source": [
    "with open(exmp2, 'r') as readfile:\n",
    "    stuff = readfile.read()"
   ]
  },
  {
   "cell_type": "code",
   "execution_count": 57,
   "id": "e7808c51-bbba-48b7-992d-9afeb003652a",
   "metadata": {},
   "outputs": [
    {
     "name": "stdout",
     "output_type": "stream",
     "text": [
      "This a line A\n"
     ]
    }
   ],
   "source": [
    "print(stuff)"
   ]
  },
  {
   "cell_type": "code",
   "execution_count": 58,
   "id": "f4b9ee3c-91ca-41aa-ab6b-2f1f7166f8b9",
   "metadata": {},
   "outputs": [],
   "source": [
    "with open (exmp2, 'w') as writefile:\n",
    "    writefile.write(\"This is line A\\n\")\n",
    "    writefile.write(\"This is line B\\n\")\n",
    "    "
   ]
  },
  {
   "cell_type": "code",
   "execution_count": 60,
   "id": "d65d8bb5-cc30-4447-806e-576c652a9d3c",
   "metadata": {},
   "outputs": [],
   "source": [
    "with open (exmp2, 'r') as readfile:\n",
    "    data = readfile.read()"
   ]
  },
  {
   "cell_type": "code",
   "execution_count": 61,
   "id": "6ee767d3-e005-4d65-a849-2dcddcf3fd5f",
   "metadata": {},
   "outputs": [
    {
     "name": "stdout",
     "output_type": "stream",
     "text": [
      "This is line A\n",
      "This is line B\n",
      "\n"
     ]
    }
   ],
   "source": [
    "print(data)"
   ]
  },
  {
   "cell_type": "code",
   "execution_count": 62,
   "id": "1c3bc34a-5ade-447a-85d7-78555550d6e3",
   "metadata": {},
   "outputs": [],
   "source": [
    "# Sample list of text\n",
    "Lines = ['I am learning Python \\n', 'It very interesting \\n', 'I am learning from IBM']"
   ]
  },
  {
   "cell_type": "code",
   "execution_count": 63,
   "id": "1039a2bb-4227-403f-8788-6588d6fc472c",
   "metadata": {},
   "outputs": [
    {
     "name": "stdout",
     "output_type": "stream",
     "text": [
      "I am learning Python \n",
      "\n",
      "It very interesting \n",
      "\n",
      "I am learning from IBM\n"
     ]
    }
   ],
   "source": [
    "with open(exmp2, 'w') as writefile:\n",
    "    for line in Lines:\n",
    "        print(line)\n",
    "        writefile.write(line)"
   ]
  },
  {
   "cell_type": "code",
   "execution_count": 65,
   "id": "49eff7ee-4842-425c-89b0-72823e9f4bd1",
   "metadata": {},
   "outputs": [
    {
     "name": "stdout",
     "output_type": "stream",
     "text": [
      "Overwrite\n",
      "\n"
     ]
    }
   ],
   "source": [
    "with open(exmp2, 'w') as writefile:\n",
    "    writefile.write('Overwrite\\n')\n",
    "with open(exmp2, 'r') as readfile:\n",
    "    print(readfile.read())"
   ]
  },
  {
   "cell_type": "code",
   "execution_count": 71,
   "id": "8a7e0eba-31e4-4c16-b40e-6011767a6ae6",
   "metadata": {},
   "outputs": [],
   "source": [
    "with open(exmp2, 'a') as testwritefile:\n",
    "    testwritefile.write(\"Hi, How is it going\\n?\")\n",
    "    testwritefile.write(\"I am doing great\\n\")\n",
    "    testwritefile.write(\"Okay whats new\\n\")"
   ]
  },
  {
   "cell_type": "code",
   "execution_count": 72,
   "id": "aa93480f-f154-490e-88b0-c5dab76aaa81",
   "metadata": {},
   "outputs": [
    {
     "name": "stdout",
     "output_type": "stream",
     "text": [
      "Overwrite\n",
      "Hi, How is it going\n",
      "?I am doing great\n",
      "Hi, How is it going\n",
      "?I am doing great\n",
      "Okay whats newHi, How is it going\n",
      "?I am doing great\n",
      "Okay whats new\n",
      "\n"
     ]
    }
   ],
   "source": [
    "with open(exmp2, 'r') as readfile:\n",
    "    print(readfile.read())"
   ]
  },
  {
   "cell_type": "code",
   "execution_count": 77,
   "id": "8d9cf7c0-3c73-4892-9448-a5e4cd6303f6",
   "metadata": {},
   "outputs": [
    {
     "name": "stdout",
     "output_type": "stream",
     "text": [
      "\n"
     ]
    }
   ],
   "source": [
    "with open(exmp2, 'a+') as test:\n",
    "    test.write(\"This a+\")\n",
    "    tes = test.read()\n",
    "    print(tes)\n",
    "    "
   ]
  },
  {
   "cell_type": "code",
   "execution_count": null,
   "id": "a89ace57-097a-404a-802a-de8aa4ff80b0",
   "metadata": {},
   "outputs": [],
   "source": []
  }
 ],
 "metadata": {
  "kernelspec": {
   "display_name": "Python 3 (ipykernel)",
   "language": "python",
   "name": "python3"
  },
  "language_info": {
   "codemirror_mode": {
    "name": "ipython",
    "version": 3
   },
   "file_extension": ".py",
   "mimetype": "text/x-python",
   "name": "python",
   "nbconvert_exporter": "python",
   "pygments_lexer": "ipython3",
   "version": "3.13.5"
  }
 },
 "nbformat": 4,
 "nbformat_minor": 5
}
