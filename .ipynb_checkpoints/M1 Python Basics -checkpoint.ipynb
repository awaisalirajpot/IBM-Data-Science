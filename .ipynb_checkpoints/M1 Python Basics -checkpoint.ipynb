{
 "cells": [
  {
   "cell_type": "markdown",
   "id": "7085b204-c306-4412-814e-9b361d775f54",
   "metadata": {},
   "source": [
    "#### Strings\n",
    "1. *A string is a sequence of characters contained with i two quotes or a single quotes* <br>\n",
    "\"Michael Jackson\" or <br>\n",
    "'Michael Jackson' <br>\n",
    "2. *It can be any numbers or spaces or digits or special characters like* <br>\n",
    "\"1 3 2 4 3\" <br>\n",
    "\"@#$%^&*\"<br>"
   ]
  },
  {
   "cell_type": "code",
   "execution_count": 1,
   "id": "c47d21bc-ca83-4d16-a563-73c334133506",
   "metadata": {},
   "outputs": [
    {
     "data": {
      "text/plain": [
       "'M'"
      ]
     },
     "execution_count": 1,
     "metadata": {},
     "output_type": "execute_result"
    }
   ],
   "source": [
    "# Indexing \n",
    "Name = \"Michael Jackson\"\n",
    "Name[0]"
   ]
  },
  {
   "cell_type": "code",
   "execution_count": 2,
   "id": "2b16ff50-fbe1-41dc-81f5-4ff11b028e32",
   "metadata": {},
   "outputs": [
    {
     "data": {
      "text/plain": [
       "'n'"
      ]
     },
     "execution_count": 2,
     "metadata": {},
     "output_type": "execute_result"
    }
   ],
   "source": [
    "# Negitive Indexing\n",
    "Name[-1]"
   ]
  },
  {
   "cell_type": "code",
   "execution_count": 3,
   "id": "d3a0c4fa-4162-46dd-b804-4184224a989e",
   "metadata": {},
   "outputs": [
    {
     "data": {
      "text/plain": [
       "'Mich'"
      ]
     },
     "execution_count": 3,
     "metadata": {},
     "output_type": "execute_result"
    }
   ],
   "source": [
    "# Slicing\n",
    "Name[0:4]"
   ]
  },
  {
   "cell_type": "code",
   "execution_count": 4,
   "id": "c901b98d-9066-4f86-8ef0-52a4144a0c05",
   "metadata": {},
   "outputs": [
    {
     "data": {
      "text/plain": [
       "'McalJcsn'"
      ]
     },
     "execution_count": 4,
     "metadata": {},
     "output_type": "execute_result"
    }
   ],
   "source": [
    "# Every second value in the String\n",
    "Name[::2]"
   ]
  },
  {
   "cell_type": "code",
   "execution_count": 5,
   "id": "c83e6daf-77c5-47fd-9730-bfdf1043757d",
   "metadata": {},
   "outputs": [
    {
     "data": {
      "text/plain": [
       "'Mca'"
      ]
     },
     "execution_count": 5,
     "metadata": {},
     "output_type": "execute_result"
    }
   ],
   "source": [
    "# Every second value upto 5\n",
    "Name[0:5:2]"
   ]
  },
  {
   "cell_type": "code",
   "execution_count": 6,
   "id": "cb931b69-61ec-440f-bf14-46c022334be8",
   "metadata": {},
   "outputs": [
    {
     "data": {
      "text/plain": [
       "15"
      ]
     },
     "execution_count": 6,
     "metadata": {},
     "output_type": "execute_result"
    }
   ],
   "source": [
    "len(Name)"
   ]
  },
  {
   "cell_type": "code",
   "execution_count": 7,
   "id": "78224215-8b10-4ff1-98a0-adbf35013684",
   "metadata": {},
   "outputs": [
    {
     "data": {
      "text/plain": [
       "'Michael JacksenMichael JacksenMichael Jacksen'"
      ]
     },
     "execution_count": 7,
     "metadata": {},
     "output_type": "execute_result"
    }
   ],
   "source": [
    "# Replicating the Strings\n",
    "3* \"Michael Jacksen\""
   ]
  },
  {
   "cell_type": "code",
   "execution_count": 8,
   "id": "c1ed9913-0088-41a7-9e3f-3797c94c3c73",
   "metadata": {},
   "outputs": [
    {
     "data": {
      "text/plain": [
       "'Michael Jackson is a best'"
      ]
     },
     "execution_count": 8,
     "metadata": {},
     "output_type": "execute_result"
    }
   ],
   "source": [
    "# Concatenation\n",
    "Name = Name + \" \" + \"is a best\"\n",
    "Name"
   ]
  },
  {
   "cell_type": "code",
   "execution_count": 9,
   "id": "13300831-d335-40d2-a655-3273143fa4d7",
   "metadata": {},
   "outputs": [
    {
     "name": "stdout",
     "output_type": "stream",
     "text": [
      "Michael Jackson \n",
      "is best\n"
     ]
    }
   ],
   "source": [
    "# Escape Sequences\n",
    "print(\"Michael Jackson \\nis best\")"
   ]
  },
  {
   "cell_type": "code",
   "execution_count": 11,
   "id": "0ea56d55-58b8-4c20-8e6e-8b89be719284",
   "metadata": {},
   "outputs": [
    {
     "data": {
      "text/plain": [
       "'MICHAEL JACKSON IS A BEST'"
      ]
     },
     "execution_count": 11,
     "metadata": {},
     "output_type": "execute_result"
    }
   ],
   "source": [
    "B = Name.upper()\n",
    "B"
   ]
  },
  {
   "cell_type": "code",
   "execution_count": 12,
   "id": "a403b140-2b67-42ab-bb7f-ab3102d85e9e",
   "metadata": {},
   "outputs": [
    {
     "data": {
      "text/plain": [
       "'Michael Jackson is a best'"
      ]
     },
     "execution_count": 12,
     "metadata": {},
     "output_type": "execute_result"
    }
   ],
   "source": [
    "B = Name.replace ('MICHAEL', 'Awais')\n",
    "B"
   ]
  },
  {
   "cell_type": "code",
   "execution_count": 13,
   "id": "331beec9-136d-43a1-82c0-ccc6adc030ef",
   "metadata": {},
   "outputs": [],
   "source": [
    "# find substrings"
   ]
  },
  {
   "cell_type": "code",
   "execution_count": 14,
   "id": "1301b150-56e2-4b59-86a6-ced430de06cb",
   "metadata": {},
   "outputs": [
    {
     "name": "stdout",
     "output_type": "stream",
     "text": [
      "I am Awais Ali. I am 25 year old\n"
     ]
    }
   ],
   "source": [
    "# String interpolation (f-string)\n",
    "name = \"Awais Ali\"\n",
    "age = 25\n",
    "print(f\"I am {name}. I am {age} year old\")"
   ]
  },
  {
   "cell_type": "code",
   "execution_count": 15,
   "id": "23ad088c-c553-4452-9f63-95ef4bc00097",
   "metadata": {},
   "outputs": [
    {
     "name": "stdout",
     "output_type": "stream",
     "text": [
      "I am Awais Ali and I am 25 years old.\n"
     ]
    }
   ],
   "source": [
    "# str.format()\n",
    "print(\"I am {} and I am {} years old.\" .format(name, age))"
   ]
  },
  {
   "cell_type": "markdown",
   "id": "e78e8ba7-7652-45a4-aae7-08f166f83626",
   "metadata": {},
   "source": [
    "%s: This is a placeholder for a string. <br>\n",
    "%d: This is a placeholder for an integer. <br>\n",
    "% (name, age): This is a tuple containing the variables name and age. The values of these variables will replace the placeholders in the string.\n",
    "<br>\n",
    "Each of these methods has its own advantages and use cases. However, f-strings are generally considered the most modern and preferred way to format strings in Python due to their readability and performance."
   ]
  },
  {
   "cell_type": "code",
   "execution_count": 16,
   "id": "d11fe5f9-9e44-4ff6-ae76-eeb610ffcf41",
   "metadata": {},
   "outputs": [
    {
     "name": "stdout",
     "output_type": "stream",
     "text": [
      "My name is Awais Ali and I am 25 years old.\n"
     ]
    }
   ],
   "source": [
    "# % Operator\n",
    "print(\"My name is %s and I am %d years old.\" %(name, age))"
   ]
  },
  {
   "cell_type": "code",
   "execution_count": 17,
   "id": "34ab2d87-c5d5-45ba-866c-0a0e776751ac",
   "metadata": {},
   "outputs": [
    {
     "name": "stdout",
     "output_type": "stream",
     "text": [
      "The sum of x and y is 30\n"
     ]
    }
   ],
   "source": [
    "# Additional capabilities\n",
    "x = 10\n",
    "y = 20\n",
    "print(f\"The sum of x and y is {x+y}\")"
   ]
  },
  {
   "cell_type": "code",
   "execution_count": 18,
   "id": "cf40d473-9b32-4e95-a7eb-ada8c7b77d13",
   "metadata": {},
   "outputs": [
    {
     "name": "stdout",
     "output_type": "stream",
     "text": [
      "Regual String: C:\n",
      "ew_folder\f",
      "ile.txt\n"
     ]
    }
   ],
   "source": [
    "# Raw String(r\")\n",
    "# powerfull tool for handling textual data, like while dealing with\n",
    "# escape cahracters. by using r\" it'll be treated like raw\n",
    "\n",
    "regular_string = \"C:\\new_folder\\file.txt\"\n",
    "print(\"Regual String:\", regular_string)"
   ]
  },
  {
   "cell_type": "code",
   "execution_count": 19,
   "id": "0cf5d323-c022-4637-934f-3ec03463b0f1",
   "metadata": {},
   "outputs": [
    {
     "name": "stdout",
     "output_type": "stream",
     "text": [
      "Regual String: C:\\new_folder\\file.txt\n"
     ]
    }
   ],
   "source": [
    "regular_string = r\"C:\\new_folder\\file.txt\"\n",
    "print(\"Regual String:\", regular_string)"
   ]
  },
  {
   "cell_type": "code",
   "execution_count": 1,
   "id": "ba3f36a2-f9c9-440d-8c3b-fb220d6d796e",
   "metadata": {},
   "outputs": [
    {
     "data": {
      "text/plain": [
       "['The', 'BodyGuard']"
      ]
     },
     "execution_count": 1,
     "metadata": {},
     "output_type": "execute_result"
    }
   ],
   "source": [
    "#Split the substring into list\n",
    "name = \"The BodyGuard\"\n",
    "split_string = (name.split())\n",
    "split_string"
   ]
  },
  {
   "cell_type": "code",
   "execution_count": 2,
   "id": "1cce1fd3-8bd1-46b1-be0c-ee37c970916c",
   "metadata": {},
   "outputs": [
    {
     "data": {
      "text/plain": [
       "['Awais', 'Ali', 'is', 'Studying', 'IBM', 'Data', 'science']"
      ]
     },
     "execution_count": 2,
     "metadata": {},
     "output_type": "execute_result"
    }
   ],
   "source": [
    "a = \"Awais Ali is Studying IBM Data science\"\n",
    "split = (a.split())\n",
    "split"
   ]
  },
  {
   "cell_type": "code",
   "execution_count": 4,
   "id": "dadd439a-fe19-4d7f-8254-06251d0d9116",
   "metadata": {},
   "outputs": [
    {
     "name": "stdout",
     "output_type": "stream",
     "text": [
      "Match found!\n"
     ]
    }
   ],
   "source": [
    "import re\n",
    "s1 = \"The BodyGuard is the best album\"\n",
    "\n",
    "# Define the pattern to search for\n",
    "pattern = r\"Body\"\n",
    "\n",
    "# Use the search() function to search for the pattern in the string\n",
    "result = re.search(pattern, s1)\n",
    "\n",
    "# Check if a match was found\n",
    "if result:\n",
    "    print(\"Match found!\")\n",
    "else:\n",
    "    print(\"Match not found.\")\n"
   ]
  },
  {
   "cell_type": "markdown",
   "id": "de08281f-6f7a-4000-824a-6fbb6f467e70",
   "metadata": {},
   "source": [
    "<h2>Table of Contents</h2>\n",
    "<div class=\"alert alert-block alert-info\" style=\"margin-top: 20px\">\n",
    "    <ul>\n",
    "        <li>\n",
    "            <a href=\"#What-are-Strings?\">What are Strings?</a>\n",
    "        </li>\n",
    "        <li>\n",
    "            <a href=\"#Indexing\">Indexing</a>\n",
    "            <ul>\n",
    "                <li><a href=\"#Negative-Indexing\">Negative Indexing</a></li>\n",
    "                <li><a href=\"#Slicing\">Slicing</a></li>\n",
    "                <li><a href=\"#Stride\">Stride</a></li>\n",
    "                <li><a href=\"#Concatenate-Strings\">Concatenate Strings</a></li>\n",
    "            </ul>\n",
    "        </li>\n",
    "        <li>\n",
    "            <a href=\"#Escape-Sequences\">Escape Sequences</a>\n",
    "        </li>\n",
    "        <li>\n",
    "            <a href=\"#String-Manipulation-Operations\">String Manipulation Operations</a>\n",
    "        </li>\n",
    "        <li>\n",
    "            <a href=\"#Quiz-on-Strings\">Quiz on Strings</a>\n",
    "        </li>\n",
    "    </ul>\n",
    "\n",
    "</div>\n",
    "\n",
    "<hr>\n"
   ]
  },
  {
   "cell_type": "code",
   "execution_count": 14,
   "id": "abe9fc97-2e58-43cc-bea5-31d02b276b7e",
   "metadata": {},
   "outputs": [
    {
     "name": "stdout",
     "output_type": "stream",
     "text": [
      "s Ali\n",
      "Awais\n",
      "This i\n"
     ]
    }
   ],
   "source": [
    "name = \"This is Awais Ali\"\n",
    "name[-5 : -1] #s Ali\n",
    "#Still it is not including the last index\n",
    "print(name[-5:])\n",
    "print(name[-9 : -4]) #Awais\n",
    "print(name[0: 6])"
   ]
  },
  {
   "cell_type": "code",
   "execution_count": 17,
   "id": "da02b3ec-4a8a-4661-9121-d0efdd82ddba",
   "metadata": {},
   "outputs": [
    {
     "name": "stdout",
     "output_type": "stream",
     "text": [
      "14.833333333333334\n"
     ]
    },
    {
     "data": {
      "text/plain": [
       "1"
      ]
     },
     "execution_count": 17,
     "metadata": {},
     "output_type": "execute_result"
    }
   ],
   "source": [
    "num = [4,3,2,53,22,5]\n",
    "average = sum(num)/len(num)\n",
    "print(average)\n",
    "num.count(3)"
   ]
  },
  {
   "cell_type": "markdown",
   "id": "44af373b-2299-4a9a-975d-06b9a5f5bf5b",
   "metadata": {},
   "source": [
    "#### Stride"
   ]
  },
  {
   "cell_type": "code",
   "execution_count": 18,
   "id": "18063c5e-a65f-479a-a508-1417d4e70ace",
   "metadata": {},
   "outputs": [
    {
     "data": {
      "text/plain": [
       "'Ti sAasAi'"
      ]
     },
     "execution_count": 18,
     "metadata": {},
     "output_type": "execute_result"
    }
   ],
   "source": [
    "name[::2] #For every second value"
   ]
  },
  {
   "cell_type": "code",
   "execution_count": 22,
   "id": "4f3fafd1-4da4-47c2-bacc-c68027554b19",
   "metadata": {},
   "outputs": [
    {
     "data": {
      "text/plain": [
       "'Ti s'"
      ]
     },
     "execution_count": 22,
     "metadata": {},
     "output_type": "execute_result"
    }
   ],
   "source": [
    "name[0:7:2]"
   ]
  },
  {
   "cell_type": "code",
   "execution_count": 23,
   "id": "07415af7-20c3-4efa-96b8-3b16e0e73229",
   "metadata": {},
   "outputs": [
    {
     "data": {
      "text/plain": [
       "'This is Awais Ali.'"
      ]
     },
     "execution_count": 23,
     "metadata": {},
     "output_type": "execute_result"
    }
   ],
   "source": [
    "name = name + '.'\n",
    "name"
   ]
  },
  {
   "cell_type": "code",
   "execution_count": 24,
   "id": "6e19f026-bd19-441c-9baf-b5d61a4235af",
   "metadata": {},
   "outputs": [
    {
     "name": "stdout",
     "output_type": "stream",
     "text": [
      "This is man of words. \n",
      "He works according to what he is supposed to do.\n"
     ]
    }
   ],
   "source": [
    "# Escape Sequences\n",
    "# \\n\n",
    "print(\"This is man of words. \\nHe works according to what he is supposed to do.\")"
   ]
  },
  {
   "cell_type": "code",
   "execution_count": 25,
   "id": "9391c10a-c98b-4c81-a65b-1c7cc193e3aa",
   "metadata": {},
   "outputs": [
    {
     "name": "stdout",
     "output_type": "stream",
     "text": [
      "Name: \tAwais \n",
      "Roll No. \t60173\n"
     ]
    }
   ],
   "source": [
    "print(\"Name: \\tAwais \\nRoll No. \\t60173\")"
   ]
  },
  {
   "cell_type": "code",
   "execution_count": 26,
   "id": "50f1e639-3724-426b-af41-532fd46064d6",
   "metadata": {},
   "outputs": [
    {
     "name": "stdout",
     "output_type": "stream",
     "text": [
      "Things require a lot time \\ with dedication\n"
     ]
    }
   ],
   "source": [
    "print('Things require a lot time \\\\ with dedication')"
   ]
  },
  {
   "cell_type": "code",
   "execution_count": 27,
   "id": "de9053e3-c365-42b0-9d12-8b6cc9b8629c",
   "metadata": {},
   "outputs": [
    {
     "name": "stdout",
     "output_type": "stream",
     "text": [
      "Do whatever it need to \\ to be succeed\n"
     ]
    }
   ],
   "source": [
    "print(r'Do whatever it need to \\ to be succeed')"
   ]
  },
  {
   "cell_type": "code",
   "execution_count": 28,
   "id": "21f61fae-68ef-4da3-9590-e1c85f904989",
   "metadata": {},
   "outputs": [
    {
     "name": "stdout",
     "output_type": "stream",
     "text": [
      "working on \\ different thibgs\n"
     ]
    }
   ],
   "source": [
    "print(\"working on \\ different thibgs\")"
   ]
  },
  {
   "cell_type": "code",
   "execution_count": 29,
   "id": "92ea9be6-45de-43bf-991d-149a062c074a",
   "metadata": {},
   "outputs": [
    {
     "data": {
      "text/plain": [
       "'THIS IS AWAIS ALI.'"
      ]
     },
     "execution_count": 29,
     "metadata": {},
     "output_type": "execute_result"
    }
   ],
   "source": [
    "name.upper()"
   ]
  },
  {
   "cell_type": "code",
   "execution_count": 30,
   "id": "6eb84ce1-79f9-422a-b01f-3e62e81bef80",
   "metadata": {},
   "outputs": [
    {
     "data": {
      "text/plain": [
       "'this is awais ali.'"
      ]
     },
     "execution_count": 30,
     "metadata": {},
     "output_type": "execute_result"
    }
   ],
   "source": [
    "name.lower()"
   ]
  },
  {
   "cell_type": "code",
   "execution_count": 31,
   "id": "ebe0dd22-14d9-4039-8626-8483d0e3eb38",
   "metadata": {},
   "outputs": [
    {
     "name": "stdout",
     "output_type": "stream",
     "text": [
      "before upper: Thriller is the sixth studio album\n",
      "After upper: THRILLER IS THE SIXTH STUDIO ALBUM\n"
     ]
    }
   ],
   "source": [
    "# Convert all the characters in string to upper case\n",
    "\n",
    "a = \"Thriller is the sixth studio album\"\n",
    "print(\"before upper:\", a)\n",
    "b = a.upper()\n",
    "print(\"After upper:\", b)"
   ]
  },
  {
   "cell_type": "code",
   "execution_count": 34,
   "id": "bc9d004d-9ec4-4144-937a-300838e661fa",
   "metadata": {},
   "outputs": [
    {
     "name": "stdout",
     "output_type": "stream",
     "text": [
      "This is Awaisss Ali.\n"
     ]
    }
   ],
   "source": [
    "a = name.replace('Awais', 'Awaisss')\n",
    "print(a)"
   ]
  },
  {
   "cell_type": "code",
   "execution_count": 35,
   "id": "89545d5f-26a1-4771-b3d0-31420e9b90ec",
   "metadata": {},
   "outputs": [
    {
     "data": {
      "text/plain": [
       "8"
      ]
     },
     "execution_count": 35,
     "metadata": {},
     "output_type": "execute_result"
    }
   ],
   "source": [
    "name.find(\"Awais\")"
   ]
  },
  {
   "cell_type": "code",
   "execution_count": 40,
   "id": "0232a789-f5e8-4fde-93c4-b3f1d5f53857",
   "metadata": {},
   "outputs": [
    {
     "data": {
      "text/plain": [
       "['The', 'BodyGuard']"
      ]
     },
     "execution_count": 40,
     "metadata": {},
     "output_type": "execute_result"
    }
   ],
   "source": [
    "#Split the substring into list\n",
    "name = \"The BodyGuard\"\n",
    "split_string = (name.split())\n",
    "split_string"
   ]
  },
  {
   "cell_type": "markdown",
   "id": "8e28d546-10dd-4d15-8e06-522277e42493",
   "metadata": {},
   "source": [
    "### RegEx"
   ]
  },
  {
   "cell_type": "markdown",
   "id": "2e8b1747-ef03-45d2-9e00-578ffce8cb1e",
   "metadata": {},
   "source": [
    "In Python, RegEx (short for Regular Expression) is a tool for matching and handling strings.\n",
    "<br>\n",
    "This RegEx module provides several functions for working with regular expressions, including **search, split, findall, and sub**.\n",
    "<br>\n",
    "Python provides a built-in module called re, which allows you to work with regular expressions. First, import the re module"
   ]
  },
  {
   "cell_type": "code",
   "execution_count": 43,
   "id": "1bcae2cb-6b5f-47e9-bd61-5990da00906c",
   "metadata": {},
   "outputs": [
    {
     "name": "stdout",
     "output_type": "stream",
     "text": [
      "<re.Match object; span=(8, 13), match='Awais'>\n"
     ]
    }
   ],
   "source": [
    "import re\n",
    "s1 = \"This is Awais Ali.\"\n",
    "pattern = r\"Awais\"\n",
    "result = re.search(pattern, s1)\n",
    "print(result)"
   ]
  },
  {
   "cell_type": "code",
   "execution_count": 44,
   "id": "c04a29bc-7a17-4286-8d8c-93a1dd447de9",
   "metadata": {},
   "outputs": [
    {
     "data": {
      "text/plain": [
       "'Awais'"
      ]
     },
     "execution_count": 44,
     "metadata": {},
     "output_type": "execute_result"
    }
   ],
   "source": [
    "s1[8:13]"
   ]
  },
  {
   "cell_type": "code",
   "execution_count": 47,
   "id": "64be40ee-e4b5-4ab5-8ac3-24ab0decd6ef",
   "metadata": {},
   "outputs": [
    {
     "data": {
      "text/plain": [
       "<re.Match object; span=(24, 28), match='work'>"
      ]
     },
     "execution_count": 47,
     "metadata": {},
     "output_type": "execute_result"
    }
   ],
   "source": [
    "rLine = \"This is what we need to work on. Once work I will finish working on the problem it'll enhance the foundational knowldge\"\n",
    "\n",
    "find = r\"work\"\n",
    "re.search(find, rLine)"
   ]
  },
  {
   "cell_type": "code",
   "execution_count": 49,
   "id": "9448f4a6-f1ed-49d7-a589-49d31a1aca12",
   "metadata": {},
   "outputs": [
    {
     "ename": "AttributeError",
     "evalue": "module 're' has no attribute 'count'",
     "output_type": "error",
     "traceback": [
      "\u001b[1;31m---------------------------------------------------------------------------\u001b[0m",
      "\u001b[1;31mAttributeError\u001b[0m                            Traceback (most recent call last)",
      "Cell \u001b[1;32mIn[49], line 2\u001b[0m\n\u001b[0;32m      1\u001b[0m \u001b[38;5;28;01mimport\u001b[39;00m\u001b[38;5;250m \u001b[39m\u001b[38;5;21;01mre\u001b[39;00m\n\u001b[1;32m----> 2\u001b[0m re\u001b[38;5;241m.\u001b[39mcount(find, rLine)\n",
      "\u001b[1;31mAttributeError\u001b[0m: module 're' has no attribute 'count'"
     ]
    }
   ],
   "source": [
    "import re\n",
    "re.count(find, rLine)"
   ]
  },
  {
   "cell_type": "code",
   "execution_count": 54,
   "id": "30ea4d4b-747c-4934-b490-223a7ce39854",
   "metadata": {},
   "outputs": [
    {
     "name": "stdout",
     "output_type": "stream",
     "text": [
      "False\n"
     ]
    }
   ],
   "source": [
    "s2 = \"Let's start working on a project\"\n",
    "\n",
    "find = \"projectt\"\n",
    "result = re.search(find, s2)\n",
    "if result:\n",
    "    print(\"True\")\n",
    "else: \n",
    "    print(\"False\")\n",
    "    \n"
   ]
  },
  {
   "cell_type": "code",
   "execution_count": 55,
   "id": "8d58c018-2afd-4662-934f-94bbff26d4cc",
   "metadata": {},
   "outputs": [
    {
     "name": "stdout",
     "output_type": "stream",
     "text": [
      "True\n"
     ]
    }
   ],
   "source": [
    "s3 = \"This another way of testing\"\n",
    "search = \"testing\"\n",
    "if re.search(search, s3):\n",
    "    print(\"True\")\n",
    "else:\n",
    "    print(\"False\")"
   ]
  },
  {
   "cell_type": "code",
   "execution_count": 60,
   "id": "fd272d5d-9a1c-4985-9e03-e7df12ab58ce",
   "metadata": {},
   "outputs": [
    {
     "data": {
      "text/plain": [
       "<re.Match object; span=(19, 30), match='03222222222'>"
      ]
     },
     "execution_count": 60,
     "metadata": {},
     "output_type": "execute_result"
    }
   ],
   "source": [
    "pattern = r\"\\d\\d\\d\\d\\d\\d\\d\\d\\d\\d\\d\" # Matches any 11 consecutive digits\n",
    "number = \"My phone number is 03222222222\"\n",
    "\n",
    "result = re.search(pattern, number)\n",
    "result"
   ]
  },
  {
   "cell_type": "code",
   "execution_count": 64,
   "id": "1ebf57a4-aaa9-454a-922f-2c0633545451",
   "metadata": {},
   "outputs": [
    {
     "name": "stdout",
     "output_type": "stream",
     "text": [
      "Matches: [',', ' ', '!']\n"
     ]
    }
   ],
   "source": [
    "pattern = r\"\\W\"  # Matches any non-word character\n",
    "text = \"Hello, world!\"\n",
    "matches = re.findall(pattern, text)\n",
    "\n",
    "print(\"Matches:\", matches)"
   ]
  },
  {
   "cell_type": "code",
   "execution_count": 65,
   "id": "93ed2f2f-8f57-4733-ac2d-b4b51015f356",
   "metadata": {},
   "outputs": [
    {
     "name": "stdout",
     "output_type": "stream",
     "text": [
      "['st', 'st']\n"
     ]
    }
   ],
   "source": [
    "s2 = \"The BodyGuard is the best album of 'Whitney Houston'.\"\n",
    "\n",
    "\n",
    "# Use the findall() function to find all occurrences of the \"st\" in the string\n",
    "result = re.findall(\"st\", s2)\n",
    "\n",
    "# Print out the list of matched words\n",
    "print(result)\n"
   ]
  },
  {
   "cell_type": "code",
   "execution_count": 66,
   "id": "4e2c0496-f5f0-460c-b53c-cb25204bafa6",
   "metadata": {},
   "outputs": [
    {
     "name": "stdout",
     "output_type": "stream",
     "text": [
      "['The', 'BodyGuard', 'is', 'the', 'best', 'album', 'of', \"'Whitney\", \"Houston'.\"]\n"
     ]
    }
   ],
   "source": [
    "# Use the split function to split the string by the \"\\s\"\n",
    "split_array = re.split(r\"\\s\", s2)\n",
    "\n",
    "# The split_array contains all the substrings, split by whitespace characters\n",
    "print(split_array)"
   ]
  },
  {
   "cell_type": "code",
   "execution_count": null,
   "id": "a89e218f-be18-4312-9e9e-b728053f3a4f",
   "metadata": {},
   "outputs": [],
   "source": []
  }
 ],
 "metadata": {
  "kernelspec": {
   "display_name": "Python 3 (ipykernel)",
   "language": "python",
   "name": "python3"
  },
  "language_info": {
   "codemirror_mode": {
    "name": "ipython",
    "version": 3
   },
   "file_extension": ".py",
   "mimetype": "text/x-python",
   "name": "python",
   "nbconvert_exporter": "python",
   "pygments_lexer": "ipython3",
   "version": "3.13.5"
  }
 },
 "nbformat": 4,
 "nbformat_minor": 5
}
