{
 "cells": [
  {
   "cell_type": "markdown",
   "id": "897c341f-15b0-4dc5-93ef-a49c00b70bf4",
   "metadata": {},
   "source": [
    "### Read File with open"
   ]
  },
  {
   "cell_type": "code",
   "execution_count": 3,
   "id": "8d6d5f81-5672-40fb-9cfd-ce5a6cbeac83",
   "metadata": {},
   "outputs": [],
   "source": [
    "file = open('Sample.txt', 'w')\n",
    "file.close()"
   ]
  },
  {
   "cell_type": "code",
   "execution_count": 5,
   "id": "6e940d9a-3c7f-4721-8e32-9cee30b9b859",
   "metadata": {},
   "outputs": [],
   "source": [
    "with open('sample.txt', 'w') as file:\n",
    "    file.write(\"Hi this is Awais Ali. \\nI am learning Python. \\nI also want to work in a software house\")"
   ]
  },
  {
   "cell_type": "code",
   "execution_count": 6,
   "id": "6b3ba13d-a803-4af3-8b70-66a9b35a9d14",
   "metadata": {},
   "outputs": [],
   "source": [
    "file.close()"
   ]
  },
  {
   "cell_type": "code",
   "execution_count": 7,
   "id": "5e6099b7-a52e-4ecf-be70-bcb2ecbc5c0f",
   "metadata": {},
   "outputs": [
    {
     "name": "stdout",
     "output_type": "stream",
     "text": [
      "Hi this is Awais Ali. \n",
      "I am learning Python. \n",
      "I also want to work in a software house\n"
     ]
    }
   ],
   "source": [
    "with open('sample.txt', 'r') as file:\n",
    "    data = file.read()\n",
    "    print(data)"
   ]
  },
  {
   "cell_type": "code",
   "execution_count": 8,
   "id": "fd6ae92e-c349-4977-9a2a-152b6e7b0a2a",
   "metadata": {},
   "outputs": [
    {
     "name": "stdout",
     "output_type": "stream",
     "text": [
      "Hi this is Awais Ali. \n",
      "I am learning Python. \n",
      "I also want to work in a software house\n"
     ]
    }
   ],
   "source": [
    "print(data)"
   ]
  },
  {
   "cell_type": "code",
   "execution_count": 9,
   "id": "d29659df-74b1-4ca6-866b-1844eb3fcd06",
   "metadata": {},
   "outputs": [
    {
     "data": {
      "text/plain": [
       "'Hi this is Awais Ali. \\nI am learning Python. \\nI also want to work in a software house'"
      ]
     },
     "execution_count": 9,
     "metadata": {},
     "output_type": "execute_result"
    }
   ],
   "source": [
    "data"
   ]
  },
  {
   "cell_type": "code",
   "execution_count": 11,
   "id": "808cd996-40c1-4274-80ff-4807e106caba",
   "metadata": {},
   "outputs": [
    {
     "data": {
      "text/plain": [
       "'sample.txt'"
      ]
     },
     "execution_count": 11,
     "metadata": {},
     "output_type": "execute_result"
    }
   ],
   "source": [
    "file.name"
   ]
  },
  {
   "cell_type": "code",
   "execution_count": 12,
   "id": "3f6aa102-ddad-45b0-a399-e1604bfb342f",
   "metadata": {},
   "outputs": [
    {
     "data": {
      "text/plain": [
       "'r'"
      ]
     },
     "execution_count": 12,
     "metadata": {},
     "output_type": "execute_result"
    }
   ],
   "source": [
    "file.mode"
   ]
  },
  {
   "cell_type": "code",
   "execution_count": 13,
   "id": "4d206796-bc00-400c-8ace-c22646bf806b",
   "metadata": {},
   "outputs": [
    {
     "name": "stdout",
     "output_type": "stream",
     "text": [
      "Hi this is Awais Ali. \n",
      "I am learning Python. \n",
      "I also want to work in a software house\n",
      "None\n",
      "Hi this is Awais Ali. \n",
      "I am learning Python. \n",
      "I also want to work in a software house\n"
     ]
    }
   ],
   "source": [
    "#with open file automatically close\n",
    "with open('sample.txt', 'r') as file:\n",
    "    file_stuff = file.read()\n",
    "    print(file_stuff)\n",
    "print(file.close())\n",
    "print(file_stuff)"
   ]
  },
  {
   "cell_type": "code",
   "execution_count": 14,
   "id": "ce4c942b-ba7d-4682-a0ea-529cb57edfbb",
   "metadata": {},
   "outputs": [
    {
     "name": "stdout",
     "output_type": "stream",
     "text": [
      "Hi this is Awais Ali. \n",
      "I am learning Python. \n",
      "I also want to work in a software house\n"
     ]
    }
   ],
   "source": [
    "print(file_stuff)"
   ]
  },
  {
   "cell_type": "code",
   "execution_count": 15,
   "id": "7957f443-9ce8-4529-bc1b-c26947545749",
   "metadata": {},
   "outputs": [
    {
     "name": "stdout",
     "output_type": "stream",
     "text": [
      "True\n"
     ]
    }
   ],
   "source": [
    "print(file.closed)"
   ]
  },
  {
   "cell_type": "code",
   "execution_count": 16,
   "id": "882d347f-8a4f-430d-9969-728e17750cd5",
   "metadata": {},
   "outputs": [
    {
     "name": "stdout",
     "output_type": "stream",
     "text": [
      "None\n"
     ]
    }
   ],
   "source": [
    "print(file.close())"
   ]
  },
  {
   "cell_type": "code",
   "execution_count": 17,
   "id": "ce4357a0-071c-4cec-8873-1375c5046ded",
   "metadata": {},
   "outputs": [
    {
     "name": "stdout",
     "output_type": "stream",
     "text": [
      "Hi this is Awais Ali. \n",
      "I am learning Python. \n",
      "I also want to work in a software house\n"
     ]
    }
   ],
   "source": [
    "print(file_stuff)"
   ]
  },
  {
   "cell_type": "code",
   "execution_count": 26,
   "id": "abd71ec4-1949-4dfb-ba37-90049d0d1bd6",
   "metadata": {},
   "outputs": [
    {
     "name": "stdout",
     "output_type": "stream",
     "text": [
      "Hi t\n",
      "his is A\n",
      "wais Ali. \n",
      "\n",
      "I am learning Python. \n",
      "\n",
      "I also want to work in a software house\n"
     ]
    }
   ],
   "source": [
    "with open('sample.txt', 'r') as file:\n",
    "    file_stuff = file.readline(4)\n",
    "    print(file_stuff)\n",
    "    file_stuff = file.readline(8)\n",
    "    print(file_stuff)\n",
    "    file_stuff = file.readline(18)\n",
    "    print(file_stuff)\n",
    "    for line in file:\n",
    "        print(line)"
   ]
  },
  {
   "cell_type": "code",
   "execution_count": 25,
   "id": "3af4cc06-a66a-47a6-9426-b302c0941383",
   "metadata": {},
   "outputs": [
    {
     "name": "stdout",
     "output_type": "stream",
     "text": [
      "Hi this is Awais Ali. \n",
      "\n",
      "I am learning Python. \n",
      "\n",
      "I also want to work in a software house\n"
     ]
    }
   ],
   "source": [
    "with open('sample.txt', 'r') as file:\n",
    "    for line in file:\n",
    "        print(line)"
   ]
  },
  {
   "cell_type": "code",
   "execution_count": 28,
   "id": "606753d3-1ad4-431c-93c3-d9be977b1dea",
   "metadata": {},
   "outputs": [
    {
     "name": "stdout",
     "output_type": "stream",
     "text": [
      "Available\n"
     ]
    }
   ],
   "source": [
    "with open('sample.txt', 'r') as file:\n",
    "    line1 = file.readline()\n",
    "    line2 = file.readline()\n",
    "    line3 = file.readline()\n",
    "    if 'Awais' in line1:\n",
    "        print(\"Available\")"
   ]
  },
  {
   "cell_type": "code",
   "execution_count": 29,
   "id": "4ac65574-c72c-4018-9625-6f9efa89806a",
   "metadata": {},
   "outputs": [
    {
     "name": "stdout",
     "output_type": "stream",
     "text": [
      "Availble\n"
     ]
    }
   ],
   "source": [
    "if 'learning' in line2:\n",
    "    print(\"Availble\")"
   ]
  },
  {
   "cell_type": "code",
   "execution_count": 30,
   "id": "e3da20a7-0c18-4153-9cf9-21cd9d3680cf",
   "metadata": {},
   "outputs": [
    {
     "name": "stdout",
     "output_type": "stream",
     "text": [
      "Not availbe\n"
     ]
    }
   ],
   "source": [
    "if 'sss' in line3:\n",
    "    print('Avaible')\n",
    "else: \n",
    "    print(\"Not availbe\")"
   ]
  },
  {
   "cell_type": "markdown",
   "id": "13d0043a-46db-4a2e-812a-091612afb059",
   "metadata": {},
   "source": [
    "Looping through lines: Typically, you use a loop to read lines until no more lines are left. t's like reading the entire book, line by line."
   ]
  },
  {
   "cell_type": "code",
   "execution_count": 34,
   "id": "eec72e1f-7978-4f26-be88-d43256d7046a",
   "metadata": {},
   "outputs": [
    {
     "data": {
      "text/plain": [
       "10"
      ]
     },
     "execution_count": 34,
     "metadata": {},
     "output_type": "execute_result"
    }
   ],
   "source": [
    "file = open('sample.txt', 'r')\n",
    "file.seek(10)"
   ]
  },
  {
   "cell_type": "code",
   "execution_count": 35,
   "id": "086ff688-c9a0-48f7-8baa-653ed7d543fa",
   "metadata": {},
   "outputs": [
    {
     "data": {
      "text/plain": [
       "' Awai'"
      ]
     },
     "execution_count": 35,
     "metadata": {},
     "output_type": "execute_result"
    }
   ],
   "source": [
    "file.read(5)"
   ]
  },
  {
   "cell_type": "code",
   "execution_count": 36,
   "id": "81c36556-c74a-402f-b9f0-8b8eb435b01e",
   "metadata": {},
   "outputs": [
    {
     "name": "stderr",
     "output_type": "stream",
     "text": [
      "'wget' is not recognized as an internal or external command,\n",
      "operable program or batch file.\n"
     ]
    }
   ],
   "source": [
    "# Uncomment these if working locally, else let the following code cell run.\n",
    "\n",
    "import urllib.request\n",
    "url = 'https://cf-courses-data.s3.us.cloud-object-storage.appdomain.cloud/IBMDeveloperSkillsNetwork-PY0101EN-SkillsNetwork/labs/Module%204/data/example1.txt'\n",
    "filename = 'Example1.txt'\n",
    "urllib.request.urlretrieve(url, filename)\n",
    "\n",
    "# Download Example file\n",
    "!wget Example1.txt https://cf-courses-data.s3.us.cloud-object-storage.appdomain.cloud/IBMDeveloperSkillsNetwork-PY0101EN-SkillsNetwork/labs/Module%204/data/example1.txt"
   ]
  },
  {
   "cell_type": "code",
   "execution_count": 37,
   "id": "947f15c5-dee7-46e4-bf83-ed1416e52a0b",
   "metadata": {},
   "outputs": [
    {
     "ename": "ModuleNotFoundError",
     "evalue": "No module named 'pyodide'",
     "output_type": "error",
     "traceback": [
      "\u001b[1;31m---------------------------------------------------------------------------\u001b[0m",
      "\u001b[1;31mModuleNotFoundError\u001b[0m                       Traceback (most recent call last)",
      "Cell \u001b[1;32mIn[37], line 1\u001b[0m\n\u001b[1;32m----> 1\u001b[0m \u001b[38;5;28;01mfrom\u001b[39;00m\u001b[38;5;250m \u001b[39m\u001b[38;5;21;01mpyodide\u001b[39;00m\u001b[38;5;21;01m.\u001b[39;00m\u001b[38;5;21;01mhttp\u001b[39;00m\u001b[38;5;250m \u001b[39m\u001b[38;5;28;01mimport\u001b[39;00m pyfetch\n\u001b[0;32m      3\u001b[0m \u001b[38;5;28;01mimport\u001b[39;00m\u001b[38;5;250m \u001b[39m\u001b[38;5;21;01mpandas\u001b[39;00m\u001b[38;5;250m \u001b[39m\u001b[38;5;28;01mas\u001b[39;00m\u001b[38;5;250m \u001b[39m\u001b[38;5;21;01mpd\u001b[39;00m\n\u001b[0;32m      5\u001b[0m filename \u001b[38;5;241m=\u001b[39m \u001b[38;5;124m\"\u001b[39m\u001b[38;5;124mhttps://cf-courses-data.s3.us.cloud-object-storage.appdomain.cloud/IBMDeveloperSkillsNetwork-PY0101EN-SkillsNetwork/labs/Module\u001b[39m\u001b[38;5;124m%\u001b[39m\u001b[38;5;124m204/data/example1.txt\u001b[39m\u001b[38;5;124m\"\u001b[39m\n",
      "\u001b[1;31mModuleNotFoundError\u001b[0m: No module named 'pyodide'"
     ]
    }
   ],
   "source": [
    "from pyodide.http import pyfetch\n",
    "\n",
    "import pandas as pd\n",
    "\n",
    "filename = \"https://cf-courses-data.s3.us.cloud-object-storage.appdomain.cloud/IBMDeveloperSkillsNetwork-PY0101EN-SkillsNetwork/labs/Module%204/data/example1.txt\"\n",
    "\n",
    "async def download(url, filename):\n",
    "\n",
    "    response = await pyfetch(url)\n",
    "\n",
    "    if response.status == 200:\n",
    "\n",
    "        with open(filename, \"wb\") as f:\n",
    "\n",
    "            f.write(await response.bytes())\n",
    "\n",
    "await download(filename, \"example1.txt\")\n",
    "\n",
    "print(\"done\")\n"
   ]
  },
  {
   "cell_type": "code",
   "execution_count": 39,
   "id": "e685d12f-89fa-4890-b9fa-d708f83d1ec0",
   "metadata": {},
   "outputs": [
    {
     "name": "stdout",
     "output_type": "stream",
     "text": [
      "Iteration 0 :  Hi this is Awais Ali. \n",
      "\n",
      "Iteration 1 :  I am learning Python. \n",
      "\n",
      "Iteration 2 :  I also want to work in a software house\n"
     ]
    }
   ],
   "source": [
    "with open('sample.txt', 'r') as file:\n",
    "    i = 0;\n",
    "    for line in file:\n",
    "        print(\"Iteration\", (i), \": \", line)\n",
    "        i += 1"
   ]
  },
  {
   "cell_type": "code",
   "execution_count": 40,
   "id": "c0bf6d03-c3fd-4a90-9032-d40d7684f1e1",
   "metadata": {},
   "outputs": [
    {
     "name": "stdout",
     "output_type": "stream",
     "text": [
      "['Hi this is Awais Ali. \\n', 'I am learning Python. \\n', 'I also want to work in a software house']\n"
     ]
    }
   ],
   "source": [
    "with open('sample.txt', 'r') as file:\n",
    "    fileAsList = file.readlines()\n",
    "    print(fileAsList)"
   ]
  },
  {
   "cell_type": "code",
   "execution_count": 42,
   "id": "4a834f37-618e-448f-b429-5bf78c060226",
   "metadata": {},
   "outputs": [
    {
     "data": {
      "text/plain": [
       "'I am learning Python. \\n'"
      ]
     },
     "execution_count": 42,
     "metadata": {},
     "output_type": "execute_result"
    }
   ],
   "source": [
    "fileAsList[1]"
   ]
  },
  {
   "cell_type": "markdown",
   "id": "2fe88a60-b801-485a-8d62-ec49019cfe3d",
   "metadata": {},
   "source": [
    "### Writing file with Open"
   ]
  },
  {
   "cell_type": "code",
   "execution_count": 44,
   "id": "254cb6b3-af23-46f6-80a9-0b14673d77b9",
   "metadata": {},
   "outputs": [],
   "source": [
    "with open('sample.txt', 'a') as file:\n",
    "    file.write(\"This is New line \\nthis is second new line \\nThis is third new line\")"
   ]
  },
  {
   "cell_type": "code",
   "execution_count": 46,
   "id": "62bde673-2f75-44af-a504-5b474cddd2c1",
   "metadata": {},
   "outputs": [
    {
     "name": "stdout",
     "output_type": "stream",
     "text": [
      "Hi this is Awais Ali. \n",
      "I am learning Python. \n",
      "I also want to work in a software houseThis is New line \n",
      "this is second new line \n",
      "This is third new lineThis is New line \n",
      "this is second new line \n",
      "This is third new line\n"
     ]
    }
   ],
   "source": [
    "with open('sample.txt', 'r') as file:\n",
    "    read = file.read()\n",
    "    print(read)"
   ]
  },
  {
   "cell_type": "code",
   "execution_count": 47,
   "id": "8c3fc010-8c7a-4a0e-9325-55358a4f6627",
   "metadata": {},
   "outputs": [],
   "source": [
    "Lines = [\"I am adding a list. \\nThird line is added\"]\n",
    "with open('sample.txt', 'w') as file:\n",
    "    for line in Lines:\n",
    "        file.write(line)"
   ]
  },
  {
   "cell_type": "code",
   "execution_count": 48,
   "id": "63b16314-f6b6-403a-981d-aa3b91c39b55",
   "metadata": {},
   "outputs": [
    {
     "name": "stdout",
     "output_type": "stream",
     "text": [
      "I am adding a list. \n",
      "Third line is added\n"
     ]
    }
   ],
   "source": [
    "with open('sample.txt', 'r') as file:\n",
    "    read = file.read()\n",
    "    print(read)"
   ]
  },
  {
   "cell_type": "code",
   "execution_count": 49,
   "id": "edad5e8f-97d9-409a-b7fc-09ebd5f0e055",
   "metadata": {},
   "outputs": [],
   "source": [
    "with open('sample.txt', 'r') as readfile:\n",
    "    with open('sample2.txt', 'w') as writefile:\n",
    "        for line in readfile:\n",
    "            writefile.write(line)\n",
    "        "
   ]
  },
  {
   "cell_type": "code",
   "execution_count": 50,
   "id": "afee31a7-5cf9-47e8-b7a3-ac31bee9bd87",
   "metadata": {},
   "outputs": [
    {
     "name": "stdout",
     "output_type": "stream",
     "text": [
      "I am adding a list. \n",
      "Third line is added\n"
     ]
    }
   ],
   "source": [
    "with open('sample2.txt', 'r') as file:\n",
    "    read = file.read()\n",
    "    print(read)"
   ]
  },
  {
   "cell_type": "code",
   "execution_count": 53,
   "id": "6e318de2-8579-4138-8cc4-98320c2791a5",
   "metadata": {},
   "outputs": [
    {
     "ename": "UnsupportedOperation",
     "evalue": "not readable",
     "output_type": "error",
     "traceback": [
      "\u001b[1;31m---------------------------------------------------------------------------\u001b[0m",
      "\u001b[1;31mUnsupportedOperation\u001b[0m                      Traceback (most recent call last)",
      "Cell \u001b[1;32mIn[53], line 5\u001b[0m\n\u001b[0;32m      3\u001b[0m \u001b[38;5;28;01mfor\u001b[39;00m line \u001b[38;5;129;01min\u001b[39;00m Lines:\n\u001b[0;32m      4\u001b[0m     file2\u001b[38;5;241m.\u001b[39mwrite(line \u001b[38;5;241m+\u001b[39m \u001b[38;5;124m\"\u001b[39m\u001b[38;5;130;01m\\n\u001b[39;00m\u001b[38;5;124m\"\u001b[39m)\n\u001b[1;32m----> 5\u001b[0m     file2\u001b[38;5;241m.\u001b[39mread()\n",
      "\u001b[1;31mUnsupportedOperation\u001b[0m: not readable"
     ]
    }
   ],
   "source": [
    "Lines = ['This is line1', 'This is line2', 'This']\n",
    "with open('sample3.txt', 'w') as file2:\n",
    "    for line in Lines:\n",
    "        file2.write(line + \"\\n\")\n",
    "        file2.read()"
   ]
  },
  {
   "cell_type": "code",
   "execution_count": 52,
   "id": "2426aa89-2726-448e-ac67-b934368837c0",
   "metadata": {},
   "outputs": [
    {
     "ename": "ValueError",
     "evalue": "I/O operation on closed file.",
     "output_type": "error",
     "traceback": [
      "\u001b[1;31m---------------------------------------------------------------------------\u001b[0m",
      "\u001b[1;31mValueError\u001b[0m                                Traceback (most recent call last)",
      "Cell \u001b[1;32mIn[52], line 1\u001b[0m\n\u001b[1;32m----> 1\u001b[0m file2\u001b[38;5;241m.\u001b[39mread()\n",
      "\u001b[1;31mValueError\u001b[0m: I/O operation on closed file."
     ]
    }
   ],
   "source": [
    "file2.read()"
   ]
  },
  {
   "cell_type": "code",
   "execution_count": 55,
   "id": "1b4ff3c7-4ef2-4e51-be9b-25658fda4e6d",
   "metadata": {},
   "outputs": [],
   "source": [
    "# Write line to file\n",
    "exmp2 = 'Example2.txt'\n",
    "with open(exmp2, 'w') as writefile:\n",
    "    writefile.write(\"This a line A\")"
   ]
  },
  {
   "cell_type": "code",
   "execution_count": 56,
   "id": "8432fc00-4d53-4cef-beae-5466747387e5",
   "metadata": {},
   "outputs": [],
   "source": [
    "with open(exmp2, 'r') as readfile:\n",
    "    stuff = readfile.read()"
   ]
  },
  {
   "cell_type": "code",
   "execution_count": 57,
   "id": "e7808c51-bbba-48b7-992d-9afeb003652a",
   "metadata": {},
   "outputs": [
    {
     "name": "stdout",
     "output_type": "stream",
     "text": [
      "This a line A\n"
     ]
    }
   ],
   "source": [
    "print(stuff)"
   ]
  },
  {
   "cell_type": "code",
   "execution_count": 58,
   "id": "f4b9ee3c-91ca-41aa-ab6b-2f1f7166f8b9",
   "metadata": {},
   "outputs": [],
   "source": [
    "with open (exmp2, 'w') as writefile:\n",
    "    writefile.write(\"This is line A\\n\")\n",
    "    writefile.write(\"This is line B\\n\")\n",
    "    "
   ]
  },
  {
   "cell_type": "code",
   "execution_count": 60,
   "id": "d65d8bb5-cc30-4447-806e-576c652a9d3c",
   "metadata": {},
   "outputs": [],
   "source": [
    "with open (exmp2, 'r') as readfile:\n",
    "    data = readfile.read()"
   ]
  },
  {
   "cell_type": "code",
   "execution_count": 61,
   "id": "6ee767d3-e005-4d65-a849-2dcddcf3fd5f",
   "metadata": {},
   "outputs": [
    {
     "name": "stdout",
     "output_type": "stream",
     "text": [
      "This is line A\n",
      "This is line B\n",
      "\n"
     ]
    }
   ],
   "source": [
    "print(data)"
   ]
  },
  {
   "cell_type": "code",
   "execution_count": 62,
   "id": "1c3bc34a-5ade-447a-85d7-78555550d6e3",
   "metadata": {},
   "outputs": [],
   "source": [
    "# Sample list of text\n",
    "Lines = ['I am learning Python \\n', 'It very interesting \\n', 'I am learning from IBM']"
   ]
  },
  {
   "cell_type": "code",
   "execution_count": 63,
   "id": "1039a2bb-4227-403f-8788-6588d6fc472c",
   "metadata": {},
   "outputs": [
    {
     "name": "stdout",
     "output_type": "stream",
     "text": [
      "I am learning Python \n",
      "\n",
      "It very interesting \n",
      "\n",
      "I am learning from IBM\n"
     ]
    }
   ],
   "source": [
    "with open(exmp2, 'w') as writefile:\n",
    "    for line in Lines:\n",
    "        print(line)\n",
    "        writefile.write(line)"
   ]
  },
  {
   "cell_type": "code",
   "execution_count": 65,
   "id": "49eff7ee-4842-425c-89b0-72823e9f4bd1",
   "metadata": {},
   "outputs": [
    {
     "name": "stdout",
     "output_type": "stream",
     "text": [
      "Overwrite\n",
      "\n"
     ]
    }
   ],
   "source": [
    "with open(exmp2, 'w') as writefile:\n",
    "    writefile.write('Overwrite\\n')\n",
    "with open(exmp2, 'r') as readfile:\n",
    "    print(readfile.read())"
   ]
  },
  {
   "cell_type": "code",
   "execution_count": 71,
   "id": "8a7e0eba-31e4-4c16-b40e-6011767a6ae6",
   "metadata": {},
   "outputs": [],
   "source": [
    "with open(exmp2, 'a') as testwritefile:\n",
    "    testwritefile.write(\"Hi, How is it going\\n?\")\n",
    "    testwritefile.write(\"I am doing great\\n\")\n",
    "    testwritefile.write(\"Okay whats new\\n\")"
   ]
  },
  {
   "cell_type": "code",
   "execution_count": 72,
   "id": "aa93480f-f154-490e-88b0-c5dab76aaa81",
   "metadata": {},
   "outputs": [
    {
     "name": "stdout",
     "output_type": "stream",
     "text": [
      "Overwrite\n",
      "Hi, How is it going\n",
      "?I am doing great\n",
      "Hi, How is it going\n",
      "?I am doing great\n",
      "Okay whats newHi, How is it going\n",
      "?I am doing great\n",
      "Okay whats new\n",
      "\n"
     ]
    }
   ],
   "source": [
    "with open(exmp2, 'r') as readfile:\n",
    "    print(readfile.read())"
   ]
  },
  {
   "cell_type": "code",
   "execution_count": 77,
   "id": "8d9cf7c0-3c73-4892-9448-a5e4cd6303f6",
   "metadata": {},
   "outputs": [
    {
     "name": "stdout",
     "output_type": "stream",
     "text": [
      "\n"
     ]
    }
   ],
   "source": [
    "with open(exmp2, 'a+') as test:\n",
    "    test.write(\"This a+\")\n",
    "    tes = test.read()\n",
    "    print(tes)\n",
    "    "
   ]
  },
  {
   "cell_type": "markdown",
   "id": "9e194d02-13d5-4a3e-943b-b350741dce63",
   "metadata": {},
   "source": [
    "### Pandas: Loading Data\n",
    "1. For data analysis\n",
    "2. Pre built functions and classes"
   ]
  },
  {
   "cell_type": "code",
   "execution_count": 4,
   "id": "8354bdbb-8c3d-40fe-8d1d-230fe0f0208e",
   "metadata": {},
   "outputs": [
    {
     "data": {
      "text/html": [
       "<div>\n",
       "<style scoped>\n",
       "    .dataframe tbody tr th:only-of-type {\n",
       "        vertical-align: middle;\n",
       "    }\n",
       "\n",
       "    .dataframe tbody tr th {\n",
       "        vertical-align: top;\n",
       "    }\n",
       "\n",
       "    .dataframe thead th {\n",
       "        text-align: right;\n",
       "    }\n",
       "</style>\n",
       "<table border=\"1\" class=\"dataframe\">\n",
       "  <thead>\n",
       "    <tr style=\"text-align: right;\">\n",
       "      <th></th>\n",
       "      <th>Album</th>\n",
       "      <th>Realeased</th>\n",
       "      <th>Length</th>\n",
       "    </tr>\n",
       "  </thead>\n",
       "  <tbody>\n",
       "    <tr>\n",
       "      <th>0</th>\n",
       "      <td>Thriller</td>\n",
       "      <td>1982</td>\n",
       "      <td>00:42:19</td>\n",
       "    </tr>\n",
       "    <tr>\n",
       "      <th>1</th>\n",
       "      <td>Back in Black</td>\n",
       "      <td>1992</td>\n",
       "      <td>00:42:11</td>\n",
       "    </tr>\n",
       "    <tr>\n",
       "      <th>2</th>\n",
       "      <td>The Dark side of the Moon</td>\n",
       "      <td>1973</td>\n",
       "      <td>00:42:49</td>\n",
       "    </tr>\n",
       "    <tr>\n",
       "      <th>3</th>\n",
       "      <td>The Bodygaurd</td>\n",
       "      <td>1992</td>\n",
       "      <td>00:57:44</td>\n",
       "    </tr>\n",
       "    <tr>\n",
       "      <th>4</th>\n",
       "      <td>Bat out of the Hell</td>\n",
       "      <td>1977</td>\n",
       "      <td>00:46:33</td>\n",
       "    </tr>\n",
       "  </tbody>\n",
       "</table>\n",
       "</div>"
      ],
      "text/plain": [
       "                       Album  Realeased    Length\n",
       "0                   Thriller       1982  00:42:19\n",
       "1              Back in Black       1992  00:42:11\n",
       "2  The Dark side of the Moon       1973  00:42:49\n",
       "3              The Bodygaurd       1992  00:57:44\n",
       "4        Bat out of the Hell       1977  00:46:33"
      ]
     },
     "execution_count": 4,
     "metadata": {},
     "output_type": "execute_result"
    }
   ],
   "source": [
    "#Creating a data frame using the Dictionary\n",
    "import pandas as pd\n",
    "songs = {\n",
    "    'Album' : ['Thriller', 'Back in Black', 'The Dark side of the Moon',\\\n",
    "              'The Bodygaurd', 'Bat out of the Hell'],\n",
    "    'Realeased': [1982, 1992, 1973, 1992, 1977],\n",
    "    'Length': ['00:42:19', '00:42:11', '00:42:49', '00:57:44', '00:46:33']\n",
    "}\n",
    "songs_frame = pd.DataFrame(songs)\n",
    "songs_frame"
   ]
  },
  {
   "cell_type": "code",
   "execution_count": 11,
   "id": "a809b7b3-0e65-464f-9ddd-1b6126180368",
   "metadata": {},
   "outputs": [
    {
     "name": "stdout",
     "output_type": "stream",
     "text": [
      "00:46:33\n"
     ]
    }
   ],
   "source": [
    "print(songs_frame.iloc[4,2])"
   ]
  },
  {
   "cell_type": "code",
   "execution_count": 12,
   "id": "c84c4c9a-3946-44f2-b622-ce922d18426a",
   "metadata": {},
   "outputs": [
    {
     "data": {
      "text/html": [
       "<div>\n",
       "<style scoped>\n",
       "    .dataframe tbody tr th:only-of-type {\n",
       "        vertical-align: middle;\n",
       "    }\n",
       "\n",
       "    .dataframe tbody tr th {\n",
       "        vertical-align: top;\n",
       "    }\n",
       "\n",
       "    .dataframe thead th {\n",
       "        text-align: right;\n",
       "    }\n",
       "</style>\n",
       "<table border=\"1\" class=\"dataframe\">\n",
       "  <thead>\n",
       "    <tr style=\"text-align: right;\">\n",
       "      <th></th>\n",
       "      <th>Album</th>\n",
       "      <th>Realeased</th>\n",
       "      <th>Length</th>\n",
       "    </tr>\n",
       "  </thead>\n",
       "  <tbody>\n",
       "    <tr>\n",
       "      <th>a</th>\n",
       "      <td>Thriller</td>\n",
       "      <td>1982</td>\n",
       "      <td>00:42:19</td>\n",
       "    </tr>\n",
       "    <tr>\n",
       "      <th>b</th>\n",
       "      <td>Back in Black</td>\n",
       "      <td>1992</td>\n",
       "      <td>00:42:11</td>\n",
       "    </tr>\n",
       "    <tr>\n",
       "      <th>c</th>\n",
       "      <td>The Dark side of the Moon</td>\n",
       "      <td>1973</td>\n",
       "      <td>00:42:49</td>\n",
       "    </tr>\n",
       "    <tr>\n",
       "      <th>d</th>\n",
       "      <td>The Bodygaurd</td>\n",
       "      <td>1992</td>\n",
       "      <td>00:57:44</td>\n",
       "    </tr>\n",
       "    <tr>\n",
       "      <th>e</th>\n",
       "      <td>Bat out of the Hell</td>\n",
       "      <td>1977</td>\n",
       "      <td>00:46:33</td>\n",
       "    </tr>\n",
       "  </tbody>\n",
       "</table>\n",
       "</div>"
      ],
      "text/plain": [
       "                       Album  Realeased    Length\n",
       "a                   Thriller       1982  00:42:19\n",
       "b              Back in Black       1992  00:42:11\n",
       "c  The Dark side of the Moon       1973  00:42:49\n",
       "d              The Bodygaurd       1992  00:57:44\n",
       "e        Bat out of the Hell       1977  00:46:33"
      ]
     },
     "execution_count": 12,
     "metadata": {},
     "output_type": "execute_result"
    }
   ],
   "source": [
    "df = songs_frame\n",
    "df.index = ['a', 'b', 'c', 'd', 'e']\n",
    "df"
   ]
  },
  {
   "cell_type": "code",
   "execution_count": 14,
   "id": "df24a9b2-f3c7-47f5-8ea2-5cd197e2f2d3",
   "metadata": {},
   "outputs": [
    {
     "data": {
      "text/html": [
       "<div>\n",
       "<style scoped>\n",
       "    .dataframe tbody tr th:only-of-type {\n",
       "        vertical-align: middle;\n",
       "    }\n",
       "\n",
       "    .dataframe tbody tr th {\n",
       "        vertical-align: top;\n",
       "    }\n",
       "\n",
       "    .dataframe thead th {\n",
       "        text-align: right;\n",
       "    }\n",
       "</style>\n",
       "<table border=\"1\" class=\"dataframe\">\n",
       "  <thead>\n",
       "    <tr style=\"text-align: right;\">\n",
       "      <th></th>\n",
       "      <th>Album</th>\n",
       "      <th>Realeased</th>\n",
       "      <th>Length</th>\n",
       "    </tr>\n",
       "  </thead>\n",
       "  <tbody>\n",
       "    <tr>\n",
       "      <th>a</th>\n",
       "      <td>Thriller</td>\n",
       "      <td>1982</td>\n",
       "      <td>00:42:19</td>\n",
       "    </tr>\n",
       "    <tr>\n",
       "      <th>b</th>\n",
       "      <td>Back in Black</td>\n",
       "      <td>1992</td>\n",
       "      <td>00:42:11</td>\n",
       "    </tr>\n",
       "  </tbody>\n",
       "</table>\n",
       "</div>"
      ],
      "text/plain": [
       "           Album  Realeased    Length\n",
       "a       Thriller       1982  00:42:19\n",
       "b  Back in Black       1992  00:42:11"
      ]
     },
     "execution_count": 14,
     "metadata": {},
     "output_type": "execute_result"
    }
   ],
   "source": [
    "df.iloc[0:2, 0:3]"
   ]
  },
  {
   "cell_type": "markdown",
   "id": "42ff8b79-ae5b-4683-a530-600aee3e5b19",
   "metadata": {},
   "source": [
    "### Pandas: Working with and Saving Data"
   ]
  },
  {
   "cell_type": "code",
   "execution_count": 17,
   "id": "8f29ecec-f683-4333-9362-d16482c4ad37",
   "metadata": {},
   "outputs": [
    {
     "data": {
      "text/plain": [
       "array([1982, 1992, 1973, 1977])"
      ]
     },
     "execution_count": 17,
     "metadata": {},
     "output_type": "execute_result"
    }
   ],
   "source": [
    "df['Realeased'].unique()"
   ]
  },
  {
   "cell_type": "code",
   "execution_count": 18,
   "id": "af56ac60-b941-4c7f-90d1-262ac64b1b42",
   "metadata": {},
   "outputs": [
    {
     "data": {
      "text/plain": [
       "a    True\n",
       "b    True\n",
       "c    True\n",
       "d    True\n",
       "e    True\n",
       "Name: Realeased, dtype: bool"
      ]
     },
     "execution_count": 18,
     "metadata": {},
     "output_type": "execute_result"
    }
   ],
   "source": [
    "df['Realeased']>1900"
   ]
  },
  {
   "cell_type": "markdown",
   "id": "3c5b65b7-2d55-4a02-a69b-2567716cbb6a",
   "metadata": {},
   "source": [
    "### Reading\n",
    "**Data Structures**\n",
    "1. DataFrame:\n",
    "   - Two-Dimensional\n",
    "   - size-mutable\n",
    "   - heterogeneous tabular data tructure\n",
    "     - with labeled axes(rows and columns)\n",
    "2. Series:\n",
    "   - One-dimensional labeled array,\n",
    "   - single column or row"
   ]
  },
  {
   "cell_type": "code",
   "execution_count": 21,
   "id": "35c688f4-de71-49b8-b5e7-c3ed2e3657a7",
   "metadata": {},
   "outputs": [
    {
     "data": {
      "text/plain": [
       "0    10\n",
       "1    30\n",
       "2    19\n",
       "3    18\n",
       "4    17\n",
       "5    30\n",
       "dtype: int64"
      ]
     },
     "execution_count": 21,
     "metadata": {},
     "output_type": "execute_result"
    }
   ],
   "source": [
    "# Series Example\n",
    "import pandas as pd\n",
    "data = [10,30, 19, 18, 17, 30]\n",
    "s = pd.Series(data)\n",
    "s"
   ]
  },
  {
   "cell_type": "code",
   "execution_count": 22,
   "id": "2fc8f7f0-fdba-4b88-823f-a63937ae54ea",
   "metadata": {},
   "outputs": [
    {
     "name": "stdout",
     "output_type": "stream",
     "text": [
      "19\n"
     ]
    }
   ],
   "source": [
    "print(s[2])"
   ]
  },
  {
   "cell_type": "code",
   "execution_count": 23,
   "id": "f3be4a9a-3f8e-489f-ad91-a05996fb28ca",
   "metadata": {},
   "outputs": [
    {
     "name": "stdout",
     "output_type": "stream",
     "text": [
      "18\n"
     ]
    }
   ],
   "source": [
    "print(s.iloc[3])"
   ]
  },
  {
   "cell_type": "code",
   "execution_count": 24,
   "id": "779b04b6-a8b8-4209-8c7f-782dbc30ef15",
   "metadata": {},
   "outputs": [
    {
     "name": "stdout",
     "output_type": "stream",
     "text": [
      "0    10\n",
      "1    30\n",
      "2    19\n",
      "dtype: int64\n"
     ]
    }
   ],
   "source": [
    "print(s[:3])"
   ]
  },
  {
   "cell_type": "code",
   "execution_count": 29,
   "id": "9a08246e-d286-4e1c-9982-224196f42d9c",
   "metadata": {},
   "outputs": [
    {
     "data": {
      "text/plain": [
       "0       Ali\n",
       "1     Awais\n",
       "2     Imran\n",
       "3    Haroon\n",
       "4      Saad\n",
       "Name: Name, dtype: object"
      ]
     },
     "execution_count": 29,
     "metadata": {},
     "output_type": "execute_result"
    }
   ],
   "source": [
    "data = {\n",
    "    'Name': ['Ali', 'Awais', 'Imran', 'Haroon', 'Saad'],\n",
    "    'Age': [32,54, 23,53,12],\n",
    "    'City': ['Lhr', 'ISB', 'Krch', 'Pindi', 'Mltn']\n",
    "}\n",
    "df = pd.DataFrame(data)\n",
    "df['Name']"
   ]
  },
  {
   "cell_type": "code",
   "execution_count": 31,
   "id": "2c4a082c-ac67-4b63-a238-cb3e8515d1e4",
   "metadata": {},
   "outputs": [
    {
     "name": "stdout",
     "output_type": "stream",
     "text": [
      "Name    Imran\n",
      "Age        23\n",
      "City     Krch\n",
      "Name: 2, dtype: object\n"
     ]
    }
   ],
   "source": [
    "print(df.iloc[2])"
   ]
  },
  {
   "cell_type": "code",
   "execution_count": 32,
   "id": "b530017b-5806-4f36-adf3-e97d0a53e4b3",
   "metadata": {},
   "outputs": [
    {
     "name": "stdout",
     "output_type": "stream",
     "text": [
      "Name    Awais\n",
      "Age        54\n",
      "City      ISB\n",
      "Name: 1, dtype: object\n"
     ]
    }
   ],
   "source": [
    "print(df.iloc[1])"
   ]
  },
  {
   "cell_type": "code",
   "execution_count": 35,
   "id": "72bd145c-ac51-4afc-86c9-7757c6d22af2",
   "metadata": {},
   "outputs": [
    {
     "name": "stdout",
     "output_type": "stream",
     "text": [
      "     Name  Age\n",
      "0     Ali   32\n",
      "1   Awais   54\n",
      "2   Imran   23\n",
      "3  Haroon   53\n",
      "4    Saad   12\n",
      "    Name  Age  City\n",
      "1  Awais   54   ISB\n",
      "2  Imran   23  Krch\n"
     ]
    }
   ],
   "source": [
    "print(df[['Name', 'Age']])\n",
    "print(df[1:3])"
   ]
  },
  {
   "cell_type": "code",
   "execution_count": 37,
   "id": "8c6b96e3-8660-4625-abc8-ecdfda120ed0",
   "metadata": {},
   "outputs": [
    {
     "data": {
      "text/plain": [
       "array([32, 54, 23, 53, 12])"
      ]
     },
     "execution_count": 37,
     "metadata": {},
     "output_type": "execute_result"
    }
   ],
   "source": [
    "unique_dates = df['Age'].unique()\n",
    "unique_dates"
   ]
  },
  {
   "cell_type": "code",
   "execution_count": 42,
   "id": "4b94ff81-81be-414c-bcb5-2665e535302c",
   "metadata": {},
   "outputs": [
    {
     "data": {
      "text/html": [
       "<div>\n",
       "<style scoped>\n",
       "    .dataframe tbody tr th:only-of-type {\n",
       "        vertical-align: middle;\n",
       "    }\n",
       "\n",
       "    .dataframe tbody tr th {\n",
       "        vertical-align: top;\n",
       "    }\n",
       "\n",
       "    .dataframe thead th {\n",
       "        text-align: right;\n",
       "    }\n",
       "</style>\n",
       "<table border=\"1\" class=\"dataframe\">\n",
       "  <thead>\n",
       "    <tr style=\"text-align: right;\">\n",
       "      <th></th>\n",
       "      <th>Name</th>\n",
       "      <th>Age</th>\n",
       "      <th>City</th>\n",
       "    </tr>\n",
       "  </thead>\n",
       "  <tbody>\n",
       "    <tr>\n",
       "      <th>1</th>\n",
       "      <td>Awais</td>\n",
       "      <td>54</td>\n",
       "      <td>ISB</td>\n",
       "    </tr>\n",
       "    <tr>\n",
       "      <th>3</th>\n",
       "      <td>Haroon</td>\n",
       "      <td>53</td>\n",
       "      <td>Pindi</td>\n",
       "    </tr>\n",
       "  </tbody>\n",
       "</table>\n",
       "</div>"
      ],
      "text/plain": [
       "     Name  Age   City\n",
       "1   Awais   54    ISB\n",
       "3  Haroon   53  Pindi"
      ]
     },
     "execution_count": 42,
     "metadata": {},
     "output_type": "execute_result"
    }
   ],
   "source": [
    "high_above_102 = df[df['Age']>50]\n",
    "high_above_102"
   ]
  },
  {
   "cell_type": "code",
   "execution_count": 43,
   "id": "c5d4b509-28b0-4888-a7a1-40f49704cd81",
   "metadata": {},
   "outputs": [],
   "source": [
    "df.to_csv('trading_data.csv', index=False)"
   ]
  },
  {
   "cell_type": "code",
   "execution_count": 44,
   "id": "2150b2ad-c38b-4ec2-8212-6d0962a35578",
   "metadata": {},
   "outputs": [],
   "source": [
    "titanic = pd.read_csv('E:\\\\titanic.csv')"
   ]
  },
  {
   "cell_type": "code",
   "execution_count": 45,
   "id": "1ecb0e63-f81d-4203-a0d0-00d988f7159e",
   "metadata": {},
   "outputs": [],
   "source": [
    "titanic.to_csv('Titanic.csv')"
   ]
  },
  {
   "cell_type": "code",
   "execution_count": null,
   "id": "c1c11016-6bc0-4fcf-9b62-001e5cd96c73",
   "metadata": {},
   "outputs": [],
   "source": []
  }
 ],
 "metadata": {
  "kernelspec": {
   "display_name": "Python 3 (ipykernel)",
   "language": "python",
   "name": "python3"
  },
  "language_info": {
   "codemirror_mode": {
    "name": "ipython",
    "version": 3
   },
   "file_extension": ".py",
   "mimetype": "text/x-python",
   "name": "python",
   "nbconvert_exporter": "python",
   "pygments_lexer": "ipython3",
   "version": "3.13.5"
  }
 },
 "nbformat": 4,
 "nbformat_minor": 5
}
