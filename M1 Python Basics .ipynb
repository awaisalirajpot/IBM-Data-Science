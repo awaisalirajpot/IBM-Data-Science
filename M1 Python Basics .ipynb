{
 "cells": [
  {
   "cell_type": "markdown",
   "id": "7085b204-c306-4412-814e-9b361d775f54",
   "metadata": {},
   "source": [
    "#### Strings\n",
    "1. *A string is a sequence of characters contained with i two quotes or a single quotes* <br>\n",
    "\"Michael Jackson\" or <br>\n",
    "'Michael Jackson' <br>\n",
    "2. *It can be any numbers or spaces or digits or special characters like* <br>\n",
    "\"1 3 2 4 3\" <br>\n",
    "\"@#$%^&*\"<br>"
   ]
  },
  {
   "cell_type": "code",
   "execution_count": 1,
   "id": "c47d21bc-ca83-4d16-a563-73c334133506",
   "metadata": {},
   "outputs": [
    {
     "data": {
      "text/plain": [
       "'M'"
      ]
     },
     "execution_count": 1,
     "metadata": {},
     "output_type": "execute_result"
    }
   ],
   "source": [
    "# Indexing \n",
    "Name = \"Michael Jackson\"\n",
    "Name[0]"
   ]
  },
  {
   "cell_type": "code",
   "execution_count": 2,
   "id": "2b16ff50-fbe1-41dc-81f5-4ff11b028e32",
   "metadata": {},
   "outputs": [
    {
     "data": {
      "text/plain": [
       "'n'"
      ]
     },
     "execution_count": 2,
     "metadata": {},
     "output_type": "execute_result"
    }
   ],
   "source": [
    "# Negitive Indexing\n",
    "Name[-1]"
   ]
  },
  {
   "cell_type": "code",
   "execution_count": 3,
   "id": "d3a0c4fa-4162-46dd-b804-4184224a989e",
   "metadata": {},
   "outputs": [
    {
     "data": {
      "text/plain": [
       "'Mich'"
      ]
     },
     "execution_count": 3,
     "metadata": {},
     "output_type": "execute_result"
    }
   ],
   "source": [
    "# Slicing\n",
    "Name[0:4]"
   ]
  },
  {
   "cell_type": "code",
   "execution_count": 4,
   "id": "c901b98d-9066-4f86-8ef0-52a4144a0c05",
   "metadata": {},
   "outputs": [
    {
     "data": {
      "text/plain": [
       "'McalJcsn'"
      ]
     },
     "execution_count": 4,
     "metadata": {},
     "output_type": "execute_result"
    }
   ],
   "source": [
    "# Every second value in the String\n",
    "Name[::2]"
   ]
  },
  {
   "cell_type": "code",
   "execution_count": 5,
   "id": "c83e6daf-77c5-47fd-9730-bfdf1043757d",
   "metadata": {},
   "outputs": [
    {
     "data": {
      "text/plain": [
       "'Mca'"
      ]
     },
     "execution_count": 5,
     "metadata": {},
     "output_type": "execute_result"
    }
   ],
   "source": [
    "# Every second value upto 5\n",
    "Name[0:5:2]"
   ]
  },
  {
   "cell_type": "code",
   "execution_count": 6,
   "id": "cb931b69-61ec-440f-bf14-46c022334be8",
   "metadata": {},
   "outputs": [
    {
     "data": {
      "text/plain": [
       "15"
      ]
     },
     "execution_count": 6,
     "metadata": {},
     "output_type": "execute_result"
    }
   ],
   "source": [
    "len(Name)"
   ]
  },
  {
   "cell_type": "code",
   "execution_count": 7,
   "id": "78224215-8b10-4ff1-98a0-adbf35013684",
   "metadata": {},
   "outputs": [
    {
     "data": {
      "text/plain": [
       "'Michael JacksenMichael JacksenMichael Jacksen'"
      ]
     },
     "execution_count": 7,
     "metadata": {},
     "output_type": "execute_result"
    }
   ],
   "source": [
    "# Replicating the Strings\n",
    "3* \"Michael Jacksen\""
   ]
  },
  {
   "cell_type": "code",
   "execution_count": 8,
   "id": "c1ed9913-0088-41a7-9e3f-3797c94c3c73",
   "metadata": {},
   "outputs": [
    {
     "data": {
      "text/plain": [
       "'Michael Jackson is a best'"
      ]
     },
     "execution_count": 8,
     "metadata": {},
     "output_type": "execute_result"
    }
   ],
   "source": [
    "# Concatenation\n",
    "Name = Name + \" \" + \"is a best\"\n",
    "Name"
   ]
  },
  {
   "cell_type": "code",
   "execution_count": 9,
   "id": "13300831-d335-40d2-a655-3273143fa4d7",
   "metadata": {},
   "outputs": [
    {
     "name": "stdout",
     "output_type": "stream",
     "text": [
      "Michael Jackson \n",
      "is best\n"
     ]
    }
   ],
   "source": [
    "# Escape Sequences\n",
    "print(\"Michael Jackson \\nis best\")"
   ]
  },
  {
   "cell_type": "code",
   "execution_count": 11,
   "id": "0ea56d55-58b8-4c20-8e6e-8b89be719284",
   "metadata": {},
   "outputs": [
    {
     "data": {
      "text/plain": [
       "'MICHAEL JACKSON IS A BEST'"
      ]
     },
     "execution_count": 11,
     "metadata": {},
     "output_type": "execute_result"
    }
   ],
   "source": [
    "B = Name.upper()\n",
    "B"
   ]
  },
  {
   "cell_type": "code",
   "execution_count": 12,
   "id": "a403b140-2b67-42ab-bb7f-ab3102d85e9e",
   "metadata": {},
   "outputs": [
    {
     "data": {
      "text/plain": [
       "'Michael Jackson is a best'"
      ]
     },
     "execution_count": 12,
     "metadata": {},
     "output_type": "execute_result"
    }
   ],
   "source": [
    "B = Name.replace ('MICHAEL', 'Awais')\n",
    "B"
   ]
  },
  {
   "cell_type": "code",
   "execution_count": 13,
   "id": "331beec9-136d-43a1-82c0-ccc6adc030ef",
   "metadata": {},
   "outputs": [],
   "source": [
    "# find substrings"
   ]
  },
  {
   "cell_type": "code",
   "execution_count": 14,
   "id": "1301b150-56e2-4b59-86a6-ced430de06cb",
   "metadata": {},
   "outputs": [
    {
     "name": "stdout",
     "output_type": "stream",
     "text": [
      "I am Awais Ali. I am 25 year old\n"
     ]
    }
   ],
   "source": [
    "# String interpolation (f-string)\n",
    "name = \"Awais Ali\"\n",
    "age = 25\n",
    "print(f\"I am {name}. I am {age} year old\")"
   ]
  },
  {
   "cell_type": "code",
   "execution_count": 15,
   "id": "23ad088c-c553-4452-9f63-95ef4bc00097",
   "metadata": {},
   "outputs": [
    {
     "name": "stdout",
     "output_type": "stream",
     "text": [
      "I am Awais Ali and I am 25 years old.\n"
     ]
    }
   ],
   "source": [
    "# str.format()\n",
    "print(\"I am {} and I am {} years old.\" .format(name, age))"
   ]
  },
  {
   "cell_type": "markdown",
   "id": "e78e8ba7-7652-45a4-aae7-08f166f83626",
   "metadata": {},
   "source": [
    "%s: This is a placeholder for a string. <br>\n",
    "%d: This is a placeholder for an integer. <br>\n",
    "% (name, age): This is a tuple containing the variables name and age. The values of these variables will replace the placeholders in the string.\n",
    "<br>\n",
    "Each of these methods has its own advantages and use cases. However, f-strings are generally considered the most modern and preferred way to format strings in Python due to their readability and performance."
   ]
  },
  {
   "cell_type": "code",
   "execution_count": 16,
   "id": "d11fe5f9-9e44-4ff6-ae76-eeb610ffcf41",
   "metadata": {},
   "outputs": [
    {
     "name": "stdout",
     "output_type": "stream",
     "text": [
      "My name is Awais Ali and I am 25 years old.\n"
     ]
    }
   ],
   "source": [
    "# % Operator\n",
    "print(\"My name is %s and I am %d years old.\" %(name, age))"
   ]
  },
  {
   "cell_type": "code",
   "execution_count": 17,
   "id": "34ab2d87-c5d5-45ba-866c-0a0e776751ac",
   "metadata": {},
   "outputs": [
    {
     "name": "stdout",
     "output_type": "stream",
     "text": [
      "The sum of x and y is 30\n"
     ]
    }
   ],
   "source": [
    "# Additional capabilities\n",
    "x = 10\n",
    "y = 20\n",
    "print(f\"The sum of x and y is {x+y}\")"
   ]
  },
  {
   "cell_type": "code",
   "execution_count": 18,
   "id": "cf40d473-9b32-4e95-a7eb-ada8c7b77d13",
   "metadata": {},
   "outputs": [
    {
     "name": "stdout",
     "output_type": "stream",
     "text": [
      "Regual String: C:\n",
      "ew_folder\f",
      "ile.txt\n"
     ]
    }
   ],
   "source": [
    "# Raw String(r\")\n",
    "# powerfull tool for handling textual data, like while dealing with\n",
    "# escape cahracters. by using r\" it'll be treated like raw\n",
    "\n",
    "regular_string = \"C:\\new_folder\\file.txt\"\n",
    "print(\"Regual String:\", regular_string)"
   ]
  },
  {
   "cell_type": "code",
   "execution_count": 19,
   "id": "0cf5d323-c022-4637-934f-3ec03463b0f1",
   "metadata": {},
   "outputs": [
    {
     "name": "stdout",
     "output_type": "stream",
     "text": [
      "Regual String: C:\\new_folder\\file.txt\n"
     ]
    }
   ],
   "source": [
    "regular_string = r\"C:\\new_folder\\file.txt\"\n",
    "print(\"Regual String:\", regular_string)"
   ]
  },
  {
   "cell_type": "code",
   "execution_count": null,
   "id": "ba3f36a2-f9c9-440d-8c3b-fb220d6d796e",
   "metadata": {},
   "outputs": [],
   "source": []
  }
 ],
 "metadata": {
  "kernelspec": {
   "display_name": "Python 3 (ipykernel)",
   "language": "python",
   "name": "python3"
  },
  "language_info": {
   "codemirror_mode": {
    "name": "ipython",
    "version": 3
   },
   "file_extension": ".py",
   "mimetype": "text/x-python",
   "name": "python",
   "nbconvert_exporter": "python",
   "pygments_lexer": "ipython3",
   "version": "3.13.5"
  }
 },
 "nbformat": 4,
 "nbformat_minor": 5
}
