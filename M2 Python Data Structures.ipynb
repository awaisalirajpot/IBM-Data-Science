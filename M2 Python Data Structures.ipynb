{
 "cells": [
  {
   "cell_type": "markdown",
   "id": "43f71c46-0d06-4efd-8202-55fae5e85da4",
   "metadata": {},
   "source": [
    "### Tuples and Lists\n",
    "- Tuples are an ordered sequece\n",
    "- Tuples are written as comma-Separated elements within parentheses like <br>\n",
    "*Ratings = (3,2.2,23,2.3,4)*"
   ]
  },
  {
   "cell_type": "code",
   "execution_count": 1,
   "id": "07c87227-ec68-40a5-8aeb-4f77c81bdf99",
   "metadata": {},
   "outputs": [
    {
     "name": "stdout",
     "output_type": "stream",
     "text": [
      "<class 'tuple'>\n",
      "disco\n",
      "1.2\n"
     ]
    }
   ],
   "source": [
    "tuple1 = ('disco', 10, 1.2)\n",
    "print(type(tuple1))\n",
    "print(tuple1[0])\n",
    "print(tuple1[2])"
   ]
  },
  {
   "cell_type": "code",
   "execution_count": 2,
   "id": "4df01617-6cf7-4d85-83e3-c49fac558734",
   "metadata": {},
   "outputs": [
    {
     "data": {
      "text/plain": [
       "('disco', 10, 1.2, 'Awais', 2.3, 32, 32)"
      ]
     },
     "execution_count": 2,
     "metadata": {},
     "output_type": "execute_result"
    }
   ],
   "source": [
    "tuple2 = tuple1 + (\"Awais\", 2.3, 32,32)\n",
    "tuple2"
   ]
  },
  {
   "cell_type": "code",
   "execution_count": 3,
   "id": "e61884e1-ba07-410f-aa92-fa2e9b93d576",
   "metadata": {},
   "outputs": [
    {
     "data": {
      "text/plain": [
       "('Awais', 2.3)"
      ]
     },
     "execution_count": 3,
     "metadata": {},
     "output_type": "execute_result"
    }
   ],
   "source": [
    "tuple2[3:5]"
   ]
  },
  {
   "cell_type": "code",
   "execution_count": 4,
   "id": "28a225a0-0c86-4a54-ab5a-e45e9e20ff19",
   "metadata": {},
   "outputs": [
    {
     "ename": "TypeError",
     "evalue": "'tuple' object does not support item assignment",
     "output_type": "error",
     "traceback": [
      "\u001b[1;31m---------------------------------------------------------------------------\u001b[0m",
      "\u001b[1;31mTypeError\u001b[0m                                 Traceback (most recent call last)",
      "Cell \u001b[1;32mIn[4], line 2\u001b[0m\n\u001b[0;32m      1\u001b[0m \u001b[38;5;66;03m# Tuples are immutable\u001b[39;00m\n\u001b[1;32m----> 2\u001b[0m tuple2[\u001b[38;5;241m0\u001b[39m] \u001b[38;5;241m=\u001b[39m \u001b[38;5;124m'\u001b[39m\u001b[38;5;124mAwais\u001b[39m\u001b[38;5;124m'\u001b[39m\n",
      "\u001b[1;31mTypeError\u001b[0m: 'tuple' object does not support item assignment"
     ]
    }
   ],
   "source": [
    "# Tuples are immutable\n",
    "tuple2[0] = 'Awais'"
   ]
  },
  {
   "cell_type": "code",
   "execution_count": 5,
   "id": "ba45b333-b11c-4b61-8b8a-04c1da4b7079",
   "metadata": {},
   "outputs": [
    {
     "data": {
      "text/plain": [
       "[2, 3, 3, 14, 23, 24, 245]"
      ]
     },
     "execution_count": 5,
     "metadata": {},
     "output_type": "execute_result"
    }
   ],
   "source": [
    "Ratings = (3,245,23,14,24,2,3)\n",
    "sorted(Ratings)"
   ]
  },
  {
   "cell_type": "markdown",
   "id": "5eb53bb6-d696-4f6d-91f9-ef847b086b54",
   "metadata": {},
   "source": [
    "#### Tuples Nesting"
   ]
  },
  {
   "cell_type": "code",
   "execution_count": 6,
   "id": "d881b727-d9fe-4cfb-b7d2-deb882806cda",
   "metadata": {},
   "outputs": [
    {
     "data": {
      "text/plain": [
       "'rock'"
      ]
     },
     "execution_count": 6,
     "metadata": {},
     "output_type": "execute_result"
    }
   ],
   "source": [
    "NT = (1,3, (\"pop\", \"rock\"), (23,1), (\"disco\", (1,2)))\n",
    "NT [2][1]"
   ]
  },
  {
   "cell_type": "code",
   "execution_count": 7,
   "id": "312d8248-4061-49ed-bd65-1084a4b3bfd5",
   "metadata": {},
   "outputs": [
    {
     "data": {
      "text/plain": [
       "23"
      ]
     },
     "execution_count": 7,
     "metadata": {},
     "output_type": "execute_result"
    }
   ],
   "source": [
    "NT[3][0]"
   ]
  },
  {
   "cell_type": "code",
   "execution_count": 8,
   "id": "5d4e1e2e-f2b4-4535-8f69-a3870903ce0e",
   "metadata": {},
   "outputs": [
    {
     "data": {
      "text/plain": [
       "2"
      ]
     },
     "execution_count": 8,
     "metadata": {},
     "output_type": "execute_result"
    }
   ],
   "source": [
    "NT [4][1][1]"
   ]
  },
  {
   "cell_type": "code",
   "execution_count": 10,
   "id": "51271f2b-2b5e-464d-9412-c25de1700bc9",
   "metadata": {},
   "outputs": [
    {
     "data": {
      "text/plain": [
       "2"
      ]
     },
     "execution_count": 10,
     "metadata": {},
     "output_type": "execute_result"
    }
   ],
   "source": [
    "NT [4][1][1]"
   ]
  },
  {
   "cell_type": "markdown",
   "id": "81fc8ee2-cdf2-4ffc-b72d-ec16abd84f0f",
   "metadata": {},
   "source": [
    "### Lists\n",
    "*Lists are mutable*"
   ]
  },
  {
   "cell_type": "code",
   "execution_count": 11,
   "id": "02776d93-07d0-4211-9e3b-612e2663323b",
   "metadata": {},
   "outputs": [
    {
     "data": {
      "text/plain": [
       "list"
      ]
     },
     "execution_count": 11,
     "metadata": {},
     "output_type": "execute_result"
    }
   ],
   "source": [
    "L = [\"Michael Jackson\", 10.1 , 183, ('A', 1)]\n",
    "type(L)"
   ]
  },
  {
   "cell_type": "code",
   "execution_count": 13,
   "id": "579d4363-f23d-47e4-b4e7-26e017bda252",
   "metadata": {},
   "outputs": [
    {
     "data": {
      "text/plain": [
       "tuple"
      ]
     },
     "execution_count": 13,
     "metadata": {},
     "output_type": "execute_result"
    }
   ],
   "source": [
    "type(L[3])"
   ]
  },
  {
   "cell_type": "code",
   "execution_count": 14,
   "id": "25a711e7-7498-425d-b273-984ddd56c25e",
   "metadata": {},
   "outputs": [],
   "source": [
    "L.extend([\"pop\", 10]) #concatenation"
   ]
  },
  {
   "cell_type": "code",
   "execution_count": 15,
   "id": "2c16a0d5-d9b2-4e39-8251-c842541f8a20",
   "metadata": {},
   "outputs": [
    {
     "name": "stdout",
     "output_type": "stream",
     "text": [
      "['Michael Jackson', 10.1, 183, ('A', 1), 'pop', 10]\n"
     ]
    }
   ],
   "source": [
    "print(L)"
   ]
  },
  {
   "cell_type": "code",
   "execution_count": 16,
   "id": "6dbbb9dc-b0da-43a9-ad25-1d767f1bbdf0",
   "metadata": {},
   "outputs": [
    {
     "data": {
      "text/plain": [
       "['Michael Jackson', 10.1, 183, ('A', 1), 'pop', 10, ['pop', 10]]"
      ]
     },
     "execution_count": 16,
     "metadata": {},
     "output_type": "execute_result"
    }
   ],
   "source": [
    "L.append([\"pop\", 10]) #This adds as a one element\n",
    "L"
   ]
  },
  {
   "cell_type": "code",
   "execution_count": 18,
   "id": "b4fb3307-45fc-4b3f-a44a-e4505a4175f7",
   "metadata": {},
   "outputs": [
    {
     "name": "stdout",
     "output_type": "stream",
     "text": [
      "10\n"
     ]
    }
   ],
   "source": [
    "print(L[6][1])"
   ]
  },
  {
   "cell_type": "code",
   "execution_count": 20,
   "id": "ee13d553-c21b-47aa-8a6b-25cca8bb5f96",
   "metadata": {},
   "outputs": [
    {
     "data": {
      "text/plain": [
       "['Awais Ali', 10.1, 183, ('A', 1), 'pop', 10, ['pop', 10]]"
      ]
     },
     "execution_count": 20,
     "metadata": {},
     "output_type": "execute_result"
    }
   ],
   "source": [
    "L[0] = \"Awais Ali\" #since lists are mutable\n",
    "L"
   ]
  },
  {
   "cell_type": "code",
   "execution_count": 23,
   "id": "22344d5d-f994-4a21-82f4-6db90db73d60",
   "metadata": {},
   "outputs": [
    {
     "data": {
      "text/plain": [
       "[183, ('A', 1), 'pop', 10, ['pop', 10]]"
      ]
     },
     "execution_count": 23,
     "metadata": {},
     "output_type": "execute_result"
    }
   ],
   "source": [
    "del(L[0])\n",
    "L"
   ]
  },
  {
   "cell_type": "code",
   "execution_count": 29,
   "id": "9b52b38b-167e-466d-85f5-c1bca44d30c1",
   "metadata": {},
   "outputs": [
    {
     "data": {
      "text/plain": [
       "['Awais', 'Ali']"
      ]
     },
     "execution_count": 29,
     "metadata": {},
     "output_type": "execute_result"
    }
   ],
   "source": [
    "\"Awais Ali\".split()"
   ]
  },
  {
   "cell_type": "code",
   "execution_count": 33,
   "id": "3ac814f7-f774-4742-b4a8-66661abf04af",
   "metadata": {},
   "outputs": [
    {
     "data": {
      "text/plain": [
       "['A', 'B', 'C', 'D']"
      ]
     },
     "execution_count": 33,
     "metadata": {},
     "output_type": "execute_result"
    }
   ],
   "source": [
    "\"A,B,C,D\".split(\",\")"
   ]
  },
  {
   "cell_type": "code",
   "execution_count": 34,
   "id": "6ffd4dda-4ca7-4fd6-ba7a-023fab3c3caf",
   "metadata": {},
   "outputs": [
    {
     "name": "stdout",
     "output_type": "stream",
     "text": [
      "['Awais Ali', 33, 23, 42, ('Awi', 2)]\n",
      "['Awais Ali', 33, 23, 42, ('Awi', 2)]\n"
     ]
    }
   ],
   "source": [
    "A = [\"Awais\", 33, 23, 42, ('Awi', 2)]\n",
    "B = A\n",
    "B[0] = \"Awais Ali\"\n",
    "print(B) #change in anyone of these will change both\n",
    "print(A)"
   ]
  },
  {
   "cell_type": "code",
   "execution_count": 35,
   "id": "a5210f3e-5957-46d6-b237-3b9c66b00fc3",
   "metadata": {},
   "outputs": [
    {
     "name": "stdout",
     "output_type": "stream",
     "text": [
      "['Michal Jackson', 33, 23, 42, ('Awi', 2)]\n",
      "['Awais Ali', 33, 23, 42, ('Awi', 2)]\n"
     ]
    }
   ],
   "source": [
    "# If we want to chane the only cloned variable then we will use the follwing sentex\n",
    "B = A[:]\n",
    "B [0] = \"Michal Jackson\"\n",
    "print(B)\n",
    "print(A)\n"
   ]
  },
  {
   "cell_type": "code",
   "execution_count": 39,
   "id": "2260cef1-b7ae-4e3c-83e4-52bf45be8a9d",
   "metadata": {},
   "outputs": [
    {
     "name": "stdout",
     "output_type": "stream",
     "text": [
      "the same element using negative and positive indexing: \n",
      "Postive:  The Bodyguard \n",
      "Negitive The Bodyguard\n",
      "the same element using negative and positive indexing: \n",
      "Postive:  7.0 \n",
      "Negitive 7.0\n",
      "the same element using negative and positive indexing: \n",
      "Postive:  1992 \n",
      "Negitive 1992\n"
     ]
    }
   ],
   "source": [
    "L = [\"The Bodyguard\", 7.0, 1992]\n",
    "print('the same element using negative and positive indexing: \\nPostive: ', L[0], \"\\nNegitive\", L[-3])\n",
    "print('the same element using negative and positive indexing: \\nPostive: ', L[1], \"\\nNegitive\", L[-2])\n",
    "print('the same element using negative and positive indexing: \\nPostive: ', L[2], \"\\nNegitive\", L[-1])\n",
    "\n"
   ]
  },
  {
   "cell_type": "code",
   "execution_count": 4,
   "id": "deab19d5-a60b-434e-927b-e7cacc2c505d",
   "metadata": {},
   "outputs": [
    {
     "name": "stdout",
     "output_type": "stream",
     "text": [
      "['ad', 'sdfe', 'Awais', 3, 2, 4, 6, 53, 2]\n",
      "['ad', 'sdfe', 'Awais', 3, 2, 4, 6, 53, 2, [32, 'Awais']]\n"
     ]
    }
   ],
   "source": [
    "# We can add extend to add new elements to the list\n",
    "L = ['ad', 'sdfe', 'Awais']\n",
    "L.extend([3,2,4,6,53,2])\n",
    "print(L)\n",
    "L.append ([32, 'Awais'])\n",
    "print(L)"
   ]
  },
  {
   "cell_type": "code",
   "execution_count": 6,
   "id": "fb468acf-2ed0-4fec-9426-a9ddf2887317",
   "metadata": {},
   "outputs": [
    {
     "name": "stdout",
     "output_type": "stream",
     "text": [
      "Before:  ['disco', 323, 23, 'Awais', 'Quick brown fox', 32]\n",
      "after:  [3310, 323, 23, 'disco', 'Quick brown fox', 32]\n"
     ]
    }
   ],
   "source": [
    "L1 = ['disco', 323, 23, \"Awais\", \"Quick brown fox\", 32]\n",
    "print(\"Before: \", L1)\n",
    "L1[0] = 3310\n",
    "L1[3] = 'disco'\n",
    "print('after: ', L1)"
   ]
  },
  {
   "cell_type": "code",
   "execution_count": 8,
   "id": "7550b8ec-91a6-41a8-b373-0b554f334861",
   "metadata": {},
   "outputs": [
    {
     "name": "stdout",
     "output_type": "stream",
     "text": [
      "[23, 'disco', 'Quick brown fox', 32]\n"
     ]
    }
   ],
   "source": [
    "del(L1[0])\n",
    "print(L1)"
   ]
  },
  {
   "cell_type": "code",
   "execution_count": 11,
   "id": "ca70175a-7f37-4ef4-8f44-33ad706f6a5f",
   "metadata": {},
   "outputs": [
    {
     "data": {
      "text/plain": [
       "'hard'"
      ]
     },
     "execution_count": 11,
     "metadata": {},
     "output_type": "execute_result"
    }
   ],
   "source": [
    "x = 'hard rock'.split()\n",
    "x[0]"
   ]
  },
  {
   "cell_type": "code",
   "execution_count": 15,
   "id": "a6c3f6e6-3ed1-40b5-aa8d-c6bd5916429b",
   "metadata": {},
   "outputs": [
    {
     "data": {
      "text/plain": [
       "['ABCD']"
      ]
     },
     "execution_count": 15,
     "metadata": {},
     "output_type": "execute_result"
    }
   ],
   "source": [
    "'ABCD'.split()"
   ]
  },
  {
   "cell_type": "code",
   "execution_count": 19,
   "id": "14d95db2-4737-4ab5-9651-14774cddc4a2",
   "metadata": {},
   "outputs": [
    {
     "name": "stdout",
     "output_type": "stream",
     "text": [
      "['23', 'Awais', 32, 52, 99, 0]\n",
      "['Awais Ali', 'Awais', 32, 52, 99, 0]\n"
     ]
    }
   ],
   "source": [
    "A = ['23', 'Awais', 32, 52, 99, 00]\n",
    "B = A[:]\n",
    "B[0] = 'Awais Ali'\n",
    "print(A)\n",
    "print(B)"
   ]
  },
  {
   "cell_type": "code",
   "execution_count": 20,
   "id": "abb345b6-77ae-4c32-8748-37ee64bf4869",
   "metadata": {},
   "outputs": [
    {
     "data": {
      "text/plain": [
       "['Watch', 'Laptop', 'Shoes', 'Pen', 'Clothes']"
      ]
     },
     "execution_count": 20,
     "metadata": {},
     "output_type": "execute_result"
    }
   ],
   "source": [
    "shopping_list = []\n",
    "shopping_list.extend(['Watch', 'Laptop', 'Shoes', 'Pen', 'Clothes'])\n",
    "shopping_list"
   ]
  },
  {
   "cell_type": "code",
   "execution_count": 22,
   "id": "d5c764c3-d726-4f77-a428-7e15b5633ce7",
   "metadata": {},
   "outputs": [
    {
     "data": {
      "text/plain": [
       "['Watch', 'Laptop', 'Shoes', 'Pen', 'Clothes', ['Football'], 'Football']"
      ]
     },
     "execution_count": 22,
     "metadata": {},
     "output_type": "execute_result"
    }
   ],
   "source": [
    "shopping_list.extend(['Football'])\n",
    "shopping_list"
   ]
  },
  {
   "cell_type": "code",
   "execution_count": 23,
   "id": "c81ca866-9434-4d98-83ac-818ca9d9af5e",
   "metadata": {},
   "outputs": [
    {
     "name": "stdout",
     "output_type": "stream",
     "text": [
      "[9, 8, 5, 2, 1]\n"
     ]
    }
   ],
   "source": [
    "my_list = [5, 2, 8, 1, 9] \n",
    "my_list.sort(reverse=True) \n",
    "print(my_list) "
   ]
  },
  {
   "cell_type": "code",
   "execution_count": 25,
   "id": "61a5c392-1077-449a-95b3-295b556fc2f0",
   "metadata": {},
   "outputs": [
    {
     "name": "stdout",
     "output_type": "stream",
     "text": [
      "[1, [2, 3, 4, 5]]\n"
     ]
    },
    {
     "data": {
      "text/plain": [
       "2"
      ]
     },
     "execution_count": 25,
     "metadata": {},
     "output_type": "execute_result"
    }
   ],
   "source": [
    "A = [1]\n",
    "A.append([2, 3, 4, 5])\n",
    "print(A)\n",
    "len(A)"
   ]
  },
  {
   "cell_type": "markdown",
   "id": "73ecf035-b5b4-4df1-b12d-b6a7312ab528",
   "metadata": {},
   "source": [
    "#### Tuples"
   ]
  },
  {
   "cell_type": "markdown",
   "id": "b6167547-e4f3-49a4-94f8-93c03bb1d2f7",
   "metadata": {},
   "source": [
    "#### Dictionaries"
   ]
  },
  {
   "cell_type": "code",
   "execution_count": 27,
   "id": "fdfde846-3a5b-4a29-95c6-0b800bd0e1b2",
   "metadata": {},
   "outputs": [
    {
     "name": "stdout",
     "output_type": "stream",
     "text": [
      "{'key1': 1, 'key2': '2', 'key3': [2, 3, 1], 'key4': (3, 1), 'key5': 5}\n"
     ]
    }
   ],
   "source": [
    "Dict = {\"key1\": 1, \"key2\": \"2\", 'key3': [2,3,1], 'key4': (3,1), ('key5'):5}\n",
    "print(Dict)"
   ]
  },
  {
   "cell_type": "code",
   "execution_count": 30,
   "id": "16a1e399-004f-44ca-9281-83850851bc29",
   "metadata": {},
   "outputs": [
    {
     "name": "stdout",
     "output_type": "stream",
     "text": [
      "{'Thrill': 1982, 'Back in Black': 1980, 'The dark side of the Moon': 1973, 'The bodygaurd': 1992}\n"
     ]
    }
   ],
   "source": [
    "albums = {\n",
    "    'Thrill': 1982,\n",
    "    'Back in Black': 1980,\n",
    "    'The dark side of the Moon': 1973,\n",
    "    'The bodygaurd': 1992\n",
    "}\n",
    "print(albums)"
   ]
  },
  {
   "cell_type": "code",
   "execution_count": 31,
   "id": "3317f77f-dace-4c4d-b431-75b5da6956e6",
   "metadata": {},
   "outputs": [
    {
     "data": {
      "text/plain": [
       "1982"
      ]
     },
     "execution_count": 31,
     "metadata": {},
     "output_type": "execute_result"
    }
   ],
   "source": [
    "albums['Thrill']"
   ]
  },
  {
   "cell_type": "code",
   "execution_count": 33,
   "id": "40502033-2f3b-4a28-acfa-ba45f8146537",
   "metadata": {},
   "outputs": [
    {
     "name": "stdout",
     "output_type": "stream",
     "text": [
      "{'Thrill': 1982, 'Back in Black': 1980, 'The dark side of the Moon': 1973, 'The bodygaurd': 1992, 'Graduation': 2007}\n"
     ]
    }
   ],
   "source": [
    "albums['Graduation'] = 2007\n",
    "print(albums)"
   ]
  },
  {
   "cell_type": "code",
   "execution_count": 35,
   "id": "300a1999-73ec-456b-b517-ceec96a65b30",
   "metadata": {},
   "outputs": [
    {
     "name": "stdout",
     "output_type": "stream",
     "text": [
      "{'Back in Black': 1980, 'The dark side of the Moon': 1973, 'The bodygaurd': 1992, 'Graduation': 2007}\n"
     ]
    }
   ],
   "source": [
    "del (albums['Thrill'])\n",
    "print(albums)"
   ]
  },
  {
   "cell_type": "code",
   "execution_count": 36,
   "id": "c7d2ddb1-d886-4d7b-8418-5f140676597f",
   "metadata": {},
   "outputs": [
    {
     "data": {
      "text/plain": [
       "True"
      ]
     },
     "execution_count": 36,
     "metadata": {},
     "output_type": "execute_result"
    }
   ],
   "source": [
    "'Graduation' in albums"
   ]
  },
  {
   "cell_type": "code",
   "execution_count": 37,
   "id": "a13a03b1-d139-497e-aefc-1780f8fc72f6",
   "metadata": {},
   "outputs": [
    {
     "data": {
      "text/plain": [
       "dict_keys(['Back in Black', 'The dark side of the Moon', 'The bodygaurd', 'Graduation'])"
      ]
     },
     "execution_count": 37,
     "metadata": {},
     "output_type": "execute_result"
    }
   ],
   "source": [
    "albums.keys()"
   ]
  },
  {
   "cell_type": "code",
   "execution_count": 38,
   "id": "99d341ca-9d5d-4e38-a824-510a3ee7f6a5",
   "metadata": {},
   "outputs": [
    {
     "data": {
      "text/plain": [
       "dict_values([1980, 1973, 1992, 2007])"
      ]
     },
     "execution_count": 38,
     "metadata": {},
     "output_type": "execute_result"
    }
   ],
   "source": [
    "albums.values()"
   ]
  },
  {
   "cell_type": "markdown",
   "id": "7f322be3-54da-486e-ba45-2d202d52f580",
   "metadata": {},
   "source": [
    "#### Lab on Dictionaries\n",
    "\n",
    "A dictionary consists of keys and values. It is helpful to compare a dictionary to a list. Instead of being indexed numerically like a list, dictionaries have keys. These keys are the keys that are used to access values within a dictionary.\n",
    "<br>\n",
    "The best example of a dictionary can be accessing person's detais using the social security number.\n",
    "Here the social security number which is a unique number will be the key and the details of the people will be the values associated with it."
   ]
  },
  {
   "cell_type": "markdown",
   "id": "a157155f-2438-4f1a-9b27-094eef3d4c95",
   "metadata": {},
   "source": [
    "The difference between the **list** and **Dictionary**\n",
    "<img src=\"https://cf-courses-data.s3.us.cloud-object-storage.appdomain.cloud/54cVKVMZaWEw7wSCDL8NjQ/DictList1.png\" width=\"650\">\n"
   ]
  },
  {
   "cell_type": "code",
   "execution_count": 39,
   "id": "9a8c801a-424d-488f-9ebc-665c1a53343a",
   "metadata": {},
   "outputs": [
    {
     "name": "stdout",
     "output_type": "stream",
     "text": [
      "{'key1': 1, 'key2': '2', 'key3': [2, 3, 1], 'key4': (3, 1), 'key5': 5}\n"
     ]
    }
   ],
   "source": [
    "print(Dict)"
   ]
  },
  {
   "cell_type": "code",
   "execution_count": 40,
   "id": "c4d10e7c-74e9-4f52-9e7e-283c58f6c7fb",
   "metadata": {},
   "outputs": [
    {
     "data": {
      "text/plain": [
       "1"
      ]
     },
     "execution_count": 40,
     "metadata": {},
     "output_type": "execute_result"
    }
   ],
   "source": [
    "Dict['key1']"
   ]
  },
  {
   "cell_type": "code",
   "execution_count": 42,
   "id": "5addd14d-4587-4065-b448-0ceccb351573",
   "metadata": {},
   "outputs": [
    {
     "data": {
      "text/plain": [
       "int"
      ]
     },
     "execution_count": 42,
     "metadata": {},
     "output_type": "execute_result"
    }
   ],
   "source": [
    "type(Dict['key1'])"
   ]
  },
  {
   "cell_type": "code",
   "execution_count": 46,
   "id": "82a10200-985b-4ada-bc95-a602ac28c203",
   "metadata": {},
   "outputs": [
    {
     "data": {
      "text/plain": [
       "tuple"
      ]
     },
     "execution_count": 46,
     "metadata": {},
     "output_type": "execute_result"
    }
   ],
   "source": [
    "type(Dict['key4'])"
   ]
  },
  {
   "cell_type": "code",
   "execution_count": 48,
   "id": "588fbbee-0dea-4399-b0d6-48302022e5b6",
   "metadata": {},
   "outputs": [
    {
     "name": "stdout",
     "output_type": "stream",
     "text": [
      "{'ProductNo1': 'Mobile Phone', 'ProductNo1_quantity': 5, 'ProductNo1_price': 20000, 'ProductNo1_releaseYear': 2020}\n"
     ]
    }
   ],
   "source": [
    "#type your code here\n",
    "inventory = {}\n",
    "ProductNo1 = \"Mobile Phone\"\n",
    "ProductNo1_quantity = 5\n",
    "ProductNo1_price = 20000\n",
    "ProductNo1_releaseYear= 2020\n",
    "\n",
    "#Type your code here\n",
    "inventory[\"ProductNo1\"]= ProductNo1\n",
    "inventory[\"ProductNo1_quantity\"]= ProductNo1_quantity\n",
    "inventory[\"ProductNo1_price\"]= ProductNo1_price\n",
    "inventory[\"ProductNo1_releaseYear\"]=ProductNo1_releaseYear\n",
    "\n",
    "print(inventory)"
   ]
  },
  {
   "cell_type": "markdown",
   "id": "2813009c-7a67-4cce-b68d-c9607d1f8e2c",
   "metadata": {},
   "source": [
    "## Task-4 Store the second product details in a variable.\n",
    "* Product Name= \"Laptop\"\n",
    "* Product Quantity= 10\n",
    "* Product price = 50000\n",
    "* Product Release Year= 2023\n"
   ]
  },
  {
   "cell_type": "code",
   "execution_count": 49,
   "id": "da085b29-8788-4a82-8f54-72d4383599af",
   "metadata": {},
   "outputs": [
    {
     "name": "stdout",
     "output_type": "stream",
     "text": [
      "{'Product_Name': 'Laptop', 'Product_Quantity': 10, 'Product_Price': 50000, 'Product_Release_year': 2023}\n"
     ]
    }
   ],
   "source": [
    "laptop = {}\n",
    "\n",
    "Product_Name = \"Laptop\"\n",
    "Product_Quantity = 10\n",
    "Product_Price = 50000\n",
    "Product_Release_year = 2023\n",
    "\n",
    "laptop['Product_Name'] = Product_Name\n",
    "laptop['Product_Quantity'] = Product_Quantity\n",
    "laptop['Product_Price'] = Product_Price\n",
    "laptop['Product_Release_year'] = Product_Release_year\n",
    "\n",
    "print(laptop)"
   ]
  },
  {
   "cell_type": "code",
   "execution_count": 50,
   "id": "5c74e4e7-5a35-4402-9e1b-4182946930af",
   "metadata": {},
   "outputs": [
    {
     "data": {
      "text/plain": [
       "True"
      ]
     },
     "execution_count": 50,
     "metadata": {},
     "output_type": "execute_result"
    }
   ],
   "source": [
    "\"Product_Release_year\" in laptop"
   ]
  },
  {
   "cell_type": "markdown",
   "id": "416e9c5d-f3a1-48fd-ace1-3d8a6d7212f6",
   "metadata": {},
   "source": [
    "#### Sets"
   ]
  },
  {
   "cell_type": "code",
   "execution_count": 51,
   "id": "4b697aba-bfa2-465e-974a-fa908674bfaa",
   "metadata": {},
   "outputs": [
    {
     "name": "stdout",
     "output_type": "stream",
     "text": [
      "{'Michael Jackson', 'Thriller', 1982}\n"
     ]
    }
   ],
   "source": [
    "# Type casting from List to Set to remove duplicates elements\n",
    "album_list = [\"Michael Jackson\", \"Thriller\", \"Thriller\", 1982]\n",
    "album_set = set(album_list)\n",
    "print(album_set)"
   ]
  },
  {
   "cell_type": "code",
   "execution_count": 53,
   "id": "5c19fa8e-bce2-4e94-a443-28bfe220bff5",
   "metadata": {},
   "outputs": [
    {
     "data": {
      "text/plain": [
       "{1982, 'Michael Jackson', 'NSYNC', 'Thriller'}"
      ]
     },
     "execution_count": 53,
     "metadata": {},
     "output_type": "execute_result"
    }
   ],
   "source": [
    "album_set.add(\"NSYNC\")\n",
    "album_set"
   ]
  },
  {
   "cell_type": "code",
   "execution_count": 55,
   "id": "de7af6c0-8122-4f51-bd45-4e27f9d4e07f",
   "metadata": {},
   "outputs": [
    {
     "name": "stdout",
     "output_type": "stream",
     "text": [
      "{'Michael Jackson', 'Thriller', 'NSYNC', '2000'}\n"
     ]
    }
   ],
   "source": [
    "album_set.remove(1982)\n",
    "album_set.add(\"2000\")\n",
    "print(album_set)"
   ]
  },
  {
   "cell_type": "code",
   "execution_count": 56,
   "id": "50ccb8ed-6af5-417b-bd9c-df8fe3187d77",
   "metadata": {},
   "outputs": [
    {
     "data": {
      "text/plain": [
       "True"
      ]
     },
     "execution_count": 56,
     "metadata": {},
     "output_type": "execute_result"
    }
   ],
   "source": [
    "\"2000\" in album_set"
   ]
  },
  {
   "cell_type": "code",
   "execution_count": 60,
   "id": "0cfb4575-b8ad-499d-b984-be74abbbd25f",
   "metadata": {},
   "outputs": [
    {
     "name": "stdout",
     "output_type": "stream",
     "text": [
      "{'2000'}\n",
      "{3, 'Awais Ali', 'Michael Jackson', '2000', 'NSYNC', 23, 'Thriller'}\n"
     ]
    }
   ],
   "source": [
    "# Intersection\n",
    "album_set2 = {3,23,\"Awais Ali\", \"2000\"}\n",
    "print(album_set.intersection(album_set2))\n",
    "print(album_set.union(album_set2))"
   ]
  },
  {
   "cell_type": "code",
   "execution_count": 61,
   "id": "bc9023c1-af2f-47f5-b966-3844df8c2288",
   "metadata": {},
   "outputs": [
    {
     "data": {
      "text/plain": [
       "{'2000'}"
      ]
     },
     "execution_count": 61,
     "metadata": {},
     "output_type": "execute_result"
    }
   ],
   "source": [
    "album_set & album_set2"
   ]
  },
  {
   "cell_type": "code",
   "execution_count": 62,
   "id": "3d050ce8-045c-4e2e-960c-02c4e86f16f0",
   "metadata": {},
   "outputs": [
    {
     "data": {
      "text/plain": [
       "{'2000', 'Michael Jackson', 'NSYNC', 'Thriller'}"
      ]
     },
     "execution_count": 62,
     "metadata": {},
     "output_type": "execute_result"
    }
   ],
   "source": [
    "album_set or album_set2"
   ]
  },
  {
   "cell_type": "code",
   "execution_count": 63,
   "id": "171b8659-c5c3-4927-afc3-655f60e943f8",
   "metadata": {},
   "outputs": [
    {
     "data": {
      "text/plain": [
       "{'Michael Jackson', 'NSYNC', 'Thriller'}"
      ]
     },
     "execution_count": 63,
     "metadata": {},
     "output_type": "execute_result"
    }
   ],
   "source": [
    "album_set.difference(album_set2)"
   ]
  },
  {
   "cell_type": "code",
   "execution_count": 64,
   "id": "2c2f95db-12b2-4509-ab4e-854251c14d30",
   "metadata": {},
   "outputs": [
    {
     "data": {
      "text/plain": [
       "False"
      ]
     },
     "execution_count": 64,
     "metadata": {},
     "output_type": "execute_result"
    }
   ],
   "source": [
    "album_set.issuperset(album_set2)"
   ]
  },
  {
   "cell_type": "code",
   "execution_count": 65,
   "id": "ab80fad5-10b5-4c7e-a2fa-4d78e26e14f3",
   "metadata": {},
   "outputs": [
    {
     "data": {
      "text/plain": [
       "False"
      ]
     },
     "execution_count": 65,
     "metadata": {},
     "output_type": "execute_result"
    }
   ],
   "source": [
    "album_set.issubset(album_set2)"
   ]
  },
  {
   "cell_type": "code",
   "execution_count": 67,
   "id": "487b1843-0562-4e9a-8692-803b661b07bd",
   "metadata": {},
   "outputs": [
    {
     "data": {
      "text/plain": [
       "{'user123', 'user456', 'user789'}"
      ]
     },
     "execution_count": 67,
     "metadata": {},
     "output_type": "execute_result"
    }
   ],
   "source": [
    "visitors = {'user123', 'user456'}\n",
    "visitors.add('user789')\n",
    "visitors"
   ]
  },
  {
   "cell_type": "code",
   "execution_count": null,
   "id": "4995f0f1-6f56-49dd-9f1c-5f92eec42e5e",
   "metadata": {},
   "outputs": [],
   "source": []
  }
 ],
 "metadata": {
  "kernelspec": {
   "display_name": "Python 3 (ipykernel)",
   "language": "python",
   "name": "python3"
  },
  "language_info": {
   "codemirror_mode": {
    "name": "ipython",
    "version": 3
   },
   "file_extension": ".py",
   "mimetype": "text/x-python",
   "name": "python",
   "nbconvert_exporter": "python",
   "pygments_lexer": "ipython3",
   "version": "3.13.5"
  }
 },
 "nbformat": 4,
 "nbformat_minor": 5
}
